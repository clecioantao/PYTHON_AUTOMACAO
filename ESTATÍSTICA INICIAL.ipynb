{
 "cells": [
  {
   "cell_type": "markdown",
   "metadata": {},
   "source": [
    "# ESTATÍSTICA INICIAL"
   ]
  },
  {
   "cell_type": "markdown",
   "metadata": {},
   "source": [
    "# IMPORTAR OS MÓDULOS"
   ]
  },
  {
   "cell_type": "code",
   "execution_count": 1,
   "metadata": {},
   "outputs": [],
   "source": [
    "# IMPORT PARA ANÁLISE\n",
    "import pandas as pd\n",
    "import numpy as np\n",
    "\n",
    "# IMPORT PARA GRÁFICOS\n",
    "import matplotlib.pyplot as plt\n",
    "import seaborn as sn\n",
    "\n",
    "sn.set(style='whitegrid')\n",
    "sn.set_palette('Blues_d', n_colors=10)\n",
    "\n",
    "%matplotlib inline\n",
    "\n",
    "# CONFIGURAÇÃO DO TAMANHO DO GRÁFICO\n",
    "from pylab import rcParams\n",
    "rcParams['figure.figsize'] = 16, 4"
   ]
  },
  {
   "cell_type": "markdown",
   "metadata": {},
   "source": [
    "# CARREGAR A BASE DE DADOS"
   ]
  },
  {
   "cell_type": "code",
   "execution_count": 2,
   "metadata": {},
   "outputs": [],
   "source": [
    "dados = pd.read_csv('2020 alunos.csv')"
   ]
  },
  {
   "cell_type": "markdown",
   "metadata": {},
   "source": [
    "# ANÁLISE DOS DADOS"
   ]
  },
  {
   "cell_type": "code",
   "execution_count": 3,
   "metadata": {},
   "outputs": [
    {
     "data": {
      "text/html": [
       "<div>\n",
       "<style scoped>\n",
       "    .dataframe tbody tr th:only-of-type {\n",
       "        vertical-align: middle;\n",
       "    }\n",
       "\n",
       "    .dataframe tbody tr th {\n",
       "        vertical-align: top;\n",
       "    }\n",
       "\n",
       "    .dataframe thead th {\n",
       "        text-align: right;\n",
       "    }\n",
       "</style>\n",
       "<table border=\"1\" class=\"dataframe\">\n",
       "  <thead>\n",
       "    <tr style=\"text-align: right;\">\n",
       "      <th></th>\n",
       "      <th>nome</th>\n",
       "      <th>idade</th>\n",
       "      <th>classe</th>\n",
       "      <th>matematica</th>\n",
       "      <th>portugues</th>\n",
       "    </tr>\n",
       "  </thead>\n",
       "  <tbody>\n",
       "    <tr>\n",
       "      <th>0</th>\n",
       "      <td>Luiza</td>\n",
       "      <td>16</td>\n",
       "      <td>A</td>\n",
       "      <td>38</td>\n",
       "      <td>56</td>\n",
       "    </tr>\n",
       "    <tr>\n",
       "      <th>1</th>\n",
       "      <td>Enzo</td>\n",
       "      <td>15</td>\n",
       "      <td>A</td>\n",
       "      <td>69</td>\n",
       "      <td>75</td>\n",
       "    </tr>\n",
       "    <tr>\n",
       "      <th>2</th>\n",
       "      <td>Carolina</td>\n",
       "      <td>16</td>\n",
       "      <td>A</td>\n",
       "      <td>24</td>\n",
       "      <td>69</td>\n",
       "    </tr>\n",
       "    <tr>\n",
       "      <th>3</th>\n",
       "      <td>Enzo Gabriel</td>\n",
       "      <td>14</td>\n",
       "      <td>A</td>\n",
       "      <td>78</td>\n",
       "      <td>40</td>\n",
       "    </tr>\n",
       "    <tr>\n",
       "      <th>4</th>\n",
       "      <td>Isadora</td>\n",
       "      <td>14</td>\n",
       "      <td>A</td>\n",
       "      <td>48</td>\n",
       "      <td>77</td>\n",
       "    </tr>\n",
       "    <tr>\n",
       "      <th>5</th>\n",
       "      <td>Fernando</td>\n",
       "      <td>15</td>\n",
       "      <td>A</td>\n",
       "      <td>56</td>\n",
       "      <td>41</td>\n",
       "    </tr>\n",
       "    <tr>\n",
       "      <th>6</th>\n",
       "      <td>Ana Sophia</td>\n",
       "      <td>16</td>\n",
       "      <td>A</td>\n",
       "      <td>60</td>\n",
       "      <td>62</td>\n",
       "    </tr>\n",
       "    <tr>\n",
       "      <th>7</th>\n",
       "      <td>Arthur</td>\n",
       "      <td>14</td>\n",
       "      <td>A</td>\n",
       "      <td>99</td>\n",
       "      <td>63</td>\n",
       "    </tr>\n",
       "    <tr>\n",
       "      <th>8</th>\n",
       "      <td>Sofia</td>\n",
       "      <td>16</td>\n",
       "      <td>A</td>\n",
       "      <td>21</td>\n",
       "      <td>49</td>\n",
       "    </tr>\n",
       "    <tr>\n",
       "      <th>9</th>\n",
       "      <td>Bárbara</td>\n",
       "      <td>15</td>\n",
       "      <td>A</td>\n",
       "      <td>75</td>\n",
       "      <td>41</td>\n",
       "    </tr>\n",
       "  </tbody>\n",
       "</table>\n",
       "</div>"
      ],
      "text/plain": [
       "           nome  idade classe  matematica  portugues\n",
       "0         Luiza     16      A          38         56\n",
       "1          Enzo     15      A          69         75\n",
       "2      Carolina     16      A          24         69\n",
       "3  Enzo Gabriel     14      A          78         40\n",
       "4       Isadora     14      A          48         77\n",
       "5      Fernando     15      A          56         41\n",
       "6    Ana Sophia     16      A          60         62\n",
       "7        Arthur     14      A          99         63\n",
       "8         Sofia     16      A          21         49\n",
       "9       Bárbara     15      A          75         41"
      ]
     },
     "execution_count": 3,
     "metadata": {},
     "output_type": "execute_result"
    }
   ],
   "source": [
    "dados"
   ]
  },
  {
   "cell_type": "code",
   "execution_count": 4,
   "metadata": {},
   "outputs": [
    {
     "name": "stdout",
     "output_type": "stream",
     "text": [
      "<class 'pandas.core.frame.DataFrame'>\n",
      "RangeIndex: 10 entries, 0 to 9\n",
      "Data columns (total 5 columns):\n",
      " #   Column      Non-Null Count  Dtype \n",
      "---  ------      --------------  ----- \n",
      " 0   nome        10 non-null     object\n",
      " 1   idade       10 non-null     int64 \n",
      " 2   classe      10 non-null     object\n",
      " 3   matematica  10 non-null     int64 \n",
      " 4   portugues   10 non-null     int64 \n",
      "dtypes: int64(3), object(2)\n",
      "memory usage: 528.0+ bytes\n"
     ]
    }
   ],
   "source": [
    "dados.info()"
   ]
  },
  {
   "cell_type": "code",
   "execution_count": 5,
   "metadata": {},
   "outputs": [
    {
     "data": {
      "text/html": [
       "<div>\n",
       "<style scoped>\n",
       "    .dataframe tbody tr th:only-of-type {\n",
       "        vertical-align: middle;\n",
       "    }\n",
       "\n",
       "    .dataframe tbody tr th {\n",
       "        vertical-align: top;\n",
       "    }\n",
       "\n",
       "    .dataframe thead th {\n",
       "        text-align: right;\n",
       "    }\n",
       "</style>\n",
       "<table border=\"1\" class=\"dataframe\">\n",
       "  <thead>\n",
       "    <tr style=\"text-align: right;\">\n",
       "      <th></th>\n",
       "      <th>idade</th>\n",
       "      <th>matematica</th>\n",
       "      <th>portugues</th>\n",
       "    </tr>\n",
       "  </thead>\n",
       "  <tbody>\n",
       "    <tr>\n",
       "      <th>count</th>\n",
       "      <td>10.000000</td>\n",
       "      <td>10.000000</td>\n",
       "      <td>10.000000</td>\n",
       "    </tr>\n",
       "    <tr>\n",
       "      <th>mean</th>\n",
       "      <td>15.100000</td>\n",
       "      <td>56.800000</td>\n",
       "      <td>57.300000</td>\n",
       "    </tr>\n",
       "    <tr>\n",
       "      <th>std</th>\n",
       "      <td>0.875595</td>\n",
       "      <td>24.742227</td>\n",
       "      <td>14.118939</td>\n",
       "    </tr>\n",
       "    <tr>\n",
       "      <th>min</th>\n",
       "      <td>14.000000</td>\n",
       "      <td>21.000000</td>\n",
       "      <td>40.000000</td>\n",
       "    </tr>\n",
       "    <tr>\n",
       "      <th>25%</th>\n",
       "      <td>14.250000</td>\n",
       "      <td>40.500000</td>\n",
       "      <td>43.000000</td>\n",
       "    </tr>\n",
       "    <tr>\n",
       "      <th>50%</th>\n",
       "      <td>15.000000</td>\n",
       "      <td>58.000000</td>\n",
       "      <td>59.000000</td>\n",
       "    </tr>\n",
       "    <tr>\n",
       "      <th>75%</th>\n",
       "      <td>16.000000</td>\n",
       "      <td>73.500000</td>\n",
       "      <td>67.500000</td>\n",
       "    </tr>\n",
       "    <tr>\n",
       "      <th>max</th>\n",
       "      <td>16.000000</td>\n",
       "      <td>99.000000</td>\n",
       "      <td>77.000000</td>\n",
       "    </tr>\n",
       "  </tbody>\n",
       "</table>\n",
       "</div>"
      ],
      "text/plain": [
       "           idade  matematica  portugues\n",
       "count  10.000000   10.000000  10.000000\n",
       "mean   15.100000   56.800000  57.300000\n",
       "std     0.875595   24.742227  14.118939\n",
       "min    14.000000   21.000000  40.000000\n",
       "25%    14.250000   40.500000  43.000000\n",
       "50%    15.000000   58.000000  59.000000\n",
       "75%    16.000000   73.500000  67.500000\n",
       "max    16.000000   99.000000  77.000000"
      ]
     },
     "execution_count": 5,
     "metadata": {},
     "output_type": "execute_result"
    }
   ],
   "source": [
    "dados.describe()"
   ]
  },
  {
   "cell_type": "markdown",
   "metadata": {},
   "source": [
    "# CRIANDO UMA FUNÇÃO PARA ANÁLISE"
   ]
  },
  {
   "cell_type": "code",
   "execution_count": 10,
   "metadata": {},
   "outputs": [],
   "source": [
    "def estatistica(dados, coluna):\n",
    "    print('Média: ', dados[coluna].mean())\n",
    "    print('Mediana: ', dados[coluna].median())\n",
    "    if dados[coluna].value_counts().values.max() > 1:\n",
    "        moda = dados[coluna].value_counts()\n",
    "        print('Moda: ', moda[moda == moda.max()])\n",
    "    else:\n",
    "        print('Moda: []')\n",
    "    \n",
    "    print('Máximo: ', dados[coluna].max())\n",
    "    print('Mínimo: ', dados[coluna].min())\n",
    "    print('Variância: ', dados[coluna].var())\n",
    "    print('Desvio Padrão: ', dados[coluna].std())"
   ]
  },
  {
   "cell_type": "code",
   "execution_count": 11,
   "metadata": {},
   "outputs": [
    {
     "name": "stdout",
     "output_type": "stream",
     "text": [
      "Média:  56.8\n",
      "Mediana:  58.0\n",
      "Moda: []\n",
      "Máximo:  99\n",
      "Mínimo:  21\n",
      "Variância:  612.1777777777778\n",
      "Desvio Padrão:  24.742226613176467\n"
     ]
    }
   ],
   "source": [
    "estatistica(dados, 'matematica')"
   ]
  },
  {
   "cell_type": "code",
   "execution_count": 12,
   "metadata": {},
   "outputs": [
    {
     "name": "stdout",
     "output_type": "stream",
     "text": [
      "Média:  57.3\n",
      "Mediana:  59.0\n",
      "Moda:  41    2\n",
      "Name: portugues, dtype: int64\n",
      "Máximo:  77\n",
      "Mínimo:  40\n",
      "Variância:  199.3444444444444\n",
      "Desvio Padrão:  14.118939211018809\n"
     ]
    }
   ],
   "source": [
    "estatistica(dados, 'portugues')"
   ]
  },
  {
   "cell_type": "markdown",
   "metadata": {},
   "source": [
    "# ANÁLISE DA IDADE"
   ]
  },
  {
   "cell_type": "code",
   "execution_count": 13,
   "metadata": {},
   "outputs": [
    {
     "name": "stdout",
     "output_type": "stream",
     "text": [
      "Média:  15.1\n",
      "Mediana:  15.0\n",
      "Moda:  16    4\n",
      "Name: idade, dtype: int64\n",
      "Máximo:  16\n",
      "Mínimo:  14\n",
      "Variância:  0.7666666666666666\n",
      "Desvio Padrão:  0.8755950357709131\n"
     ]
    }
   ],
   "source": [
    "estatistica(dados, 'idade')"
   ]
  },
  {
   "cell_type": "code",
   "execution_count": 15,
   "metadata": {},
   "outputs": [
    {
     "data": {
      "text/plain": [
       "(array([3., 3., 4.]),\n",
       " array([14.        , 14.66666667, 15.33333333, 16.        ]),\n",
       " <a list of 3 Patch objects>)"
      ]
     },
     "execution_count": 15,
     "metadata": {},
     "output_type": "execute_result"
    },
    {
     "data": {
      "image/png": "[encoded data removed]",
      "text/plain": [
       "<Figure size 1152x288 with 1 Axes>"
      ]
     },
     "metadata": {
      "needs_background": "light"
     },
     "output_type": "display_data"
    }
   ],
   "source": [
    "plt.hist(dados['idade'], bins=3)"
   ]
  },
  {
   "cell_type": "markdown",
   "metadata": {},
   "source": [
    "# ANÁLISE DA MATÉRIA MATEMÁTICA"
   ]
  },
  {
   "cell_type": "code",
   "execution_count": 18,
   "metadata": {},
   "outputs": [
    {
     "name": "stdout",
     "output_type": "stream",
     "text": [
      "Média:  56.8\n",
      "Mediana:  58.0\n",
      "Moda: []\n",
      "Máximo:  99\n",
      "Mínimo:  21\n",
      "Variância:  612.1777777777778\n",
      "Desvio Padrão:  24.742226613176467\n"
     ]
    }
   ],
   "source": [
    "materia = 'matematica'\n",
    "\n",
    "estatistica(dados, materia)"
   ]
  },
  {
   "cell_type": "code",
   "execution_count": 20,
   "metadata": {},
   "outputs": [
    {
     "data": {
      "text/plain": [
       "(array([3., 4., 3.]), array([21., 47., 73., 99.]), <a list of 3 Patch objects>)"
      ]
     },
     "execution_count": 20,
     "metadata": {},
     "output_type": "execute_result"
    },
    {
     "data": {
      "image/png": "[encoded data removed]",
      "text/plain": [
       "<Figure size 1152x288 with 1 Axes>"
      ]
     },
     "metadata": {
      "needs_background": "light"
     },
     "output_type": "display_data"
    }
   ],
   "source": [
    "plt.hist(dados[materia], bins=3)"
   ]
  },
  {
   "cell_type": "code",
   "execution_count": 24,
   "metadata": {},
   "outputs": [
    {
     "data": {
      "text/plain": [
       "[<matplotlib.lines.Line2D at 0x184d8371988>]"
      ]
     },
     "execution_count": 24,
     "metadata": {},
     "output_type": "execute_result"
    },
    {
     "data": {
      "image/png": "[encoded data removed]",
      "text/plain": [
       "<Figure size 1152x288 with 1 Axes>"
      ]
     },
     "metadata": {
      "needs_background": "light"
     },
     "output_type": "display_data"
    }
   ],
   "source": [
    "sn.barplot('nome', materia, data=dados.sort_values(materia))\n",
    "plt.plot(list(range(10)), [float(dados[materia].mean())]*10)"
   ]
  },
  {
   "cell_type": "markdown",
   "metadata": {},
   "source": [
    "# ANÁLISE DA MATÉRIA PORTUGUÊS"
   ]
  },
  {
   "cell_type": "code",
   "execution_count": 25,
   "metadata": {},
   "outputs": [
    {
     "name": "stdout",
     "output_type": "stream",
     "text": [
      "Média:  57.3\n",
      "Mediana:  59.0\n",
      "Moda:  41    2\n",
      "Name: portugues, dtype: int64\n",
      "Máximo:  77\n",
      "Mínimo:  40\n",
      "Variância:  199.3444444444444\n",
      "Desvio Padrão:  14.118939211018809\n"
     ]
    }
   ],
   "source": [
    "materia = 'portugues'\n",
    "\n",
    "estatistica(dados, materia)"
   ]
  },
  {
   "cell_type": "code",
   "execution_count": 26,
   "metadata": {},
   "outputs": [
    {
     "data": {
      "text/plain": [
       "(array([4., 3., 3.]),\n",
       " array([40.        , 52.33333333, 64.66666667, 77.        ]),\n",
       " <a list of 3 Patch objects>)"
      ]
     },
     "execution_count": 26,
     "metadata": {},
     "output_type": "execute_result"
    },
    {
     "data": {
      "image/png": "[encoded data removed]",
      "text/plain": [
       "<Figure size 1152x288 with 1 Axes>"
      ]
     },
     "metadata": {
      "needs_background": "light"
     },
     "output_type": "display_data"
    }
   ],
   "source": [
    "plt.hist(dados[materia], bins=3)"
   ]
  },
  {
   "cell_type": "code",
   "execution_count": 27,
   "metadata": {},
   "outputs": [
    {
     "data": {
      "text/plain": [
       "[<matplotlib.lines.Line2D at 0x184d5b85d48>]"
      ]
     },
     "execution_count": 27,
     "metadata": {},
     "output_type": "execute_result"
    },
    {
     "data": {
      "image/png": "[encoded data removed]",
      "text/plain": [
       "<Figure size 1152x288 with 1 Axes>"
      ]
     },
     "metadata": {
      "needs_background": "light"
     },
     "output_type": "display_data"
    }
   ],
   "source": [
    "sn.barplot('nome', materia, data=dados.sort_values(materia))\n",
    "plt.plot(list(range(10)), [float(dados[materia].mean())]*10)"
   ]
  },
  {
   "cell_type": "markdown",
   "metadata": {},
   "source": [
    "# ANÁLISE DAS DUAS MATÉRIAS"
   ]
  },
  {
   "cell_type": "code",
   "execution_count": 29,
   "metadata": {},
   "outputs": [
    {
     "data": {
      "text/plain": [
       "<BarContainer object of 10 artists>"
      ]
     },
     "execution_count": 29,
     "metadata": {},
     "output_type": "execute_result"
    },
    {
     "data": {
      "image/png": "[encoded data removed]",
      "text/plain": [
       "<Figure size 1152x288 with 1 Axes>"
      ]
     },
     "metadata": {
      "needs_background": "light"
     },
     "output_type": "display_data"
    }
   ],
   "source": [
    "plt.bar(x=dados['nome'], height=dados['matematica'], width=0.5, align='center')\n",
    "plt.bar(x=dados['nome'], height=dados['portugues'], width=0.5, align='edge')"
   ]
  },
  {
   "cell_type": "code",
   "execution_count": 30,
   "metadata": {},
   "outputs": [
    {
     "data": {
      "text/html": [
       "<div>\n",
       "<style scoped>\n",
       "    .dataframe tbody tr th:only-of-type {\n",
       "        vertical-align: middle;\n",
       "    }\n",
       "\n",
       "    .dataframe tbody tr th {\n",
       "        vertical-align: top;\n",
       "    }\n",
       "\n",
       "    .dataframe thead th {\n",
       "        text-align: right;\n",
       "    }\n",
       "</style>\n",
       "<table border=\"1\" class=\"dataframe\">\n",
       "  <thead>\n",
       "    <tr style=\"text-align: right;\">\n",
       "      <th></th>\n",
       "      <th>matematica</th>\n",
       "      <th>portugues</th>\n",
       "    </tr>\n",
       "  </thead>\n",
       "  <tbody>\n",
       "    <tr>\n",
       "      <th>count</th>\n",
       "      <td>10.000000</td>\n",
       "      <td>10.000000</td>\n",
       "    </tr>\n",
       "    <tr>\n",
       "      <th>mean</th>\n",
       "      <td>56.800000</td>\n",
       "      <td>57.300000</td>\n",
       "    </tr>\n",
       "    <tr>\n",
       "      <th>std</th>\n",
       "      <td>24.742227</td>\n",
       "      <td>14.118939</td>\n",
       "    </tr>\n",
       "    <tr>\n",
       "      <th>min</th>\n",
       "      <td>21.000000</td>\n",
       "      <td>40.000000</td>\n",
       "    </tr>\n",
       "    <tr>\n",
       "      <th>25%</th>\n",
       "      <td>40.500000</td>\n",
       "      <td>43.000000</td>\n",
       "    </tr>\n",
       "    <tr>\n",
       "      <th>50%</th>\n",
       "      <td>58.000000</td>\n",
       "      <td>59.000000</td>\n",
       "    </tr>\n",
       "    <tr>\n",
       "      <th>75%</th>\n",
       "      <td>73.500000</td>\n",
       "      <td>67.500000</td>\n",
       "    </tr>\n",
       "    <tr>\n",
       "      <th>max</th>\n",
       "      <td>99.000000</td>\n",
       "      <td>77.000000</td>\n",
       "    </tr>\n",
       "  </tbody>\n",
       "</table>\n",
       "</div>"
      ],
      "text/plain": [
       "       matematica  portugues\n",
       "count   10.000000  10.000000\n",
       "mean    56.800000  57.300000\n",
       "std     24.742227  14.118939\n",
       "min     21.000000  40.000000\n",
       "25%     40.500000  43.000000\n",
       "50%     58.000000  59.000000\n",
       "75%     73.500000  67.500000\n",
       "max     99.000000  77.000000"
      ]
     },
     "execution_count": 30,
     "metadata": {},
     "output_type": "execute_result"
    }
   ],
   "source": [
    "dados[['matematica', 'portugues']].describe()"
   ]
  },
  {
   "cell_type": "markdown",
   "metadata": {},
   "source": [
    "# NORMALIZAR OS DADOS"
   ]
  },
  {
   "cell_type": "code",
   "execution_count": 31,
   "metadata": {},
   "outputs": [],
   "source": [
    "dp = dados['matematica'].std()"
   ]
  },
  {
   "cell_type": "code",
   "execution_count": 32,
   "metadata": {},
   "outputs": [
    {
     "data": {
      "text/plain": [
       "24.742226613176467"
      ]
     },
     "execution_count": 32,
     "metadata": {},
     "output_type": "execute_result"
    }
   ],
   "source": [
    "dp"
   ]
  },
  {
   "cell_type": "code",
   "execution_count": 33,
   "metadata": {},
   "outputs": [],
   "source": [
    "dados['m'] = dados['matematica'] - dados['matematica'].mean()"
   ]
  },
  {
   "cell_type": "code",
   "execution_count": 36,
   "metadata": {},
   "outputs": [
    {
     "data": {
      "text/html": [
       "<div>\n",
       "<style scoped>\n",
       "    .dataframe tbody tr th:only-of-type {\n",
       "        vertical-align: middle;\n",
       "    }\n",
       "\n",
       "    .dataframe tbody tr th {\n",
       "        vertical-align: top;\n",
       "    }\n",
       "\n",
       "    .dataframe thead th {\n",
       "        text-align: right;\n",
       "    }\n",
       "</style>\n",
       "<table border=\"1\" class=\"dataframe\">\n",
       "  <thead>\n",
       "    <tr style=\"text-align: right;\">\n",
       "      <th></th>\n",
       "      <th>nome</th>\n",
       "      <th>idade</th>\n",
       "      <th>classe</th>\n",
       "      <th>matematica</th>\n",
       "      <th>portugues</th>\n",
       "      <th>m</th>\n",
       "    </tr>\n",
       "  </thead>\n",
       "  <tbody>\n",
       "    <tr>\n",
       "      <th>0</th>\n",
       "      <td>Luiza</td>\n",
       "      <td>16</td>\n",
       "      <td>A</td>\n",
       "      <td>38</td>\n",
       "      <td>56</td>\n",
       "      <td>-0.759835</td>\n",
       "    </tr>\n",
       "    <tr>\n",
       "      <th>1</th>\n",
       "      <td>Enzo</td>\n",
       "      <td>15</td>\n",
       "      <td>A</td>\n",
       "      <td>69</td>\n",
       "      <td>75</td>\n",
       "      <td>0.493084</td>\n",
       "    </tr>\n",
       "    <tr>\n",
       "      <th>2</th>\n",
       "      <td>Carolina</td>\n",
       "      <td>16</td>\n",
       "      <td>A</td>\n",
       "      <td>24</td>\n",
       "      <td>69</td>\n",
       "      <td>-1.325669</td>\n",
       "    </tr>\n",
       "    <tr>\n",
       "      <th>3</th>\n",
       "      <td>Enzo Gabriel</td>\n",
       "      <td>14</td>\n",
       "      <td>A</td>\n",
       "      <td>78</td>\n",
       "      <td>40</td>\n",
       "      <td>0.856835</td>\n",
       "    </tr>\n",
       "    <tr>\n",
       "      <th>4</th>\n",
       "      <td>Isadora</td>\n",
       "      <td>14</td>\n",
       "      <td>A</td>\n",
       "      <td>48</td>\n",
       "      <td>77</td>\n",
       "      <td>-0.355667</td>\n",
       "    </tr>\n",
       "    <tr>\n",
       "      <th>5</th>\n",
       "      <td>Fernando</td>\n",
       "      <td>15</td>\n",
       "      <td>A</td>\n",
       "      <td>56</td>\n",
       "      <td>41</td>\n",
       "      <td>-0.032333</td>\n",
       "    </tr>\n",
       "    <tr>\n",
       "      <th>6</th>\n",
       "      <td>Ana Sophia</td>\n",
       "      <td>16</td>\n",
       "      <td>A</td>\n",
       "      <td>60</td>\n",
       "      <td>62</td>\n",
       "      <td>0.129334</td>\n",
       "    </tr>\n",
       "    <tr>\n",
       "      <th>7</th>\n",
       "      <td>Arthur</td>\n",
       "      <td>14</td>\n",
       "      <td>A</td>\n",
       "      <td>99</td>\n",
       "      <td>63</td>\n",
       "      <td>1.705586</td>\n",
       "    </tr>\n",
       "    <tr>\n",
       "      <th>8</th>\n",
       "      <td>Sofia</td>\n",
       "      <td>16</td>\n",
       "      <td>A</td>\n",
       "      <td>21</td>\n",
       "      <td>49</td>\n",
       "      <td>-1.446919</td>\n",
       "    </tr>\n",
       "    <tr>\n",
       "      <th>9</th>\n",
       "      <td>Bárbara</td>\n",
       "      <td>15</td>\n",
       "      <td>A</td>\n",
       "      <td>75</td>\n",
       "      <td>41</td>\n",
       "      <td>0.735585</td>\n",
       "    </tr>\n",
       "  </tbody>\n",
       "</table>\n",
       "</div>"
      ],
      "text/plain": [
       "           nome  idade classe  matematica  portugues         m\n",
       "0         Luiza     16      A          38         56 -0.759835\n",
       "1          Enzo     15      A          69         75  0.493084\n",
       "2      Carolina     16      A          24         69 -1.325669\n",
       "3  Enzo Gabriel     14      A          78         40  0.856835\n",
       "4       Isadora     14      A          48         77 -0.355667\n",
       "5      Fernando     15      A          56         41 -0.032333\n",
       "6    Ana Sophia     16      A          60         62  0.129334\n",
       "7        Arthur     14      A          99         63  1.705586\n",
       "8         Sofia     16      A          21         49 -1.446919\n",
       "9       Bárbara     15      A          75         41  0.735585"
      ]
     },
     "execution_count": 36,
     "metadata": {},
     "output_type": "execute_result"
    }
   ],
   "source": [
    "dados"
   ]
  },
  {
   "cell_type": "code",
   "execution_count": 35,
   "metadata": {},
   "outputs": [],
   "source": [
    "dados['m'] = dados['m'] / dp"
   ]
  },
  {
   "cell_type": "code",
   "execution_count": 38,
   "metadata": {},
   "outputs": [
    {
     "data": {
      "text/plain": [
       "count    10.0\n",
       "mean      0.0\n",
       "std       1.0\n",
       "min      -1.0\n",
       "25%      -1.0\n",
       "50%       0.0\n",
       "75%       1.0\n",
       "max       2.0\n",
       "Name: m, dtype: float64"
      ]
     },
     "execution_count": 38,
     "metadata": {},
     "output_type": "execute_result"
    }
   ],
   "source": [
    "dados['m'].describe().round()"
   ]
  },
  {
   "cell_type": "code",
   "execution_count": 39,
   "metadata": {},
   "outputs": [],
   "source": [
    "dp = dados['portugues'].std()"
   ]
  },
  {
   "cell_type": "code",
   "execution_count": 40,
   "metadata": {},
   "outputs": [
    {
     "data": {
      "text/plain": [
       "14.118939211018809"
      ]
     },
     "execution_count": 40,
     "metadata": {},
     "output_type": "execute_result"
    }
   ],
   "source": [
    "dp"
   ]
  },
  {
   "cell_type": "code",
   "execution_count": 41,
   "metadata": {},
   "outputs": [],
   "source": [
    "dados['p'] = dados['portugues'] - dados['portugues'].mean()"
   ]
  },
  {
   "cell_type": "code",
   "execution_count": 42,
   "metadata": {},
   "outputs": [
    {
     "data": {
      "text/html": [
       "<div>\n",
       "<style scoped>\n",
       "    .dataframe tbody tr th:only-of-type {\n",
       "        vertical-align: middle;\n",
       "    }\n",
       "\n",
       "    .dataframe tbody tr th {\n",
       "        vertical-align: top;\n",
       "    }\n",
       "\n",
       "    .dataframe thead th {\n",
       "        text-align: right;\n",
       "    }\n",
       "</style>\n",
       "<table border=\"1\" class=\"dataframe\">\n",
       "  <thead>\n",
       "    <tr style=\"text-align: right;\">\n",
       "      <th></th>\n",
       "      <th>nome</th>\n",
       "      <th>idade</th>\n",
       "      <th>classe</th>\n",
       "      <th>matematica</th>\n",
       "      <th>portugues</th>\n",
       "      <th>m</th>\n",
       "      <th>p</th>\n",
       "    </tr>\n",
       "  </thead>\n",
       "  <tbody>\n",
       "    <tr>\n",
       "      <th>0</th>\n",
       "      <td>Luiza</td>\n",
       "      <td>16</td>\n",
       "      <td>A</td>\n",
       "      <td>38</td>\n",
       "      <td>56</td>\n",
       "      <td>-0.759835</td>\n",
       "      <td>-1.3</td>\n",
       "    </tr>\n",
       "    <tr>\n",
       "      <th>1</th>\n",
       "      <td>Enzo</td>\n",
       "      <td>15</td>\n",
       "      <td>A</td>\n",
       "      <td>69</td>\n",
       "      <td>75</td>\n",
       "      <td>0.493084</td>\n",
       "      <td>17.7</td>\n",
       "    </tr>\n",
       "    <tr>\n",
       "      <th>2</th>\n",
       "      <td>Carolina</td>\n",
       "      <td>16</td>\n",
       "      <td>A</td>\n",
       "      <td>24</td>\n",
       "      <td>69</td>\n",
       "      <td>-1.325669</td>\n",
       "      <td>11.7</td>\n",
       "    </tr>\n",
       "    <tr>\n",
       "      <th>3</th>\n",
       "      <td>Enzo Gabriel</td>\n",
       "      <td>14</td>\n",
       "      <td>A</td>\n",
       "      <td>78</td>\n",
       "      <td>40</td>\n",
       "      <td>0.856835</td>\n",
       "      <td>-17.3</td>\n",
       "    </tr>\n",
       "    <tr>\n",
       "      <th>4</th>\n",
       "      <td>Isadora</td>\n",
       "      <td>14</td>\n",
       "      <td>A</td>\n",
       "      <td>48</td>\n",
       "      <td>77</td>\n",
       "      <td>-0.355667</td>\n",
       "      <td>19.7</td>\n",
       "    </tr>\n",
       "    <tr>\n",
       "      <th>5</th>\n",
       "      <td>Fernando</td>\n",
       "      <td>15</td>\n",
       "      <td>A</td>\n",
       "      <td>56</td>\n",
       "      <td>41</td>\n",
       "      <td>-0.032333</td>\n",
       "      <td>-16.3</td>\n",
       "    </tr>\n",
       "    <tr>\n",
       "      <th>6</th>\n",
       "      <td>Ana Sophia</td>\n",
       "      <td>16</td>\n",
       "      <td>A</td>\n",
       "      <td>60</td>\n",
       "      <td>62</td>\n",
       "      <td>0.129334</td>\n",
       "      <td>4.7</td>\n",
       "    </tr>\n",
       "    <tr>\n",
       "      <th>7</th>\n",
       "      <td>Arthur</td>\n",
       "      <td>14</td>\n",
       "      <td>A</td>\n",
       "      <td>99</td>\n",
       "      <td>63</td>\n",
       "      <td>1.705586</td>\n",
       "      <td>5.7</td>\n",
       "    </tr>\n",
       "    <tr>\n",
       "      <th>8</th>\n",
       "      <td>Sofia</td>\n",
       "      <td>16</td>\n",
       "      <td>A</td>\n",
       "      <td>21</td>\n",
       "      <td>49</td>\n",
       "      <td>-1.446919</td>\n",
       "      <td>-8.3</td>\n",
       "    </tr>\n",
       "    <tr>\n",
       "      <th>9</th>\n",
       "      <td>Bárbara</td>\n",
       "      <td>15</td>\n",
       "      <td>A</td>\n",
       "      <td>75</td>\n",
       "      <td>41</td>\n",
       "      <td>0.735585</td>\n",
       "      <td>-16.3</td>\n",
       "    </tr>\n",
       "  </tbody>\n",
       "</table>\n",
       "</div>"
      ],
      "text/plain": [
       "           nome  idade classe  matematica  portugues         m     p\n",
       "0         Luiza     16      A          38         56 -0.759835  -1.3\n",
       "1          Enzo     15      A          69         75  0.493084  17.7\n",
       "2      Carolina     16      A          24         69 -1.325669  11.7\n",
       "3  Enzo Gabriel     14      A          78         40  0.856835 -17.3\n",
       "4       Isadora     14      A          48         77 -0.355667  19.7\n",
       "5      Fernando     15      A          56         41 -0.032333 -16.3\n",
       "6    Ana Sophia     16      A          60         62  0.129334   4.7\n",
       "7        Arthur     14      A          99         63  1.705586   5.7\n",
       "8         Sofia     16      A          21         49 -1.446919  -8.3\n",
       "9       Bárbara     15      A          75         41  0.735585 -16.3"
      ]
     },
     "execution_count": 42,
     "metadata": {},
     "output_type": "execute_result"
    }
   ],
   "source": [
    "dados"
   ]
  },
  {
   "cell_type": "code",
   "execution_count": 43,
   "metadata": {},
   "outputs": [],
   "source": [
    "dados['p'] = dados['p'] / dp"
   ]
  },
  {
   "cell_type": "code",
   "execution_count": 45,
   "metadata": {},
   "outputs": [
    {
     "data": {
      "text/plain": [
       "count    10.0\n",
       "mean      0.0\n",
       "std       1.0\n",
       "min      -1.0\n",
       "25%      -1.0\n",
       "50%       0.0\n",
       "75%       1.0\n",
       "max       1.0\n",
       "Name: p, dtype: float64"
      ]
     },
     "execution_count": 45,
     "metadata": {},
     "output_type": "execute_result"
    }
   ],
   "source": [
    "dados['p'].describe().round()"
   ]
  },
  {
   "cell_type": "code",
   "execution_count": 47,
   "metadata": {},
   "outputs": [
    {
     "data": {
      "text/plain": [
       "(array([3., 4., 3.]),\n",
       " array([-1.44691909, -0.396084  ,  0.6547511 ,  1.70558619]),\n",
       " <a list of 3 Patch objects>)"
      ]
     },
     "execution_count": 47,
     "metadata": {},
     "output_type": "execute_result"
    },
    {
     "data": {
      "image/png": "[encoded data removed]",
      "text/plain": [
       "<Figure size 1152x288 with 1 Axes>"
      ]
     },
     "metadata": {
      "needs_background": "light"
     },
     "output_type": "display_data"
    }
   ],
   "source": [
    "plt.hist(dados['m'], bins=3)"
   ]
  },
  {
   "cell_type": "code",
   "execution_count": 48,
   "metadata": {},
   "outputs": [
    {
     "data": {
      "text/plain": [
       "(array([4., 3., 3.]),\n",
       " array([-1.22530452, -0.35177336,  0.5217578 ,  1.39528896]),\n",
       " <a list of 3 Patch objects>)"
      ]
     },
     "execution_count": 48,
     "metadata": {},
     "output_type": "execute_result"
    },
    {
     "data": {
      "image/png": "[encoded data removed]",
      "text/plain": [
       "<Figure size 1152x288 with 1 Axes>"
      ]
     },
     "metadata": {
      "needs_background": "light"
     },
     "output_type": "display_data"
    }
   ],
   "source": [
    "plt.hist(dados['p'], bins=3)"
   ]
  },
  {
   "cell_type": "markdown",
   "metadata": {},
   "source": [
    "# DESVIO PADRÃO 1 E MÉDIA 0"
   ]
  },
  {
   "cell_type": "code",
   "execution_count": 50,
   "metadata": {},
   "outputs": [
    {
     "data": {
      "text/plain": [
       "<BarContainer object of 10 artists>"
      ]
     },
     "execution_count": 50,
     "metadata": {},
     "output_type": "execute_result"
    },
    {
     "data": {
      "image/png": "[encoded data removed]",
      "text/plain": [
       "<Figure size 1152x288 with 1 Axes>"
      ]
     },
     "metadata": {
      "needs_background": "light"
     },
     "output_type": "display_data"
    }
   ],
   "source": [
    "plt.bar(x=dados['nome'], height=dados['m'], width=0.5, align='center')\n",
    "plt.bar(x=dados['nome'], height=dados['p'], width=0.5, align='edge')"
   ]
  },
  {
   "cell_type": "markdown",
   "metadata": {},
   "source": [
    "# TRANSFORMAR O DESVIO PADRÃO E A MÉDIA"
   ]
  },
  {
   "cell_type": "code",
   "execution_count": 51,
   "metadata": {},
   "outputs": [],
   "source": [
    "dados['m'] *= 10\n",
    "dados['m'] += 50"
   ]
  },
  {
   "cell_type": "code",
   "execution_count": 52,
   "metadata": {},
   "outputs": [
    {
     "data": {
      "text/html": [
       "<div>\n",
       "<style scoped>\n",
       "    .dataframe tbody tr th:only-of-type {\n",
       "        vertical-align: middle;\n",
       "    }\n",
       "\n",
       "    .dataframe tbody tr th {\n",
       "        vertical-align: top;\n",
       "    }\n",
       "\n",
       "    .dataframe thead th {\n",
       "        text-align: right;\n",
       "    }\n",
       "</style>\n",
       "<table border=\"1\" class=\"dataframe\">\n",
       "  <thead>\n",
       "    <tr style=\"text-align: right;\">\n",
       "      <th></th>\n",
       "      <th>nome</th>\n",
       "      <th>idade</th>\n",
       "      <th>classe</th>\n",
       "      <th>matematica</th>\n",
       "      <th>portugues</th>\n",
       "      <th>m</th>\n",
       "      <th>p</th>\n",
       "    </tr>\n",
       "  </thead>\n",
       "  <tbody>\n",
       "    <tr>\n",
       "      <th>0</th>\n",
       "      <td>Luiza</td>\n",
       "      <td>16</td>\n",
       "      <td>A</td>\n",
       "      <td>38</td>\n",
       "      <td>56</td>\n",
       "      <td>42.401654</td>\n",
       "      <td>-0.092075</td>\n",
       "    </tr>\n",
       "    <tr>\n",
       "      <th>1</th>\n",
       "      <td>Enzo</td>\n",
       "      <td>15</td>\n",
       "      <td>A</td>\n",
       "      <td>69</td>\n",
       "      <td>75</td>\n",
       "      <td>54.930842</td>\n",
       "      <td>1.253635</td>\n",
       "    </tr>\n",
       "    <tr>\n",
       "      <th>2</th>\n",
       "      <td>Carolina</td>\n",
       "      <td>16</td>\n",
       "      <td>A</td>\n",
       "      <td>24</td>\n",
       "      <td>69</td>\n",
       "      <td>36.743311</td>\n",
       "      <td>0.828674</td>\n",
       "    </tr>\n",
       "    <tr>\n",
       "      <th>3</th>\n",
       "      <td>Enzo Gabriel</td>\n",
       "      <td>14</td>\n",
       "      <td>A</td>\n",
       "      <td>78</td>\n",
       "      <td>40</td>\n",
       "      <td>58.568348</td>\n",
       "      <td>-1.225305</td>\n",
       "    </tr>\n",
       "    <tr>\n",
       "      <th>4</th>\n",
       "      <td>Isadora</td>\n",
       "      <td>14</td>\n",
       "      <td>A</td>\n",
       "      <td>48</td>\n",
       "      <td>77</td>\n",
       "      <td>46.443327</td>\n",
       "      <td>1.395289</td>\n",
       "    </tr>\n",
       "    <tr>\n",
       "      <th>5</th>\n",
       "      <td>Fernando</td>\n",
       "      <td>15</td>\n",
       "      <td>A</td>\n",
       "      <td>56</td>\n",
       "      <td>41</td>\n",
       "      <td>49.676666</td>\n",
       "      <td>-1.154478</td>\n",
       "    </tr>\n",
       "    <tr>\n",
       "      <th>6</th>\n",
       "      <td>Ana Sophia</td>\n",
       "      <td>16</td>\n",
       "      <td>A</td>\n",
       "      <td>60</td>\n",
       "      <td>62</td>\n",
       "      <td>51.293335</td>\n",
       "      <td>0.332886</td>\n",
       "    </tr>\n",
       "    <tr>\n",
       "      <th>7</th>\n",
       "      <td>Arthur</td>\n",
       "      <td>14</td>\n",
       "      <td>A</td>\n",
       "      <td>99</td>\n",
       "      <td>63</td>\n",
       "      <td>67.055862</td>\n",
       "      <td>0.403713</td>\n",
       "    </tr>\n",
       "    <tr>\n",
       "      <th>8</th>\n",
       "      <td>Sofia</td>\n",
       "      <td>16</td>\n",
       "      <td>A</td>\n",
       "      <td>21</td>\n",
       "      <td>49</td>\n",
       "      <td>35.530809</td>\n",
       "      <td>-0.587863</td>\n",
       "    </tr>\n",
       "    <tr>\n",
       "      <th>9</th>\n",
       "      <td>Bárbara</td>\n",
       "      <td>15</td>\n",
       "      <td>A</td>\n",
       "      <td>75</td>\n",
       "      <td>41</td>\n",
       "      <td>57.355846</td>\n",
       "      <td>-1.154478</td>\n",
       "    </tr>\n",
       "  </tbody>\n",
       "</table>\n",
       "</div>"
      ],
      "text/plain": [
       "           nome  idade classe  matematica  portugues          m         p\n",
       "0         Luiza     16      A          38         56  42.401654 -0.092075\n",
       "1          Enzo     15      A          69         75  54.930842  1.253635\n",
       "2      Carolina     16      A          24         69  36.743311  0.828674\n",
       "3  Enzo Gabriel     14      A          78         40  58.568348 -1.225305\n",
       "4       Isadora     14      A          48         77  46.443327  1.395289\n",
       "5      Fernando     15      A          56         41  49.676666 -1.154478\n",
       "6    Ana Sophia     16      A          60         62  51.293335  0.332886\n",
       "7        Arthur     14      A          99         63  67.055862  0.403713\n",
       "8         Sofia     16      A          21         49  35.530809 -0.587863\n",
       "9       Bárbara     15      A          75         41  57.355846 -1.154478"
      ]
     },
     "execution_count": 52,
     "metadata": {},
     "output_type": "execute_result"
    }
   ],
   "source": [
    "dados"
   ]
  },
  {
   "cell_type": "code",
   "execution_count": 53,
   "metadata": {},
   "outputs": [],
   "source": [
    "dados['p'] *= 10\n",
    "dados['p'] += 50"
   ]
  },
  {
   "cell_type": "code",
   "execution_count": 55,
   "metadata": {},
   "outputs": [
    {
     "data": {
      "text/plain": [
       "<BarContainer object of 10 artists>"
      ]
     },
     "execution_count": 55,
     "metadata": {},
     "output_type": "execute_result"
    },
    {
     "data": {
      "image/png": "[encoded data removed]",
      "text/plain": [
       "<Figure size 1152x288 with 1 Axes>"
      ]
     },
     "metadata": {
      "needs_background": "light"
     },
     "output_type": "display_data"
    }
   ],
   "source": [
    "plt.bar(x=dados['nome'], height=dados['m'], width=0.5, align='center')\n",
    "plt.bar(x=dados['nome'], height=dados['p'], width=0.5, align='edge')"
   ]
  },
  {
   "cell_type": "code",
   "execution_count": 56,
   "metadata": {},
   "outputs": [],
   "source": [
    "dados['media'] = dados[['m', 'p']].apply(lambda x: (x[0] + x[1])/2, axis=1)"
   ]
  },
  {
   "cell_type": "code",
   "execution_count": 57,
   "metadata": {},
   "outputs": [
    {
     "data": {
      "text/html": [
       "<div>\n",
       "<style scoped>\n",
       "    .dataframe tbody tr th:only-of-type {\n",
       "        vertical-align: middle;\n",
       "    }\n",
       "\n",
       "    .dataframe tbody tr th {\n",
       "        vertical-align: top;\n",
       "    }\n",
       "\n",
       "    .dataframe thead th {\n",
       "        text-align: right;\n",
       "    }\n",
       "</style>\n",
       "<table border=\"1\" class=\"dataframe\">\n",
       "  <thead>\n",
       "    <tr style=\"text-align: right;\">\n",
       "      <th></th>\n",
       "      <th>nome</th>\n",
       "      <th>idade</th>\n",
       "      <th>classe</th>\n",
       "      <th>matematica</th>\n",
       "      <th>portugues</th>\n",
       "      <th>m</th>\n",
       "      <th>p</th>\n",
       "      <th>media</th>\n",
       "    </tr>\n",
       "  </thead>\n",
       "  <tbody>\n",
       "    <tr>\n",
       "      <th>0</th>\n",
       "      <td>Luiza</td>\n",
       "      <td>16</td>\n",
       "      <td>A</td>\n",
       "      <td>38</td>\n",
       "      <td>56</td>\n",
       "      <td>42.401654</td>\n",
       "      <td>49.079251</td>\n",
       "      <td>45.740452</td>\n",
       "    </tr>\n",
       "    <tr>\n",
       "      <th>1</th>\n",
       "      <td>Enzo</td>\n",
       "      <td>15</td>\n",
       "      <td>A</td>\n",
       "      <td>69</td>\n",
       "      <td>75</td>\n",
       "      <td>54.930842</td>\n",
       "      <td>62.536353</td>\n",
       "      <td>58.733597</td>\n",
       "    </tr>\n",
       "    <tr>\n",
       "      <th>2</th>\n",
       "      <td>Carolina</td>\n",
       "      <td>16</td>\n",
       "      <td>A</td>\n",
       "      <td>24</td>\n",
       "      <td>69</td>\n",
       "      <td>36.743311</td>\n",
       "      <td>58.286742</td>\n",
       "      <td>47.515026</td>\n",
       "    </tr>\n",
       "    <tr>\n",
       "      <th>3</th>\n",
       "      <td>Enzo Gabriel</td>\n",
       "      <td>14</td>\n",
       "      <td>A</td>\n",
       "      <td>78</td>\n",
       "      <td>40</td>\n",
       "      <td>58.568348</td>\n",
       "      <td>37.746955</td>\n",
       "      <td>48.157651</td>\n",
       "    </tr>\n",
       "    <tr>\n",
       "      <th>4</th>\n",
       "      <td>Isadora</td>\n",
       "      <td>14</td>\n",
       "      <td>A</td>\n",
       "      <td>48</td>\n",
       "      <td>77</td>\n",
       "      <td>46.443327</td>\n",
       "      <td>63.952890</td>\n",
       "      <td>55.198108</td>\n",
       "    </tr>\n",
       "    <tr>\n",
       "      <th>5</th>\n",
       "      <td>Fernando</td>\n",
       "      <td>15</td>\n",
       "      <td>A</td>\n",
       "      <td>56</td>\n",
       "      <td>41</td>\n",
       "      <td>49.676666</td>\n",
       "      <td>38.455223</td>\n",
       "      <td>44.065945</td>\n",
       "    </tr>\n",
       "    <tr>\n",
       "      <th>6</th>\n",
       "      <td>Ana Sophia</td>\n",
       "      <td>16</td>\n",
       "      <td>A</td>\n",
       "      <td>60</td>\n",
       "      <td>62</td>\n",
       "      <td>51.293335</td>\n",
       "      <td>53.328862</td>\n",
       "      <td>52.311099</td>\n",
       "    </tr>\n",
       "    <tr>\n",
       "      <th>7</th>\n",
       "      <td>Arthur</td>\n",
       "      <td>14</td>\n",
       "      <td>A</td>\n",
       "      <td>99</td>\n",
       "      <td>63</td>\n",
       "      <td>67.055862</td>\n",
       "      <td>54.037130</td>\n",
       "      <td>60.546496</td>\n",
       "    </tr>\n",
       "    <tr>\n",
       "      <th>8</th>\n",
       "      <td>Sofia</td>\n",
       "      <td>16</td>\n",
       "      <td>A</td>\n",
       "      <td>21</td>\n",
       "      <td>49</td>\n",
       "      <td>35.530809</td>\n",
       "      <td>44.121371</td>\n",
       "      <td>39.826090</td>\n",
       "    </tr>\n",
       "    <tr>\n",
       "      <th>9</th>\n",
       "      <td>Bárbara</td>\n",
       "      <td>15</td>\n",
       "      <td>A</td>\n",
       "      <td>75</td>\n",
       "      <td>41</td>\n",
       "      <td>57.355846</td>\n",
       "      <td>38.455223</td>\n",
       "      <td>47.905534</td>\n",
       "    </tr>\n",
       "  </tbody>\n",
       "</table>\n",
       "</div>"
      ],
      "text/plain": [
       "           nome  idade classe  matematica  portugues          m          p  \\\n",
       "0         Luiza     16      A          38         56  42.401654  49.079251   \n",
       "1          Enzo     15      A          69         75  54.930842  62.536353   \n",
       "2      Carolina     16      A          24         69  36.743311  58.286742   \n",
       "3  Enzo Gabriel     14      A          78         40  58.568348  37.746955   \n",
       "4       Isadora     14      A          48         77  46.443327  63.952890   \n",
       "5      Fernando     15      A          56         41  49.676666  38.455223   \n",
       "6    Ana Sophia     16      A          60         62  51.293335  53.328862   \n",
       "7        Arthur     14      A          99         63  67.055862  54.037130   \n",
       "8         Sofia     16      A          21         49  35.530809  44.121371   \n",
       "9       Bárbara     15      A          75         41  57.355846  38.455223   \n",
       "\n",
       "       media  \n",
       "0  45.740452  \n",
       "1  58.733597  \n",
       "2  47.515026  \n",
       "3  48.157651  \n",
       "4  55.198108  \n",
       "5  44.065945  \n",
       "6  52.311099  \n",
       "7  60.546496  \n",
       "8  39.826090  \n",
       "9  47.905534  "
      ]
     },
     "execution_count": 57,
     "metadata": {},
     "output_type": "execute_result"
    }
   ],
   "source": [
    "dados"
   ]
  },
  {
   "cell_type": "code",
   "execution_count": 59,
   "metadata": {},
   "outputs": [
    {
     "data": {
      "text/plain": [
       "<matplotlib.axes._subplots.AxesSubplot at 0x184dba6ba88>"
      ]
     },
     "execution_count": 59,
     "metadata": {},
     "output_type": "execute_result"
    },
    {
     "data": {
      "image/png": "[encoded data removed]",
      "text/plain": [
       "<Figure size 1152x288 with 1 Axes>"
      ]
     },
     "metadata": {
      "needs_background": "light"
     },
     "output_type": "display_data"
    }
   ],
   "source": [
    "sn.barplot(x='nome', y='media', data=dados.sort_values('media'))"
   ]
  },
  {
   "cell_type": "code",
   "execution_count": 60,
   "metadata": {},
   "outputs": [
    {
     "data": {
      "text/plain": [
       "<matplotlib.axes._subplots.AxesSubplot at 0x184db74d0c8>"
      ]
     },
     "execution_count": 60,
     "metadata": {},
     "output_type": "execute_result"
    },
    {
     "data": {
      "image/png": "[encoded data removed]",
      "text/plain": [
       "<Figure size 1152x288 with 1 Axes>"
      ]
     },
     "metadata": {
      "needs_background": "light"
     },
     "output_type": "display_data"
    }
   ],
   "source": [
    "dados.sort_values('media', inplace=True)\n",
    "\n",
    "dados[['nome', 'matematica', 'portugues', 'media']].plot(kind='bar', x='nome')"
   ]
  },
  {
   "cell_type": "code",
   "execution_count": null,
   "metadata": {},
   "outputs": [],
   "source": []
  },
  {
   "cell_type": "code",
   "execution_count": null,
   "metadata": {},
   "outputs": [],
   "source": []
  },
  {
   "cell_type": "code",
   "execution_count": null,
   "metadata": {},
   "outputs": [],
   "source": []
  },
  {
   "cell_type": "code",
   "execution_count": null,
   "metadata": {},
   "outputs": [],
   "source": []
  }
 ],
 "metadata": {
  "kernelspec": {
   "display_name": "Python 3",
   "language": "python",
   "name": "python3"
  },
  "language_info": {
   "codemirror_mode": {
    "name": "ipython",
    "version": 3
   },
   "file_extension": ".py",
   "mimetype": "text/x-python",
   "name": "python",
   "nbconvert_exporter": "python",
   "pygments_lexer": "ipython3",
   "version": "3.7.7"
  }
 },
 "nbformat": 4,
 "nbformat_minor": 4
}
