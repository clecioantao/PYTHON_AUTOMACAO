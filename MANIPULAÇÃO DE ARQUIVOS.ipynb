{
 "cells": [
  {
   "cell_type": "markdown",
   "metadata": {},
   "source": [
    "# MANIPULAÇÃO DE ARQUIVOS"
   ]
  },
  {
   "cell_type": "markdown",
   "metadata": {},
   "source": [
    "# IMPORTAR OS MÓDULOS"
   ]
  },
  {
   "cell_type": "code",
   "execution_count": 1,
   "metadata": {},
   "outputs": [],
   "source": [
    "# IMPORT PARA MANIPULAR DIRETÓRIOS\n",
    "import os\n",
    "\n",
    "# IMPORT PARA MANIPULAR ARQUIVOS\n",
    "import shutil as cp\n",
    "\n",
    "# IMPORT PARA COMPACTAR ARQUIVOS E DIRETÓRIOS\n",
    "import zipfile as zip"
   ]
  },
  {
   "cell_type": "markdown",
   "metadata": {},
   "source": [
    "# LER UM ARQUIVO TEXTO"
   ]
  },
  {
   "cell_type": "code",
   "execution_count": 2,
   "metadata": {},
   "outputs": [
    {
     "name": "stdout",
     "output_type": "stream",
     "text": [
      "nome,idade,classe,matematica,portugues\n",
      "Luiza,16,A,38,56\n",
      "Enzo,15,A,69,75\n",
      "Carolina,16,A,24,69\n",
      "Enzo Gabriel,14,A,78,40\n",
      "Isadora,14,A,48,77\n",
      "Fernando,15,A,56,41\n",
      "Ana Sophia,16,A,60,62\n",
      "Arthur,14,A,99,63\n",
      "Sofia,16,A,21,49\n",
      "Bárbara,15,A,75,41\n",
      "\n"
     ]
    }
   ],
   "source": [
    "# LER UM ARQUIVO TEXTO\n",
    "\n",
    "arquivo = open('2020 alunos.csv', 'r', encoding='utf-8')\n",
    "txt = arquivo.read()\n",
    "arquivo.close()\n",
    "print(txt)"
   ]
  },
  {
   "cell_type": "markdown",
   "metadata": {},
   "source": [
    "# MANIPULANDO ARQUIVO TEXTO"
   ]
  },
  {
   "cell_type": "code",
   "execution_count": 3,
   "metadata": {},
   "outputs": [
    {
     "name": "stdout",
     "output_type": "stream",
     "text": [
      "nome,idade,classe,matematica,portugues\n",
      "\n",
      "Luiza,16,A,38,56\n",
      "\n",
      "Enzo,15,A,69,75\n",
      "\n",
      "Carolina,16,A,24,69\n",
      "\n",
      "Enzo Gabriel,14,A,78,40\n",
      "\n",
      "Isadora,14,A,48,77\n",
      "\n",
      "Fernando,15,A,56,41\n",
      "\n",
      "Ana Sophia,16,A,60,62\n",
      "\n",
      "Arthur,14,A,99,63\n",
      "\n",
      "Sofia,16,A,21,49\n",
      "\n",
      "Bárbara,15,A,75,41\n",
      "\n",
      "\n",
      "\n"
     ]
    }
   ],
   "source": [
    "# QUEBRAR TEXTO EM LINHA\n",
    "\n",
    "for vl in txt.split('\\n'):\n",
    "    print(vl)\n",
    "    print()"
   ]
  },
  {
   "cell_type": "code",
   "execution_count": 4,
   "metadata": {},
   "outputs": [
    {
     "name": "stdout",
     "output_type": "stream",
     "text": [
      "['nome', 'idade', 'classe', 'matematica', 'portugues']\n",
      "\n",
      "['Luiza', '16', 'A', '38', '56']\n",
      "\n",
      "['Enzo', '15', 'A', '69', '75']\n",
      "\n",
      "['Carolina', '16', 'A', '24', '69']\n",
      "\n",
      "['Enzo Gabriel', '14', 'A', '78', '40']\n",
      "\n",
      "['Isadora', '14', 'A', '48', '77']\n",
      "\n",
      "['Fernando', '15', 'A', '56', '41']\n",
      "\n",
      "['Ana Sophia', '16', 'A', '60', '62']\n",
      "\n",
      "['Arthur', '14', 'A', '99', '63']\n",
      "\n",
      "['Sofia', '16', 'A', '21', '49']\n",
      "\n",
      "['Bárbara', '15', 'A', '75', '41']\n",
      "\n",
      "['']\n",
      "\n"
     ]
    }
   ],
   "source": [
    "# QUEBRAR TEXTO EM LINHA E COLUNAS\n",
    "\n",
    "for vl in txt.split('\\n'):\n",
    "    print(vl.split(','))\n",
    "    print()"
   ]
  },
  {
   "cell_type": "code",
   "execution_count": 5,
   "metadata": {},
   "outputs": [
    {
     "name": "stdout",
     "output_type": "stream",
     "text": [
      "nome\n",
      "Luiza\n",
      "Enzo\n",
      "Carolina\n",
      "Enzo Gabriel\n",
      "Isadora\n",
      "Fernando\n",
      "Ana Sophia\n",
      "Arthur\n",
      "Sofia\n",
      "Bárbara\n",
      "\n"
     ]
    }
   ],
   "source": [
    "# QUEBRAR TEXTO EM LINHA E COLUNAS E PEGAR O NOME\n",
    "\n",
    "for vl in txt.split('\\n'):\n",
    "    print(vl.split(',')[0])"
   ]
  },
  {
   "cell_type": "code",
   "execution_count": 6,
   "metadata": {},
   "outputs": [
    {
     "data": {
      "text/plain": [
       "['nome',\n",
       " 'Luiza',\n",
       " 'Enzo',\n",
       " 'Carolina',\n",
       " 'Enzo Gabriel',\n",
       " 'Isadora',\n",
       " 'Fernando',\n",
       " 'Ana Sophia',\n",
       " 'Arthur',\n",
       " 'Sofia',\n",
       " 'Bárbara']"
      ]
     },
     "execution_count": 6,
     "metadata": {},
     "output_type": "execute_result"
    }
   ],
   "source": [
    "# QUEBRAR TEXTO EM LINHAS E COLUNAS E PEGAR O NOME\n",
    "\n",
    "nomes = []\n",
    "for vl in txt.split('\\n'):\n",
    "    if len(vl) > 0:\n",
    "        nomes.append(vl.split(',')[0])\n",
    "        \n",
    "nomes"
   ]
  },
  {
   "cell_type": "code",
   "execution_count": 7,
   "metadata": {},
   "outputs": [
    {
     "data": {
      "text/plain": [
       "'nome - Luiza - Enzo - Carolina - Enzo Gabriel - Isadora - Fernando - Ana Sophia - Arthur - Sofia - Bárbara - '"
      ]
     },
     "execution_count": 7,
     "metadata": {},
     "output_type": "execute_result"
    }
   ],
   "source": [
    "# JUNTAR ARQUIVOS EM UMA VARIÁVEL \n",
    "\n",
    "txt = ''\n",
    "for vl in nomes:\n",
    "    txt += vl + ' - '\n",
    "    \n",
    "txt"
   ]
  },
  {
   "cell_type": "code",
   "execution_count": 8,
   "metadata": {},
   "outputs": [
    {
     "data": {
      "text/plain": [
       "'nome - Luiza - Enzo - Carolina - Enzo Gabriel - Isadora - Fernando - Ana Sophia - Arthur - Sofia - Bárbara'"
      ]
     },
     "execution_count": 8,
     "metadata": {},
     "output_type": "execute_result"
    }
   ],
   "source": [
    "txt = ' - '.join(nomes)\n",
    "txt"
   ]
  },
  {
   "cell_type": "markdown",
   "metadata": {},
   "source": [
    "# GRAVAR UM ARQUIVO TEXTO"
   ]
  },
  {
   "cell_type": "code",
   "execution_count": 9,
   "metadata": {},
   "outputs": [],
   "source": [
    "# GRAVAR UM ARQUIVO TEXTO\n",
    "\n",
    "arquivo = open('2020 Nomes.txt', 'w', encoding='ansi')\n",
    "arquivo.write(txt)\n",
    "arquivo.close()"
   ]
  },
  {
   "cell_type": "code",
   "execution_count": 10,
   "metadata": {},
   "outputs": [
    {
     "data": {
      "text/plain": [
       "'nome - Luiza - Enzo - Carolina - Enzo Gabriel - Isadora - Fernando - Ana Sophia - Arthur - Sofia - Bárbara'"
      ]
     },
     "execution_count": 10,
     "metadata": {},
     "output_type": "execute_result"
    }
   ],
   "source": [
    "txt"
   ]
  },
  {
   "cell_type": "markdown",
   "metadata": {},
   "source": [
    "# MANIPULAÇÃO DE ARQUIVOS"
   ]
  },
  {
   "cell_type": "code",
   "execution_count": 11,
   "metadata": {},
   "outputs": [
    {
     "data": {
      "text/plain": [
       "'C:\\\\Users\\\\tiago\\\\Documents\\\\MILENNIUN_FALCON\\\\_CURSOS'"
      ]
     },
     "execution_count": 11,
     "metadata": {},
     "output_type": "execute_result"
    }
   ],
   "source": [
    "# VERIFICAR O DIRETÓRIO ATUAL\n",
    "\n",
    "os.getcwd()"
   ]
  },
  {
   "cell_type": "code",
   "execution_count": 12,
   "metadata": {},
   "outputs": [
    {
     "data": {
      "text/plain": [
       "['.ipynb_checkpoints',\n",
       " '2020 alunos.csv',\n",
       " '2020 Nomes.txt',\n",
       " 'enve',\n",
       " 'ESTATÍSTICA INICIAL.ipynb',\n",
       " 'MANIPULAÇÃO DE ARQUIVOS.ipynb',\n",
       " 'requerimentos.txt']"
      ]
     },
     "execution_count": 12,
     "metadata": {},
     "output_type": "execute_result"
    }
   ],
   "source": [
    "# LISTAR OS ARQUIVOS DO DIRETÓRIO\n",
    "\n",
    "os.listdir()"
   ]
  },
  {
   "cell_type": "code",
   "execution_count": 13,
   "metadata": {},
   "outputs": [
    {
     "data": {
      "text/plain": [
       "False"
      ]
     },
     "execution_count": 13,
     "metadata": {},
     "output_type": "execute_result"
    }
   ],
   "source": [
    "# VERIFICAR SE EXISTE UM ARQUIVO OU PASTA\n",
    "\n",
    "os.path.exists('backup')"
   ]
  },
  {
   "cell_type": "code",
   "execution_count": 14,
   "metadata": {},
   "outputs": [
    {
     "data": {
      "text/plain": [
       "False"
      ]
     },
     "execution_count": 14,
     "metadata": {},
     "output_type": "execute_result"
    }
   ],
   "source": [
    "os.path.exists('backup.zip')"
   ]
  },
  {
   "cell_type": "code",
   "execution_count": 15,
   "metadata": {},
   "outputs": [
    {
     "data": {
      "text/plain": [
       "True"
      ]
     },
     "execution_count": 15,
     "metadata": {},
     "output_type": "execute_result"
    }
   ],
   "source": [
    "os.path.exists('2020 Nomes.txt')"
   ]
  },
  {
   "cell_type": "markdown",
   "metadata": {},
   "source": [
    "# CRIAR UMA PASTA OU LISTA DE PASTAS"
   ]
  },
  {
   "cell_type": "code",
   "execution_count": 20,
   "metadata": {},
   "outputs": [],
   "source": [
    "# CRIAR UMA PASTA\n",
    "\n",
    "os.mkdir('backup')"
   ]
  },
  {
   "cell_type": "code",
   "execution_count": 21,
   "metadata": {},
   "outputs": [
    {
     "data": {
      "text/plain": [
       "['.ipynb_checkpoints',\n",
       " '2020 alunos.csv',\n",
       " '2020 Nomes.txt',\n",
       " 'backup',\n",
       " 'enve',\n",
       " 'ESTATÍSTICA INICIAL.ipynb',\n",
       " 'MANIPULAÇÃO DE ARQUIVOS.ipynb',\n",
       " 'requerimentos.txt']"
      ]
     },
     "execution_count": 21,
     "metadata": {},
     "output_type": "execute_result"
    }
   ],
   "source": [
    "os.listdir()"
   ]
  },
  {
   "cell_type": "code",
   "execution_count": 22,
   "metadata": {},
   "outputs": [],
   "source": [
    "# DELETAR UMA PASTA\n",
    "\n",
    "os.removedirs('backup')"
   ]
  },
  {
   "cell_type": "code",
   "execution_count": 23,
   "metadata": {},
   "outputs": [
    {
     "data": {
      "text/plain": [
       "['.ipynb_checkpoints',\n",
       " '2020 alunos.csv',\n",
       " '2020 Nomes.txt',\n",
       " 'enve',\n",
       " 'ESTATÍSTICA INICIAL.ipynb',\n",
       " 'MANIPULAÇÃO DE ARQUIVOS.ipynb',\n",
       " 'requerimentos.txt']"
      ]
     },
     "execution_count": 23,
     "metadata": {},
     "output_type": "execute_result"
    }
   ],
   "source": [
    "os.listdir()"
   ]
  },
  {
   "cell_type": "code",
   "execution_count": 24,
   "metadata": {},
   "outputs": [],
   "source": [
    "# CRIAR UMA PASTA E UMA SUBPASTA\n",
    "\n",
    "os.makedirs('backup//01')"
   ]
  },
  {
   "cell_type": "code",
   "execution_count": 25,
   "metadata": {},
   "outputs": [
    {
     "data": {
      "text/plain": [
       "['.ipynb_checkpoints',\n",
       " '2020 alunos.csv',\n",
       " '2020 Nomes.txt',\n",
       " 'backup',\n",
       " 'enve',\n",
       " 'ESTATÍSTICA INICIAL.ipynb',\n",
       " 'MANIPULAÇÃO DE ARQUIVOS.ipynb',\n",
       " 'requerimentos.txt']"
      ]
     },
     "execution_count": 25,
     "metadata": {},
     "output_type": "execute_result"
    }
   ],
   "source": [
    "os.listdir()"
   ]
  },
  {
   "cell_type": "code",
   "execution_count": 26,
   "metadata": {},
   "outputs": [
    {
     "data": {
      "text/plain": [
       "['01']"
      ]
     },
     "execution_count": 26,
     "metadata": {},
     "output_type": "execute_result"
    }
   ],
   "source": [
    "os.listdir('backup')"
   ]
  },
  {
   "cell_type": "code",
   "execution_count": 27,
   "metadata": {},
   "outputs": [],
   "source": [
    "# DELETAR UMA PASTA E SUBPASTA\n",
    "\n",
    "os.removedirs('backup//01')"
   ]
  },
  {
   "cell_type": "code",
   "execution_count": 28,
   "metadata": {},
   "outputs": [
    {
     "data": {
      "text/plain": [
       "['.ipynb_checkpoints',\n",
       " '2020 alunos.csv',\n",
       " '2020 Nomes.txt',\n",
       " 'enve',\n",
       " 'ESTATÍSTICA INICIAL.ipynb',\n",
       " 'MANIPULAÇÃO DE ARQUIVOS.ipynb',\n",
       " 'requerimentos.txt']"
      ]
     },
     "execution_count": 28,
     "metadata": {},
     "output_type": "execute_result"
    }
   ],
   "source": [
    "os.listdir()"
   ]
  },
  {
   "cell_type": "code",
   "execution_count": 29,
   "metadata": {},
   "outputs": [],
   "source": [
    "# CRIAR UMA PASTA E ACESSAR ELA\n",
    "\n",
    "os.mkdir('backup')"
   ]
  },
  {
   "cell_type": "code",
   "execution_count": 30,
   "metadata": {},
   "outputs": [
    {
     "data": {
      "text/plain": [
       "['.ipynb_checkpoints',\n",
       " '2020 alunos.csv',\n",
       " '2020 Nomes.txt',\n",
       " 'backup',\n",
       " 'enve',\n",
       " 'ESTATÍSTICA INICIAL.ipynb',\n",
       " 'MANIPULAÇÃO DE ARQUIVOS.ipynb',\n",
       " 'requerimentos.txt']"
      ]
     },
     "execution_count": 30,
     "metadata": {},
     "output_type": "execute_result"
    }
   ],
   "source": [
    "os.listdir()"
   ]
  },
  {
   "cell_type": "code",
   "execution_count": 31,
   "metadata": {},
   "outputs": [],
   "source": [
    "os.chdir('backup')"
   ]
  },
  {
   "cell_type": "code",
   "execution_count": 32,
   "metadata": {},
   "outputs": [
    {
     "data": {
      "text/plain": [
       "[]"
      ]
     },
     "execution_count": 32,
     "metadata": {},
     "output_type": "execute_result"
    }
   ],
   "source": [
    "os.listdir()"
   ]
  },
  {
   "cell_type": "code",
   "execution_count": 33,
   "metadata": {},
   "outputs": [
    {
     "data": {
      "text/plain": [
       "'C:\\\\Users\\\\tiago\\\\Documents\\\\MILENNIUN_FALCON\\\\_CURSOS\\\\backup'"
      ]
     },
     "execution_count": 33,
     "metadata": {},
     "output_type": "execute_result"
    }
   ],
   "source": [
    "os.getcwd()"
   ]
  },
  {
   "cell_type": "code",
   "execution_count": 35,
   "metadata": {},
   "outputs": [],
   "source": [
    "os.chdir('..')"
   ]
  },
  {
   "cell_type": "code",
   "execution_count": 36,
   "metadata": {},
   "outputs": [
    {
     "data": {
      "text/plain": [
       "['.ipynb_checkpoints',\n",
       " '2020 alunos.csv',\n",
       " '2020 Nomes.txt',\n",
       " 'backup',\n",
       " 'enve',\n",
       " 'ESTATÍSTICA INICIAL.ipynb',\n",
       " 'MANIPULAÇÃO DE ARQUIVOS.ipynb',\n",
       " 'requerimentos.txt']"
      ]
     },
     "execution_count": 36,
     "metadata": {},
     "output_type": "execute_result"
    }
   ],
   "source": [
    "os.listdir()"
   ]
  },
  {
   "cell_type": "code",
   "execution_count": 37,
   "metadata": {},
   "outputs": [
    {
     "data": {
      "text/plain": [
       "'C:\\\\Users\\\\tiago\\\\Documents\\\\MILENNIUN_FALCON\\\\_CURSOS'"
      ]
     },
     "execution_count": 37,
     "metadata": {},
     "output_type": "execute_result"
    }
   ],
   "source": [
    "os.getcwd()"
   ]
  },
  {
   "cell_type": "markdown",
   "metadata": {},
   "source": [
    "# COPIAR E MOVER ARQUIVOS"
   ]
  },
  {
   "cell_type": "code",
   "execution_count": 41,
   "metadata": {},
   "outputs": [
    {
     "data": {
      "text/plain": [
       "['.ipynb_checkpoints',\n",
       " '2020 alunos.csv',\n",
       " '2020 Nomes.txt',\n",
       " 'backup',\n",
       " 'enve',\n",
       " 'ESTATÍSTICA INICIAL.ipynb',\n",
       " 'MANIPULAÇÃO DE ARQUIVOS.ipynb',\n",
       " 'requerimentos.txt']"
      ]
     },
     "execution_count": 41,
     "metadata": {},
     "output_type": "execute_result"
    }
   ],
   "source": [
    "os.listdir()"
   ]
  },
  {
   "cell_type": "code",
   "execution_count": 42,
   "metadata": {},
   "outputs": [
    {
     "data": {
      "text/plain": [
       "'backup\\\\2020 Nomes.txt'"
      ]
     },
     "execution_count": 42,
     "metadata": {},
     "output_type": "execute_result"
    }
   ],
   "source": [
    "# COPIAR UM ARQUIVO\n",
    "\n",
    "cp.copy('2020 Nomes.txt', 'backup')"
   ]
  },
  {
   "cell_type": "code",
   "execution_count": 43,
   "metadata": {},
   "outputs": [
    {
     "data": {
      "text/plain": [
       "'backup\\\\2020 alunos.csv'"
      ]
     },
     "execution_count": 43,
     "metadata": {},
     "output_type": "execute_result"
    }
   ],
   "source": [
    "cp.copy('2020 alunos.csv', 'backup')"
   ]
  },
  {
   "cell_type": "code",
   "execution_count": 44,
   "metadata": {},
   "outputs": [],
   "source": [
    "os.chdir('backup')"
   ]
  },
  {
   "cell_type": "code",
   "execution_count": 45,
   "metadata": {},
   "outputs": [
    {
     "data": {
      "text/plain": [
       "['2020 alunos.csv', '2020 Nomes.txt']"
      ]
     },
     "execution_count": 45,
     "metadata": {},
     "output_type": "execute_result"
    }
   ],
   "source": [
    "os.listdir()"
   ]
  },
  {
   "cell_type": "code",
   "execution_count": 46,
   "metadata": {},
   "outputs": [],
   "source": [
    "# MULTIPLICAR OS ARQUIVOS\n",
    "\n",
    "for arquivo in os.listdir():\n",
    "    for num in range(10):\n",
    "        extensao = arquivo[-4:]\n",
    "        nome = arquivo[:-4]\n",
    "        cp.copy(arquivo, '{0} {1} {2}'.format(nome, num, extensao))"
   ]
  },
  {
   "cell_type": "code",
   "execution_count": 47,
   "metadata": {},
   "outputs": [
    {
     "data": {
      "text/plain": [
       "['2020 alunos 0 .csv',\n",
       " '2020 alunos 1 .csv',\n",
       " '2020 alunos 2 .csv',\n",
       " '2020 alunos 3 .csv',\n",
       " '2020 alunos 4 .csv',\n",
       " '2020 alunos 5 .csv',\n",
       " '2020 alunos 6 .csv',\n",
       " '2020 alunos 7 .csv',\n",
       " '2020 alunos 8 .csv',\n",
       " '2020 alunos 9 .csv',\n",
       " '2020 alunos.csv',\n",
       " '2020 Nomes 0 .txt',\n",
       " '2020 Nomes 1 .txt',\n",
       " '2020 Nomes 2 .txt',\n",
       " '2020 Nomes 3 .txt',\n",
       " '2020 Nomes 4 .txt',\n",
       " '2020 Nomes 5 .txt',\n",
       " '2020 Nomes 6 .txt',\n",
       " '2020 Nomes 7 .txt',\n",
       " '2020 Nomes 8 .txt',\n",
       " '2020 Nomes 9 .txt',\n",
       " '2020 Nomes.txt']"
      ]
     },
     "execution_count": 47,
     "metadata": {},
     "output_type": "execute_result"
    }
   ],
   "source": [
    "os.listdir()"
   ]
  },
  {
   "cell_type": "code",
   "execution_count": 48,
   "metadata": {},
   "outputs": [
    {
     "data": {
      "text/plain": [
       "22"
      ]
     },
     "execution_count": 48,
     "metadata": {},
     "output_type": "execute_result"
    }
   ],
   "source": [
    "len(os.listdir())"
   ]
  },
  {
   "cell_type": "markdown",
   "metadata": {},
   "source": [
    "# LISTAR ARQUIVOS USANDO CORINGA"
   ]
  },
  {
   "cell_type": "code",
   "execution_count": 49,
   "metadata": {},
   "outputs": [
    {
     "name": "stdout",
     "output_type": "stream",
     "text": [
      "2020 alunos 0 .csv\n",
      "2020 alunos 1 .csv\n",
      "2020 alunos 2 .csv\n",
      "2020 alunos 3 .csv\n",
      "2020 alunos 4 .csv\n",
      "2020 alunos 5 .csv\n",
      "2020 alunos 6 .csv\n",
      "2020 alunos 7 .csv\n",
      "2020 alunos 8 .csv\n",
      "2020 alunos 9 .csv\n",
      "2020 alunos.csv\n"
     ]
    }
   ],
   "source": [
    "# LISTAR ARQUIVOS USANDO PESQUISA DE TEXTO\n",
    "\n",
    "for arq in os.listdir():\n",
    "    if arq.find('.csv') > 0:\n",
    "        print(arq)"
   ]
  },
  {
   "cell_type": "markdown",
   "metadata": {},
   "source": [
    "# DELETAR ARQUIVOS"
   ]
  },
  {
   "cell_type": "code",
   "execution_count": 50,
   "metadata": {},
   "outputs": [],
   "source": [
    "# DELETAR UM ARQUIVO\n",
    "\n",
    "os.remove('2020 Nomes.txt')"
   ]
  },
  {
   "cell_type": "code",
   "execution_count": 51,
   "metadata": {},
   "outputs": [
    {
     "data": {
      "text/plain": [
       "['2020 alunos 0 .csv',\n",
       " '2020 alunos 1 .csv',\n",
       " '2020 alunos 2 .csv',\n",
       " '2020 alunos 3 .csv',\n",
       " '2020 alunos 4 .csv',\n",
       " '2020 alunos 5 .csv',\n",
       " '2020 alunos 6 .csv',\n",
       " '2020 alunos 7 .csv',\n",
       " '2020 alunos 8 .csv',\n",
       " '2020 alunos 9 .csv',\n",
       " '2020 alunos.csv',\n",
       " '2020 Nomes 0 .txt',\n",
       " '2020 Nomes 1 .txt',\n",
       " '2020 Nomes 2 .txt',\n",
       " '2020 Nomes 3 .txt',\n",
       " '2020 Nomes 4 .txt',\n",
       " '2020 Nomes 5 .txt',\n",
       " '2020 Nomes 6 .txt',\n",
       " '2020 Nomes 7 .txt',\n",
       " '2020 Nomes 8 .txt',\n",
       " '2020 Nomes 9 .txt']"
      ]
     },
     "execution_count": 51,
     "metadata": {},
     "output_type": "execute_result"
    }
   ],
   "source": [
    "os.listdir()"
   ]
  },
  {
   "cell_type": "code",
   "execution_count": 52,
   "metadata": {},
   "outputs": [],
   "source": [
    "# DELETAR TODOS OS ARQUIVOS\n",
    "\n",
    "for arq in os.listdir():\n",
    "    if arq.find('.csv') > 0:\n",
    "        os.remove(arq)"
   ]
  },
  {
   "cell_type": "code",
   "execution_count": 53,
   "metadata": {},
   "outputs": [
    {
     "data": {
      "text/plain": [
       "['2020 Nomes 0 .txt',\n",
       " '2020 Nomes 1 .txt',\n",
       " '2020 Nomes 2 .txt',\n",
       " '2020 Nomes 3 .txt',\n",
       " '2020 Nomes 4 .txt',\n",
       " '2020 Nomes 5 .txt',\n",
       " '2020 Nomes 6 .txt',\n",
       " '2020 Nomes 7 .txt',\n",
       " '2020 Nomes 8 .txt',\n",
       " '2020 Nomes 9 .txt']"
      ]
     },
     "execution_count": 53,
     "metadata": {},
     "output_type": "execute_result"
    }
   ],
   "source": [
    "os.listdir()"
   ]
  },
  {
   "cell_type": "markdown",
   "metadata": {},
   "source": [
    "# COMPACTAR E DESCOMPACTAR ARQUIVOS"
   ]
  },
  {
   "cell_type": "code",
   "execution_count": 54,
   "metadata": {},
   "outputs": [],
   "source": [
    "# COMPACTAR UM ARQUIVO\n",
    "\n",
    "novo = zip.ZipFile('zip01.zip', 'w', zip.ZIP_DEFLATED)\n",
    "novo.write('2020 Nomes 0 .txt')\n",
    "novo.close()"
   ]
  },
  {
   "cell_type": "code",
   "execution_count": 55,
   "metadata": {},
   "outputs": [
    {
     "data": {
      "text/plain": [
       "['2020 Nomes 0 .txt',\n",
       " '2020 Nomes 1 .txt',\n",
       " '2020 Nomes 2 .txt',\n",
       " '2020 Nomes 3 .txt',\n",
       " '2020 Nomes 4 .txt',\n",
       " '2020 Nomes 5 .txt',\n",
       " '2020 Nomes 6 .txt',\n",
       " '2020 Nomes 7 .txt',\n",
       " '2020 Nomes 8 .txt',\n",
       " '2020 Nomes 9 .txt',\n",
       " 'zip01.zip']"
      ]
     },
     "execution_count": 55,
     "metadata": {},
     "output_type": "execute_result"
    }
   ],
   "source": [
    "os.listdir()"
   ]
  },
  {
   "cell_type": "code",
   "execution_count": 56,
   "metadata": {},
   "outputs": [],
   "source": [
    "# COMPACTAR TODOS OS ARQUIVOS\n",
    "\n",
    "novo = zip.ZipFile('zip02.zip', 'w', zip.ZIP_DEFLATED)\n",
    "\n",
    "for a in os.listdir():\n",
    "    if str(a).count('.txt') > 0:\n",
    "        novo.write(a)\n",
    "        \n",
    "novo.close()"
   ]
  },
  {
   "cell_type": "code",
   "execution_count": 57,
   "metadata": {},
   "outputs": [
    {
     "data": {
      "text/plain": [
       "['2020 Nomes 0 .txt',\n",
       " '2020 Nomes 1 .txt',\n",
       " '2020 Nomes 2 .txt',\n",
       " '2020 Nomes 3 .txt',\n",
       " '2020 Nomes 4 .txt',\n",
       " '2020 Nomes 5 .txt',\n",
       " '2020 Nomes 6 .txt',\n",
       " '2020 Nomes 7 .txt',\n",
       " '2020 Nomes 8 .txt',\n",
       " '2020 Nomes 9 .txt',\n",
       " 'zip01.zip',\n",
       " 'zip02.zip']"
      ]
     },
     "execution_count": 57,
     "metadata": {},
     "output_type": "execute_result"
    }
   ],
   "source": [
    "os.listdir()"
   ]
  },
  {
   "cell_type": "code",
   "execution_count": 58,
   "metadata": {},
   "outputs": [],
   "source": [
    "# LER O ARQUIVO ZIP\n",
    "\n",
    "novo = zip.ZipFile('zip02.zip', 'r', zip.ZIP_DEFLATED)"
   ]
  },
  {
   "cell_type": "code",
   "execution_count": 59,
   "metadata": {},
   "outputs": [
    {
     "data": {
      "text/plain": [
       "[<ZipInfo filename='2020 Nomes 0 .txt' compress_type=deflate filemode='-rw-rw-rw-' file_size=106 compress_size=85>,\n",
       " <ZipInfo filename='2020 Nomes 1 .txt' compress_type=deflate filemode='-rw-rw-rw-' file_size=106 compress_size=85>,\n",
       " <ZipInfo filename='2020 Nomes 2 .txt' compress_type=deflate filemode='-rw-rw-rw-' file_size=106 compress_size=85>,\n",
       " <ZipInfo filename='2020 Nomes 3 .txt' compress_type=deflate filemode='-rw-rw-rw-' file_size=106 compress_size=85>,\n",
       " <ZipInfo filename='2020 Nomes 4 .txt' compress_type=deflate filemode='-rw-rw-rw-' file_size=106 compress_size=85>,\n",
       " <ZipInfo filename='2020 Nomes 5 .txt' compress_type=deflate filemode='-rw-rw-rw-' file_size=106 compress_size=85>,\n",
       " <ZipInfo filename='2020 Nomes 6 .txt' compress_type=deflate filemode='-rw-rw-rw-' file_size=106 compress_size=85>,\n",
       " <ZipInfo filename='2020 Nomes 7 .txt' compress_type=deflate filemode='-rw-rw-rw-' file_size=106 compress_size=85>,\n",
       " <ZipInfo filename='2020 Nomes 8 .txt' compress_type=deflate filemode='-rw-rw-rw-' file_size=106 compress_size=85>,\n",
       " <ZipInfo filename='2020 Nomes 9 .txt' compress_type=deflate filemode='-rw-rw-rw-' file_size=106 compress_size=85>]"
      ]
     },
     "execution_count": 59,
     "metadata": {},
     "output_type": "execute_result"
    }
   ],
   "source": [
    "# LISTAR O ARQUIVOS DO ZIP\n",
    "\n",
    "novo.filelist"
   ]
  },
  {
   "cell_type": "code",
   "execution_count": 60,
   "metadata": {},
   "outputs": [
    {
     "data": {
      "text/plain": [
       "'C:\\\\Users\\\\tiago\\\\Documents\\\\MILENNIUN_FALCON\\\\_CURSOS\\\\backup\\\\2020 Nomes 0 .txt'"
      ]
     },
     "execution_count": 60,
     "metadata": {},
     "output_type": "execute_result"
    }
   ],
   "source": [
    "# DESCOMPACTAR UM ARQUIVOS DO ZIP\n",
    "\n",
    "novo.extract('2020 Nomes 0 .txt')"
   ]
  },
  {
   "cell_type": "code",
   "execution_count": 61,
   "metadata": {},
   "outputs": [],
   "source": [
    "# DESCOMPACTAR TODOS ARQUIVOS DO ZIP\n",
    "\n",
    "novo.extractall()"
   ]
  },
  {
   "cell_type": "markdown",
   "metadata": {},
   "source": [
    "# COMPACTAR UMA PASTA E SEUS ARQUIVOS"
   ]
  },
  {
   "cell_type": "code",
   "execution_count": 62,
   "metadata": {},
   "outputs": [],
   "source": [
    "# CRIAR UMA PASTA\n",
    "\n",
    "os.mkdir('backupzip')"
   ]
  },
  {
   "cell_type": "code",
   "execution_count": 63,
   "metadata": {},
   "outputs": [
    {
     "data": {
      "text/plain": [
       "['2020 Nomes 0 .txt',\n",
       " '2020 Nomes 1 .txt',\n",
       " '2020 Nomes 2 .txt',\n",
       " '2020 Nomes 3 .txt',\n",
       " '2020 Nomes 4 .txt',\n",
       " '2020 Nomes 5 .txt',\n",
       " '2020 Nomes 6 .txt',\n",
       " '2020 Nomes 7 .txt',\n",
       " '2020 Nomes 8 .txt',\n",
       " '2020 Nomes 9 .txt',\n",
       " 'backupzip',\n",
       " 'zip01.zip',\n",
       " 'zip02.zip']"
      ]
     },
     "execution_count": 63,
     "metadata": {},
     "output_type": "execute_result"
    }
   ],
   "source": [
    "os.listdir()"
   ]
  },
  {
   "cell_type": "code",
   "execution_count": 64,
   "metadata": {},
   "outputs": [],
   "source": [
    "# MOVER OS ARQUIVOS *.TXT PARA A PASTA\n",
    "\n",
    "for arquivo in os.listdir():\n",
    "    if arquivo.count('.txt') > 0:\n",
    "        cp.move(arquivo, 'backupzip')"
   ]
  },
  {
   "cell_type": "code",
   "execution_count": 65,
   "metadata": {},
   "outputs": [
    {
     "data": {
      "text/plain": [
       "['backupzip', 'zip01.zip', 'zip02.zip']"
      ]
     },
     "execution_count": 65,
     "metadata": {},
     "output_type": "execute_result"
    }
   ],
   "source": [
    "os.listdir()"
   ]
  },
  {
   "cell_type": "code",
   "execution_count": 75,
   "metadata": {},
   "outputs": [],
   "source": [
    "# CRIAR O ARQUIVO ZIP\n",
    "\n",
    "novo = zip.ZipFile('zipPASTA.zip', 'w', zip.ZIP_DEFLATED)\n"
   ]
  },
  {
   "cell_type": "code",
   "execution_count": 66,
   "metadata": {},
   "outputs": [
    {
     "name": "stdout",
     "output_type": "stream",
     "text": [
      "backupzip [] ['2020 Nomes 0 .txt', '2020 Nomes 1 .txt', '2020 Nomes 2 .txt', '2020 Nomes 3 .txt', '2020 Nomes 4 .txt', '2020 Nomes 5 .txt', '2020 Nomes 6 .txt', '2020 Nomes 7 .txt', '2020 Nomes 8 .txt', '2020 Nomes 9 .txt']\n"
     ]
    }
   ],
   "source": [
    "# LISTAR A PASTAS E SUBPASTAS E ARQUIVOS\n",
    "\n",
    "for p, sp, a in os.walk('backupzip', topdown=False):\n",
    "    print(p, sp, a)"
   ]
  },
  {
   "cell_type": "code",
   "execution_count": 76,
   "metadata": {},
   "outputs": [],
   "source": [
    "# COMPACTAR PASTA E ARQUIVOS\n",
    "\n",
    "for p, sp, a in os.walk('backupzip', topdown=False):\n",
    "    \n",
    "    for arquivo in a:\n",
    "        caminho = '{0}//{1}'.format(p, arquivo)\n",
    "        novo.write(caminho)\n",
    "        \n",
    "novo.close()"
   ]
  },
  {
   "cell_type": "code",
   "execution_count": null,
   "metadata": {},
   "outputs": [],
   "source": []
  },
  {
   "cell_type": "code",
   "execution_count": null,
   "metadata": {},
   "outputs": [],
   "source": []
  },
  {
   "cell_type": "code",
   "execution_count": null,
   "metadata": {},
   "outputs": [],
   "source": []
  },
  {
   "cell_type": "code",
   "execution_count": null,
   "metadata": {},
   "outputs": [],
   "source": []
  },
  {
   "cell_type": "code",
   "execution_count": null,
   "metadata": {},
   "outputs": [],
   "source": []
  },
  {
   "cell_type": "code",
   "execution_count": null,
   "metadata": {},
   "outputs": [],
   "source": []
  },
  {
   "cell_type": "code",
   "execution_count": null,
   "metadata": {},
   "outputs": [],
   "source": []
  },
  {
   "cell_type": "code",
   "execution_count": null,
   "metadata": {},
   "outputs": [],
   "source": []
  },
  {
   "cell_type": "code",
   "execution_count": null,
   "metadata": {},
   "outputs": [],
   "source": []
  },
  {
   "cell_type": "code",
   "execution_count": null,
   "metadata": {},
   "outputs": [],
   "source": []
  },
  {
   "cell_type": "code",
   "execution_count": null,
   "metadata": {},
   "outputs": [],
   "source": []
  },
  {
   "cell_type": "code",
   "execution_count": null,
   "metadata": {},
   "outputs": [],
   "source": []
  },
  {
   "cell_type": "code",
   "execution_count": null,
   "metadata": {},
   "outputs": [],
   "source": []
  },
  {
   "cell_type": "code",
   "execution_count": null,
   "metadata": {},
   "outputs": [],
   "source": []
  },
  {
   "cell_type": "code",
   "execution_count": null,
   "metadata": {},
   "outputs": [],
   "source": []
  },
  {
   "cell_type": "code",
   "execution_count": null,
   "metadata": {},
   "outputs": [],
   "source": []
  },
  {
   "cell_type": "code",
   "execution_count": null,
   "metadata": {},
   "outputs": [],
   "source": []
  },
  {
   "cell_type": "code",
   "execution_count": null,
   "metadata": {},
   "outputs": [],
   "source": []
  },
  {
   "cell_type": "code",
   "execution_count": null,
   "metadata": {},
   "outputs": [],
   "source": []
  }
 ],
 "metadata": {
  "kernelspec": {
   "display_name": "Python 3",
   "language": "python",
   "name": "python3"
  },
  "language_info": {
   "codemirror_mode": {
    "name": "ipython",
    "version": 3
   },
   "file_extension": ".py",
   "mimetype": "text/x-python",
   "name": "python",
   "nbconvert_exporter": "python",
   "pygments_lexer": "ipython3",
   "version": "3.7.7"
  }
 },
 "nbformat": 4,
 "nbformat_minor": 4
}
