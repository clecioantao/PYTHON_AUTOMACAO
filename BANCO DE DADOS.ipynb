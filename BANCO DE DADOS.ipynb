{
 "cells": [
  {
   "cell_type": "markdown",
   "metadata": {},
   "source": [
    "# BANCO DE DADOS"
   ]
  },
  {
   "cell_type": "markdown",
   "metadata": {},
   "source": [
    "# IMPORTAR MÓDULOS"
   ]
  },
  {
   "cell_type": "code",
   "execution_count": 1,
   "metadata": {},
   "outputs": [],
   "source": [
    "import sqlite3\n",
    "import os\n",
    "import io\n",
    "\n",
    "from faker import Faker"
   ]
  },
  {
   "cell_type": "markdown",
   "metadata": {},
   "source": [
    "# GERAR DADOS ALEATÓRIOS"
   ]
  },
  {
   "cell_type": "code",
   "execution_count": 2,
   "metadata": {},
   "outputs": [],
   "source": [
    "data = Faker()"
   ]
  },
  {
   "cell_type": "markdown",
   "metadata": {},
   "source": [
    "# GERADOR DE NOME"
   ]
  },
  {
   "cell_type": "code",
   "execution_count": 3,
   "metadata": {},
   "outputs": [
    {
     "data": {
      "text/plain": [
       "'Susan Wilkerson'"
      ]
     },
     "execution_count": 3,
     "metadata": {},
     "output_type": "execute_result"
    }
   ],
   "source": [
    "data.name()"
   ]
  },
  {
   "cell_type": "markdown",
   "metadata": {},
   "source": [
    "# GERADOR DE TELEFONE"
   ]
  },
  {
   "cell_type": "code",
   "execution_count": 4,
   "metadata": {},
   "outputs": [
    {
     "data": {
      "text/plain": [
       "'984-076-0191'"
      ]
     },
     "execution_count": 4,
     "metadata": {},
     "output_type": "execute_result"
    }
   ],
   "source": [
    "data.phone_number()"
   ]
  },
  {
   "cell_type": "markdown",
   "metadata": {},
   "source": [
    "# GERADOR DE DADOS"
   ]
  },
  {
   "cell_type": "code",
   "execution_count": 5,
   "metadata": {},
   "outputs": [
    {
     "data": {
      "text/plain": [
       "{'job': 'Chartered legal executive (England and Wales)',\n",
       " 'company': 'Green-Oneal',\n",
       " 'ssn': '477-54-1491',\n",
       " 'residence': '52316 Adam Divide\\nWongborough, OH 09248',\n",
       " 'current_location': (Decimal('16.557808'), Decimal('171.185504')),\n",
       " 'blood_group': 'B-',\n",
       " 'website': ['http://www.erickson-jones.com/',\n",
       "  'https://www.rogers.org/',\n",
       "  'https://miller.biz/',\n",
       "  'https://www.young.com/'],\n",
       " 'username': 'lambsarah',\n",
       " 'name': 'Ann Walker',\n",
       " 'sex': 'F',\n",
       " 'address': '713 Lori Forks\\nJordanside, OR 82531',\n",
       " 'mail': 'matthew00@hotmail.com',\n",
       " 'birthdate': datetime.date(2014, 11, 25)}"
      ]
     },
     "execution_count": 5,
     "metadata": {},
     "output_type": "execute_result"
    }
   ],
   "source": [
    "data.profile()"
   ]
  },
  {
   "cell_type": "code",
   "execution_count": 6,
   "metadata": {},
   "outputs": [
    {
     "data": {
      "text/plain": [
       "'Adam Martinez'"
      ]
     },
     "execution_count": 6,
     "metadata": {},
     "output_type": "execute_result"
    }
   ],
   "source": [
    "p = data.profile()\n",
    "\n",
    "p['name']"
   ]
  },
  {
   "cell_type": "markdown",
   "metadata": {},
   "source": [
    "# CRIAR UMA LISTA COM 99 PESSOAS"
   ]
  },
  {
   "cell_type": "code",
   "execution_count": 7,
   "metadata": {},
   "outputs": [],
   "source": [
    "lista = []\n",
    "\n",
    "for _ in range(1, 100):\n",
    "    linha = [data.name(), data.phone_number()]\n",
    "    lista.append(linha)"
   ]
  },
  {
   "cell_type": "markdown",
   "metadata": {},
   "source": [
    "# IMPRIMIR OS 10 PRIMEIROS"
   ]
  },
  {
   "cell_type": "code",
   "execution_count": 8,
   "metadata": {},
   "outputs": [
    {
     "data": {
      "text/plain": [
       "[['Jennifer Rose', '+1-925-387-5486x2356'],\n",
       " ['Maureen Martin', '(933)470-5036x533'],\n",
       " ['Michael Wallace', '112-868-3272x7086'],\n",
       " ['Mr. Charles Wade Jr.', '001-033-345-0282'],\n",
       " ['Gina Franco', '996-226-4289'],\n",
       " ['Jennifer Johnson', '959-006-9819x62702'],\n",
       " ['Christine Winters', '236-278-2103x55206'],\n",
       " ['Andrew Ballard', '+1-170-687-9212x53745'],\n",
       " ['Bryan Sims', '(924)778-1097x299'],\n",
       " ['Matthew Mejia', '3383603748']]"
      ]
     },
     "execution_count": 8,
     "metadata": {},
     "output_type": "execute_result"
    }
   ],
   "source": [
    "lista[0:10]"
   ]
  },
  {
   "cell_type": "markdown",
   "metadata": {},
   "source": [
    "# CRIANDO O BANCO DE DADOS"
   ]
  },
  {
   "cell_type": "code",
   "execution_count": 9,
   "metadata": {},
   "outputs": [],
   "source": [
    "conexao = sqlite3.connect('banco.db', 100)\n",
    "cursor = conexao.cursor()"
   ]
  },
  {
   "cell_type": "code",
   "execution_count": 10,
   "metadata": {},
   "outputs": [
    {
     "data": {
      "text/plain": [
       "['.ipynb_checkpoints',\n",
       " '2020 alunos.csv',\n",
       " '2020 Nomes.txt',\n",
       " 'BANCO DE DADOS.ipynb',\n",
       " 'banco.db',\n",
       " 'enve',\n",
       " 'ESTATÍSTICA INICIAL.ipynb',\n",
       " 'MANIPULAÇÃO DE ARQUIVOS.ipynb',\n",
       " 'requerimentos.txt']"
      ]
     },
     "execution_count": 10,
     "metadata": {},
     "output_type": "execute_result"
    }
   ],
   "source": [
    "os.listdir()"
   ]
  },
  {
   "cell_type": "markdown",
   "metadata": {},
   "source": [
    "# CRIANDO A TABELA"
   ]
  },
  {
   "cell_type": "code",
   "execution_count": 11,
   "metadata": {},
   "outputs": [],
   "source": [
    "cursor.execute(\"\"\"\n",
    "CREATE TABLE if not exists contatos (\n",
    "CODIGO INTEGER NOT NULL PRIMARY KEY AUTOINCREMENT,\n",
    "NOME TEXT,\n",
    "TELEFONE VARCHAR(50)\n",
    ");\n",
    "\"\"\")\n",
    "\n",
    "conexao.commit()"
   ]
  },
  {
   "cell_type": "markdown",
   "metadata": {},
   "source": [
    "# LISTAR OS REGISTROS"
   ]
  },
  {
   "cell_type": "code",
   "execution_count": 12,
   "metadata": {},
   "outputs": [
    {
     "data": {
      "text/plain": [
       "[]"
      ]
     },
     "execution_count": 12,
     "metadata": {},
     "output_type": "execute_result"
    }
   ],
   "source": [
    "cursor.execute(\"\"\" select * from contatos \"\"\")\n",
    "\n",
    "cursor.fetchall()[-10:]"
   ]
  },
  {
   "cell_type": "markdown",
   "metadata": {},
   "source": [
    "# INCLUIR UM REGISTRO NA TABELA"
   ]
  },
  {
   "cell_type": "code",
   "execution_count": 13,
   "metadata": {},
   "outputs": [],
   "source": [
    "cursor.execute(\"\"\"\n",
    "INSERT INTO contatos (NOME, TELEFONE)\n",
    "VALUES\n",
    "('{0}', '{1}')\"\"\".format(lista[0][0], lista[0][1]))\n",
    "\n",
    "conexao.commit()"
   ]
  },
  {
   "cell_type": "code",
   "execution_count": 14,
   "metadata": {},
   "outputs": [
    {
     "data": {
      "text/plain": [
       "['Jennifer Rose', '+1-925-387-5486x2356']"
      ]
     },
     "execution_count": 14,
     "metadata": {},
     "output_type": "execute_result"
    }
   ],
   "source": [
    "lista[0]"
   ]
  },
  {
   "cell_type": "markdown",
   "metadata": {},
   "source": [
    "# PESQUISAR O REGISTRO INCLUIDO"
   ]
  },
  {
   "cell_type": "code",
   "execution_count": 15,
   "metadata": {},
   "outputs": [
    {
     "data": {
      "text/plain": [
       "[(1, 'Jennifer Rose', '+1-925-387-5486x2356')]"
      ]
     },
     "execution_count": 15,
     "metadata": {},
     "output_type": "execute_result"
    }
   ],
   "source": [
    "cursor.execute(\"\"\" select * from contatos \"\"\")\n",
    "\n",
    "cursor.fetchall()"
   ]
  },
  {
   "cell_type": "markdown",
   "metadata": {},
   "source": [
    "# INCLUIR VÁRIOS REGISTROS NA TABELA"
   ]
  },
  {
   "cell_type": "code",
   "execution_count": 16,
   "metadata": {},
   "outputs": [],
   "source": [
    "cursor.executemany(\"\"\"\n",
    "INSERT INTO contatos (NOME, TELEFONE)\n",
    "VALUES\n",
    "(?, ?)\"\"\", lista[1:])\n",
    "\n",
    "conexao.commit()"
   ]
  },
  {
   "cell_type": "markdown",
   "metadata": {},
   "source": [
    "# PESQUISAR OS 10 PRIMEIROS REGISTROS INCLUIDOS"
   ]
  },
  {
   "cell_type": "code",
   "execution_count": 17,
   "metadata": {},
   "outputs": [
    {
     "name": "stdout",
     "output_type": "stream",
     "text": [
      "(1, 'Jennifer Rose', '+1-925-387-5486x2356')\n",
      "(2, 'Maureen Martin', '(933)470-5036x533')\n",
      "(3, 'Michael Wallace', '112-868-3272x7086')\n",
      "(4, 'Mr. Charles Wade Jr.', '001-033-345-0282')\n",
      "(5, 'Gina Franco', '996-226-4289')\n",
      "(6, 'Jennifer Johnson', '959-006-9819x62702')\n",
      "(7, 'Christine Winters', '236-278-2103x55206')\n",
      "(8, 'Andrew Ballard', '+1-170-687-9212x53745')\n",
      "(9, 'Bryan Sims', '(924)778-1097x299')\n",
      "(10, 'Matthew Mejia', '3383603748')\n"
     ]
    }
   ],
   "source": [
    "cursor.execute(\"\"\" SELECT * FROM CONTATOS; \"\"\")\n",
    "\n",
    "for linha in cursor.fetchall()[0:10]:\n",
    "    print(linha)"
   ]
  },
  {
   "cell_type": "markdown",
   "metadata": {},
   "source": [
    "# PESQUISAR OS NOMES QUE COMEÇAM COM P"
   ]
  },
  {
   "cell_type": "code",
   "execution_count": 18,
   "metadata": {},
   "outputs": [
    {
     "name": "stdout",
     "output_type": "stream",
     "text": [
      "(39, 'Paul Snyder', '(591)044-2003')\n",
      "(40, 'Patrick Patterson', '(207)551-6784x7332')\n",
      "(55, 'Paul Walker', '882-948-2476x3966')\n"
     ]
    }
   ],
   "source": [
    "cursor.execute(\"\"\"SELECT * FROM contatos WHERE nome like 'P%'; \"\"\")\n",
    "for linha in cursor.fetchall()[0:10]:\n",
    "    print(linha)"
   ]
  },
  {
   "cell_type": "markdown",
   "metadata": {},
   "source": [
    "# UPDATE"
   ]
  },
  {
   "cell_type": "code",
   "execution_count": 19,
   "metadata": {},
   "outputs": [],
   "source": [
    "cursor.execute(\"\"\"SELECT codigo from contatos where nome like 'P%'; \"\"\")\n",
    "\n",
    "valores = cursor.fetchall()"
   ]
  },
  {
   "cell_type": "code",
   "execution_count": 20,
   "metadata": {},
   "outputs": [
    {
     "data": {
      "text/plain": [
       "[(39,), (40,), (55,)]"
      ]
     },
     "execution_count": 20,
     "metadata": {},
     "output_type": "execute_result"
    }
   ],
   "source": [
    "valores"
   ]
  },
  {
   "cell_type": "code",
   "execution_count": 21,
   "metadata": {},
   "outputs": [
    {
     "name": "stdout",
     "output_type": "stream",
     "text": [
      " update contatos set telefone = null where codigo = 39;\n",
      " update contatos set telefone = null where codigo = 40;\n",
      " update contatos set telefone = null where codigo = 55;\n"
     ]
    }
   ],
   "source": [
    "for vl in valores:\n",
    "    sql = \"\"\" update contatos set telefone = null where codigo = {0};\"\"\".format(vl[0])\n",
    "    \n",
    "    cursor.execute(sql)\n",
    "    print(sql)\n",
    "    \n",
    "conexao.commit()"
   ]
  },
  {
   "cell_type": "code",
   "execution_count": 23,
   "metadata": {},
   "outputs": [
    {
     "data": {
      "text/plain": [
       "[(39, 'Paul Snyder', None),\n",
       " (40, 'Patrick Patterson', None),\n",
       " (55, 'Paul Walker', None)]"
      ]
     },
     "execution_count": 23,
     "metadata": {},
     "output_type": "execute_result"
    }
   ],
   "source": [
    "cursor.execute(\"\"\" select * from contatos where telefone is null\"\"\")\n",
    "\n",
    "cursor.fetchall()"
   ]
  },
  {
   "cell_type": "markdown",
   "metadata": {},
   "source": [
    "# DELETE"
   ]
  },
  {
   "cell_type": "code",
   "execution_count": 24,
   "metadata": {},
   "outputs": [],
   "source": [
    "cursor.execute(\"\"\" select codigo from contatos where telefone is null; \"\"\")\n",
    "\n",
    "valores = cursor.fetchall()"
   ]
  },
  {
   "cell_type": "code",
   "execution_count": 25,
   "metadata": {},
   "outputs": [
    {
     "data": {
      "text/plain": [
       "[(39,), (40,), (55,)]"
      ]
     },
     "execution_count": 25,
     "metadata": {},
     "output_type": "execute_result"
    }
   ],
   "source": [
    "valores"
   ]
  },
  {
   "cell_type": "code",
   "execution_count": 26,
   "metadata": {},
   "outputs": [],
   "source": [
    "for vl in valores:\n",
    "    sql = \"\"\" delete from contatos where codigo = {0}; \"\"\".format(vl[0])\n",
    "    cursor.execute(sql)\n",
    "    \n",
    "conexao.commit()"
   ]
  },
  {
   "cell_type": "code",
   "execution_count": 27,
   "metadata": {},
   "outputs": [
    {
     "data": {
      "text/plain": [
       "[]"
      ]
     },
     "execution_count": 27,
     "metadata": {},
     "output_type": "execute_result"
    }
   ],
   "source": [
    "cursor.execute(\"\"\" select * from contatos where telefone is null; \"\"\")\n",
    "\n",
    "cursor.fetchall()"
   ]
  },
  {
   "cell_type": "markdown",
   "metadata": {},
   "source": [
    "# CRIANDO UM BACKUP "
   ]
  },
  {
   "cell_type": "code",
   "execution_count": 28,
   "metadata": {},
   "outputs": [],
   "source": [
    "with io.open('banco_backup.sql', 'w') as f:\n",
    "    for linha in conexao.iterdump():\n",
    "        f.write('%s\\n' % linha)"
   ]
  },
  {
   "cell_type": "code",
   "execution_count": 29,
   "metadata": {},
   "outputs": [
    {
     "data": {
      "text/plain": [
       "['.ipynb_checkpoints',\n",
       " '2020 alunos.csv',\n",
       " '2020 Nomes.txt',\n",
       " 'BANCO DE DADOS.ipynb',\n",
       " 'banco.db',\n",
       " 'banco_backup.sql',\n",
       " 'enve',\n",
       " 'ESTATÍSTICA INICIAL.ipynb',\n",
       " 'MANIPULAÇÃO DE ARQUIVOS.ipynb',\n",
       " 'requerimentos.txt']"
      ]
     },
     "execution_count": 29,
     "metadata": {},
     "output_type": "execute_result"
    }
   ],
   "source": [
    "os.listdir()"
   ]
  },
  {
   "cell_type": "markdown",
   "metadata": {},
   "source": [
    "# FINALIZANDO A CONEXÃO COM BANCO DE DADOS"
   ]
  },
  {
   "cell_type": "code",
   "execution_count": 30,
   "metadata": {},
   "outputs": [],
   "source": [
    "conexao.close()"
   ]
  },
  {
   "cell_type": "markdown",
   "metadata": {},
   "source": [
    "# EXCLUIR O BANCO DE DADOS"
   ]
  },
  {
   "cell_type": "code",
   "execution_count": 31,
   "metadata": {},
   "outputs": [],
   "source": [
    "os.remove('banco.db')"
   ]
  },
  {
   "cell_type": "code",
   "execution_count": 32,
   "metadata": {},
   "outputs": [
    {
     "data": {
      "text/plain": [
       "['.ipynb_checkpoints',\n",
       " '2020 alunos.csv',\n",
       " '2020 Nomes.txt',\n",
       " 'BANCO DE DADOS.ipynb',\n",
       " 'banco_backup.sql',\n",
       " 'enve',\n",
       " 'ESTATÍSTICA INICIAL.ipynb',\n",
       " 'MANIPULAÇÃO DE ARQUIVOS.ipynb',\n",
       " 'requerimentos.txt']"
      ]
     },
     "execution_count": 32,
     "metadata": {},
     "output_type": "execute_result"
    }
   ],
   "source": [
    "os.listdir()"
   ]
  },
  {
   "cell_type": "markdown",
   "metadata": {},
   "source": [
    "# RESTAURANDO UM BACKUP"
   ]
  },
  {
   "cell_type": "code",
   "execution_count": 36,
   "metadata": {},
   "outputs": [
    {
     "data": {
      "text/plain": [
       "<sqlite3.Cursor at 0x2b17d082650>"
      ]
     },
     "execution_count": 36,
     "metadata": {},
     "output_type": "execute_result"
    }
   ],
   "source": [
    "conexao = sqlite3.connect('banco.db')\n",
    "cursor= conexao.cursor()\n",
    "\n",
    "f = io.open('banco_backup.sql', 'r')\n",
    "sql = f.read()\n",
    "\n",
    "cursor.executescript(sql)"
   ]
  },
  {
   "cell_type": "code",
   "execution_count": 37,
   "metadata": {},
   "outputs": [
    {
     "data": {
      "text/plain": [
       "[(1, 'Jennifer Rose', '+1-925-387-5486x2356'),\n",
       " (2, 'Maureen Martin', '(933)470-5036x533'),\n",
       " (3, 'Michael Wallace', '112-868-3272x7086'),\n",
       " (4, 'Mr. Charles Wade Jr.', '001-033-345-0282'),\n",
       " (5, 'Gina Franco', '996-226-4289'),\n",
       " (6, 'Jennifer Johnson', '959-006-9819x62702'),\n",
       " (7, 'Christine Winters', '236-278-2103x55206'),\n",
       " (8, 'Andrew Ballard', '+1-170-687-9212x53745'),\n",
       " (9, 'Bryan Sims', '(924)778-1097x299'),\n",
       " (10, 'Matthew Mejia', '3383603748'),\n",
       " (11, 'Mr. Cody Mills', '(089)567-0448x3552'),\n",
       " (12, 'Debbie Moore', '(210)500-3376x51494'),\n",
       " (13, 'Jessica Bond', '+1-090-789-8219'),\n",
       " (14, 'Kenneth Chavez', '720-373-2558'),\n",
       " (15, 'Laura Gibson', '001-955-559-9226x33312'),\n",
       " (16, 'Andrea Rodriguez', '4001156107'),\n",
       " (17, 'Susan Gutierrez', '147.793.4190'),\n",
       " (18, 'James Williams', '766.847.9138x690'),\n",
       " (19, 'Nicole Johnson', '+1-477-126-9317x383'),\n",
       " (20, 'Miguel Bryant', '(938)239-4928x2001'),\n",
       " (21, 'Nicole Garcia', '448.694.3621x0799'),\n",
       " (22, 'John Ramirez', '+1-135-009-8562x751'),\n",
       " (23, 'Kristin Wilson', '+1-087-091-5337x5177'),\n",
       " (24, 'Travis Howard', '3705152245'),\n",
       " (25, 'Amanda Lang', '+1-715-601-2613x5176'),\n",
       " (26, 'Jennifer Ross', '001-992-193-3435x51626'),\n",
       " (27, 'Doris Guzman', '929.491.3048x6119'),\n",
       " (28, 'Spencer Wells', '300.005.0991x157'),\n",
       " (29, 'John Sanders', '9057907061'),\n",
       " (30, 'Donald Brown', '(998)529-4476x24635'),\n",
       " (31, 'Robert Williams', '708-199-7149x08874'),\n",
       " (32, 'Jennifer Faulkner', '(090)526-9893'),\n",
       " (33, 'Julie Lane', '799-207-2130x895'),\n",
       " (34, 'Lee Dominguez', '+1-537-907-6766'),\n",
       " (35, 'Erica Figueroa', '623-365-0885'),\n",
       " (36, 'Christina Perry', '001-164-620-2163x80058'),\n",
       " (37, 'Megan Martinez', '4941157941'),\n",
       " (38, 'Tammy Drake', '444.999.2194x400'),\n",
       " (41, 'Julie Roberts', '(254)213-1267x6007'),\n",
       " (42, 'Amy Hammond', '001-653-657-1231x5541'),\n",
       " (43, 'Jennifer Mccarty', '394.483.1723'),\n",
       " (44, 'Michael Scott', '345.044.7958'),\n",
       " (45, 'Jacob Sanchez', '700-529-4643'),\n",
       " (46, 'Christine Moyer', '001-870-404-1174x129'),\n",
       " (47, 'David Scott', '+1-167-263-6134x146'),\n",
       " (48, 'Robert Thornton', '337.861.3890x281'),\n",
       " (49, 'Craig Braun', '8270808393'),\n",
       " (50, 'Lisa Lowe', '418.186.3474'),\n",
       " (51, 'Sara Lewis', '364.329.0652'),\n",
       " (52, 'Megan Rodriguez', '609.975.1255'),\n",
       " (53, 'Rhonda Cohen', '001-525-076-4589x959'),\n",
       " (54, 'Jessica Hanson', '(167)222-7901'),\n",
       " (56, 'John Chavez', '+1-239-531-9632x143'),\n",
       " (57, 'Hunter Mcbride', '300.519.7207'),\n",
       " (58, 'Linda Lewis', '410-762-1593x9056'),\n",
       " (59, 'Janice Davis', '+1-618-531-0125'),\n",
       " (60, 'James Collins', '8328787634'),\n",
       " (61, 'Amber Baker', '941-379-4795'),\n",
       " (62, 'Kevin Diaz', '068-434-6947'),\n",
       " (63, 'Darlene Strickland', '850-077-4674x31946'),\n",
       " (64, 'Travis Hunt', '(505)985-1602'),\n",
       " (65, 'William Austin', '6292677244'),\n",
       " (66, 'Cheyenne Short', '(837)350-5949'),\n",
       " (67, 'Mario Thomas', '690-353-5774x044'),\n",
       " (68, 'Shannon Miranda', '483.960.7977x6562'),\n",
       " (69, 'Raymond Maynard', '+1-227-609-2920x834'),\n",
       " (70, 'Billy Flores', '(720)318-1085x6621'),\n",
       " (71, 'Tiffany Neal', '763.992.9637x77614'),\n",
       " (72, 'Susan Richardson', '2410873608'),\n",
       " (73, 'Deborah Calhoun', '001-157-075-2953x307'),\n",
       " (74, 'John Fuller', '7676069434'),\n",
       " (75, 'Diana Fisher', '442.329.8416x758'),\n",
       " (76, 'Victoria Green', '(184)162-8422'),\n",
       " (77, 'Cameron Torres', '035.320.5627x074'),\n",
       " (78, 'Alex Reyes', '441.857.4545'),\n",
       " (79, 'Timothy Clark', '810.915.4419'),\n",
       " (80, 'Jeffrey Howe', '346.579.7957'),\n",
       " (81, 'James Ortiz', '6092837729'),\n",
       " (82, 'Abigail Rivera', '594.389.4734x7037'),\n",
       " (83, 'Anthony Flores', '(505)612-8042x612'),\n",
       " (84, 'Gary Williams', '003.751.3457'),\n",
       " (85, 'Tiffany Davis', '100-119-0414x603'),\n",
       " (86, 'Erik Perry', '001-455-370-5870'),\n",
       " (87, 'Chris Odonnell', '(028)604-3623'),\n",
       " (88, 'Kathy Nolan', '(940)203-7562x5730'),\n",
       " (89, 'Kyle Bryant', '698-424-6959x30427'),\n",
       " (90, 'Chelsea Graham', '0106031244'),\n",
       " (91, 'Cindy Taylor', '396-035-5398x12133'),\n",
       " (92, 'Brittany Richards', '6320000926'),\n",
       " (93, 'Brian Rodriguez', '(484)360-4615x1628'),\n",
       " (94, 'Jason Lopez', '(223)297-1817x88340'),\n",
       " (95, 'Anna Rhodes', '2411582839'),\n",
       " (96, 'Alex Charles', '333.476.5533'),\n",
       " (97, 'Lisa Morris', '281-846-2163x721'),\n",
       " (98, 'Craig Logan', '580-527-9725x654'),\n",
       " (99, 'Thomas Green', '031.793.5224x43632')]"
      ]
     },
     "execution_count": 37,
     "metadata": {},
     "output_type": "execute_result"
    }
   ],
   "source": [
    "cursor.execute(\"\"\" select * from contatos; \"\"\")\n",
    "\n",
    "cursor.fetchall()"
   ]
  },
  {
   "cell_type": "markdown",
   "metadata": {},
   "source": [
    "# FINALIZANDO A CONEXÃO COM BANCO DE DADOS"
   ]
  },
  {
   "cell_type": "code",
   "execution_count": 38,
   "metadata": {},
   "outputs": [],
   "source": [
    "conexao.close()"
   ]
  },
  {
   "cell_type": "code",
   "execution_count": null,
   "metadata": {},
   "outputs": [],
   "source": []
  },
  {
   "cell_type": "code",
   "execution_count": null,
   "metadata": {},
   "outputs": [],
   "source": []
  },
  {
   "cell_type": "code",
   "execution_count": null,
   "metadata": {},
   "outputs": [],
   "source": []
  },
  {
   "cell_type": "code",
   "execution_count": null,
   "metadata": {},
   "outputs": [],
   "source": []
  },
  {
   "cell_type": "code",
   "execution_count": null,
   "metadata": {},
   "outputs": [],
   "source": []
  },
  {
   "cell_type": "code",
   "execution_count": null,
   "metadata": {},
   "outputs": [],
   "source": []
  },
  {
   "cell_type": "code",
   "execution_count": null,
   "metadata": {},
   "outputs": [],
   "source": []
  },
  {
   "cell_type": "code",
   "execution_count": null,
   "metadata": {},
   "outputs": [],
   "source": []
  },
  {
   "cell_type": "code",
   "execution_count": null,
   "metadata": {},
   "outputs": [],
   "source": []
  },
  {
   "cell_type": "code",
   "execution_count": null,
   "metadata": {},
   "outputs": [],
   "source": []
  },
  {
   "cell_type": "code",
   "execution_count": null,
   "metadata": {},
   "outputs": [],
   "source": []
  },
  {
   "cell_type": "code",
   "execution_count": null,
   "metadata": {},
   "outputs": [],
   "source": []
  },
  {
   "cell_type": "code",
   "execution_count": null,
   "metadata": {},
   "outputs": [],
   "source": []
  },
  {
   "cell_type": "code",
   "execution_count": null,
   "metadata": {},
   "outputs": [],
   "source": []
  },
  {
   "cell_type": "code",
   "execution_count": null,
   "metadata": {},
   "outputs": [],
   "source": []
  }
 ],
 "metadata": {
  "kernelspec": {
   "display_name": "Python 3",
   "language": "python",
   "name": "python3"
  },
  "language_info": {
   "codemirror_mode": {
    "name": "ipython",
    "version": 3
   },
   "file_extension": ".py",
   "mimetype": "text/x-python",
   "name": "python",
   "nbconvert_exporter": "python",
   "pygments_lexer": "ipython3",
   "version": "3.7.7"
  }
 },
 "nbformat": 4,
 "nbformat_minor": 4
}
