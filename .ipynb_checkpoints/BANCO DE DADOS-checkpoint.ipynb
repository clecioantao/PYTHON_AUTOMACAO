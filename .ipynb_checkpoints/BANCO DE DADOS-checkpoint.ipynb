{
 "cells": [
  {
   "cell_type": "markdown",
   "metadata": {},
   "source": [
    "# BANCO DE DADOS"
   ]
  },
  {
   "cell_type": "markdown",
   "metadata": {},
   "source": [
    "# IMPORTAR MÓDULOS"
   ]
  },
  {
   "cell_type": "code",
   "execution_count": 1,
   "metadata": {},
   "outputs": [],
   "source": [
    "import sqlite3\n",
    "\n",
    "import os\n",
    "\n",
    "import io\n",
    "\n",
    "from faker import Faker"
   ]
  },
  {
   "cell_type": "markdown",
   "metadata": {},
   "source": [
    "# GERAR DADOS ALEATÓRIOS"
   ]
  },
  {
   "cell_type": "code",
   "execution_count": 2,
   "metadata": {},
   "outputs": [],
   "source": [
    "data = Faker()"
   ]
  },
  {
   "cell_type": "markdown",
   "metadata": {},
   "source": [
    "# GERADOR DE NOME"
   ]
  },
  {
   "cell_type": "code",
   "execution_count": 3,
   "metadata": {},
   "outputs": [
    {
     "data": {
      "text/plain": [
       "'Denise Cardenas'"
      ]
     },
     "execution_count": 3,
     "metadata": {},
     "output_type": "execute_result"
    }
   ],
   "source": [
    "data.name()"
   ]
  },
  {
   "cell_type": "markdown",
   "metadata": {},
   "source": [
    "# GERADOR DE TELEFONE"
   ]
  },
  {
   "cell_type": "code",
   "execution_count": 4,
   "metadata": {},
   "outputs": [
    {
     "data": {
      "text/plain": [
       "'001-386-421-2046x8045'"
      ]
     },
     "execution_count": 4,
     "metadata": {},
     "output_type": "execute_result"
    }
   ],
   "source": [
    "data.phone_number()"
   ]
  },
  {
   "cell_type": "markdown",
   "metadata": {},
   "source": [
    "# GERADOR DE DADOS"
   ]
  },
  {
   "cell_type": "code",
   "execution_count": 5,
   "metadata": {},
   "outputs": [
    {
     "data": {
      "text/plain": [
       "{'job': 'Dramatherapist',\n",
       " 'company': 'Guerrero-Humphrey',\n",
       " 'ssn': '413-18-7113',\n",
       " 'residence': '759 Morales Heights\\nNorth Brian, MS 79108',\n",
       " 'current_location': (Decimal('3.283552'), Decimal('87.924549')),\n",
       " 'blood_group': 'B+',\n",
       " 'website': ['https://www.adkins.com/',\n",
       "  'https://www.martin.com/',\n",
       "  'https://hall.com/',\n",
       "  'http://nguyen.com/'],\n",
       " 'username': 'kingpatrick',\n",
       " 'name': 'Michael Turner',\n",
       " 'sex': 'M',\n",
       " 'address': 'PSC 7013, Box 1020\\nAPO AE 57764',\n",
       " 'mail': 'geraldwelch@gmail.com',\n",
       " 'birthdate': datetime.date(1907, 4, 16)}"
      ]
     },
     "execution_count": 5,
     "metadata": {},
     "output_type": "execute_result"
    }
   ],
   "source": [
    "data.profile()"
   ]
  },
  {
   "cell_type": "code",
   "execution_count": 6,
   "metadata": {},
   "outputs": [
    {
     "data": {
      "text/plain": [
       "'Laura Arroyo'"
      ]
     },
     "execution_count": 6,
     "metadata": {},
     "output_type": "execute_result"
    }
   ],
   "source": [
    "p = data.profile()\n",
    "\n",
    "p['name']"
   ]
  },
  {
   "cell_type": "markdown",
   "metadata": {},
   "source": [
    "# CRIAR UMA LISTA COM 99 PESSOAS"
   ]
  },
  {
   "cell_type": "code",
   "execution_count": 7,
   "metadata": {},
   "outputs": [],
   "source": [
    "lista = []\n",
    "\n",
    "for _ in range(1, 100):\n",
    "    linha = [data.name(), data.phone_number()]\n",
    "    lista.append(linha)"
   ]
  },
  {
   "cell_type": "markdown",
   "metadata": {},
   "source": [
    "# IMPRIMIR OS 10 PRIMEIROS"
   ]
  },
  {
   "cell_type": "code",
   "execution_count": 8,
   "metadata": {},
   "outputs": [
    {
     "data": {
      "text/plain": [
       "[['Sierra Rodriguez', '741.074.1130x64652'],\n",
       " ['Allison Snyder', '895.467.5355x2167'],\n",
       " ['Kathryn Weaver', '001-581-483-6319x584'],\n",
       " ['Melissa Gonzalez', '001-955-355-7655x4070'],\n",
       " ['Jennifer Hunter', '856-445-9483'],\n",
       " ['Katie Johnson', '239.182.4806'],\n",
       " ['Craig Brock', '(910)221-7322'],\n",
       " ['Lauren Norman', '539-701-3540x4346'],\n",
       " ['Tonya Howard', '152.761.0298x52487'],\n",
       " ['Mary Parsons', '217-129-3009x97168']]"
      ]
     },
     "execution_count": 8,
     "metadata": {},
     "output_type": "execute_result"
    }
   ],
   "source": [
    "lista[0:10]"
   ]
  },
  {
   "cell_type": "markdown",
   "metadata": {},
   "source": [
    "# CRIANDO O BANCO DE DADOS"
   ]
  },
  {
   "cell_type": "code",
   "execution_count": 9,
   "metadata": {},
   "outputs": [],
   "source": [
    "conexao = sqlite3.connect('banco.db', 100 )\n",
    "cursor = conexao.cursor()"
   ]
  },
  {
   "cell_type": "markdown",
   "metadata": {},
   "source": [
    "# CRIANDO A TABELA"
   ]
  },
  {
   "cell_type": "code",
   "execution_count": 10,
   "metadata": {},
   "outputs": [],
   "source": [
    "cursor.execute(\"\"\"\n",
    "CREATE TABLE if not exists contatos (\n",
    "        CODIGO INTEGER NOT NULL PRIMARY KEY AUTOINCREMENT,\n",
    "        NOME TEXT,\n",
    "        TELEFONE VARCHAR(50)\n",
    "        );\n",
    "\"\"\")\n",
    "\n",
    "conexao.commit()"
   ]
  },
  {
   "cell_type": "markdown",
   "metadata": {},
   "source": [
    "# LISTAR OS REGISTROS"
   ]
  },
  {
   "cell_type": "code",
   "execution_count": 11,
   "metadata": {},
   "outputs": [
    {
     "data": {
      "text/plain": [
       "[(387, 'Tony Diaz', '+1-882-083-3276x939'),\n",
       " (388, 'Randall Lyons', '001-865-157-6676'),\n",
       " (389, 'Jon Hill', '(031)018-9328'),\n",
       " (390, 'Natasha Flores', '122.460.5273x575'),\n",
       " (391, 'Jeremy Williams', '+1-146-243-9750x628'),\n",
       " (392, 'Randy Hicks', '492-182-7554'),\n",
       " (393, 'Rachael Leonard', '693.539.6454'),\n",
       " (394, 'Steven Smith', '471-861-7842x495'),\n",
       " (395, 'John Morris', '941.151.0286x9460'),\n",
       " (396, 'Dana Chambers', '6566875663')]"
      ]
     },
     "execution_count": 11,
     "metadata": {},
     "output_type": "execute_result"
    }
   ],
   "source": [
    "cursor.execute(\"\"\" select * from contatos \"\"\")\n",
    "\n",
    "cursor.fetchall()[-10:]"
   ]
  },
  {
   "cell_type": "markdown",
   "metadata": {},
   "source": [
    "# INCLUIR UM REGISTRO NA TABELA"
   ]
  },
  {
   "cell_type": "code",
   "execution_count": 12,
   "metadata": {},
   "outputs": [],
   "source": [
    "cursor.execute(\"\"\"\n",
    "INSERT INTO contatos (NOME, TELEFONE)\n",
    "VALUES\n",
    "('{0}', '{1}');\n",
    "\n",
    "\"\"\".format(lista[0][0], lista[0][1]))\n",
    "\n",
    "conexao.commit()"
   ]
  },
  {
   "cell_type": "markdown",
   "metadata": {},
   "source": [
    "# PESQUISAR O REGISTRO INCLUIRDO"
   ]
  },
  {
   "cell_type": "code",
   "execution_count": 13,
   "metadata": {},
   "outputs": [
    {
     "data": {
      "text/plain": [
       "[(1, 'Stephen Davis', '345-903-3038'),\n",
       " (2, 'John Swanson', '857-260-7668'),\n",
       " (3, 'Rebecca Garcia', '+1-253-130-0415x067'),\n",
       " (4, 'Mason Salazar', '+1-934-009-0901x4729'),\n",
       " (5, 'Jeremy Woodard', '376-712-5657'),\n",
       " (6, 'Brian Key', '557.015.2410x008'),\n",
       " (7, 'Julia Choi', '001-305-075-9996x39840'),\n",
       " (8, 'James Crane', '(350)653-4538'),\n",
       " (9, 'Steven Bartlett', '001-452-169-4535x211'),\n",
       " (10, 'Michael Doyle', '982-126-9947x4431'),\n",
       " (11, 'Laura Booth', '(369)310-3790x087'),\n",
       " (12, 'Victoria Taylor', '675.064.5270'),\n",
       " (13, 'Randy Brown', '(207)466-3517x93593'),\n",
       " (14, 'John Young', '+1-482-373-5644'),\n",
       " (16, 'Laura Dawson', '703.023.7596x200'),\n",
       " (17, 'Anthony Riley', '(891)015-9522x9562'),\n",
       " (18, 'Gina Brown', '+1-629-526-6555x6988'),\n",
       " (19, 'Jeffrey Rodriguez', '+1-748-297-0011x4652'),\n",
       " (20, 'Sara Petersen', '365-397-7009x82117'),\n",
       " (21, 'Tiffany Gomez', '+1-771-129-6710'),\n",
       " (22, 'Jason Hill', '(293)120-8341x753'),\n",
       " (23, 'Kristi Bishop', '266-104-7874x05288'),\n",
       " (25, 'Danielle Rivera', '(744)660-1941x8711'),\n",
       " (27, 'Edward Lopez', '984.268.7831x84252'),\n",
       " (28, 'Benjamin Freeman', '+1-653-398-6245x2467'),\n",
       " (29, 'Manuel Schwartz DVM', '(652)824-3696x934'),\n",
       " (30, 'Michelle Vasquez', '871-976-8779x9164'),\n",
       " (31, 'Douglas Robinson', '001-140-388-1160x967'),\n",
       " (32, 'Carrie Sims', '075-245-5291x96183'),\n",
       " (33, 'Eric Brown', '(955)090-0347'),\n",
       " (34, 'Gregory Aguilar', '032-524-7400'),\n",
       " (35, 'Jason Garcia', '846-863-6103'),\n",
       " (36, 'Martha Carroll', '363-599-3306x7821'),\n",
       " (37, 'Martha Baker', '125.632.7264x024'),\n",
       " (38, 'Thomas Crawford', '(985)012-3240'),\n",
       " (39, 'Juan Willis', '(445)021-9341'),\n",
       " (40, 'Ryan Dalton', '3628581227'),\n",
       " (41, 'Caitlin James', '198.084.0642x9828'),\n",
       " (42, 'Jermaine Foster', '(173)688-0854'),\n",
       " (43, 'Brandi Jacobson', '830-544-2848x545'),\n",
       " (44, 'Christopher Gonzales', '+1-216-603-1233x1223'),\n",
       " (45, 'Thomas Valencia', '+1-049-589-9672x17156'),\n",
       " (46, 'Andrew Harper', '481-579-4009x3040'),\n",
       " (47, 'Tyler Cobb', '748.223.7239'),\n",
       " (48, 'Ryan Thornton', '848.746.4026x21503'),\n",
       " (49, 'James Smith', '(824)610-7722x9895'),\n",
       " (50, 'Jeanette Molina', '+1-664-878-6605x5994'),\n",
       " (51, 'Gina Oconnell', '001-896-456-0334x14658'),\n",
       " (52, 'Sarah Mcguire', '001-900-200-9010x71422'),\n",
       " (53, 'Christina Robbins', '001-330-119-5783x4715'),\n",
       " (54, 'Tara Ford', '+1-650-779-5400x442'),\n",
       " (55, 'Dillon Smith', '(504)799-9223x83416'),\n",
       " (56, 'Brian Moyer', '+1-781-196-0818x3448'),\n",
       " (57, 'Justin Sanders', '314-781-3951x40686'),\n",
       " (58, 'Douglas Gonzalez', '+1-816-486-1807'),\n",
       " (59, 'David Burns', '632.730.9818x16276'),\n",
       " (60, 'Carol Hunter', '562.604.1957'),\n",
       " (61, 'Jeremy Hill', '(094)358-4817'),\n",
       " (62, 'Carol Morales', '513-782-7541x91971'),\n",
       " (63, 'Mark Barnes', '577.027.7241x625'),\n",
       " (64, 'Tonya Walker', '215.733.0567x71620'),\n",
       " (65, 'Arthur Grant', '+1-564-076-5915x2023'),\n",
       " (66, 'Brenda Hansen', '041.291.7821x080'),\n",
       " (67, 'Adrian Day', '+1-638-307-8664x6402'),\n",
       " (68, 'Edward Hall', '016-467-2610'),\n",
       " (69, 'Mrs. Toni Ball', '+1-377-387-2540x14662'),\n",
       " (70, 'Tyler Gordon', '172.459.9900x703'),\n",
       " (71, 'Kari Fields', '(785)993-1276x844'),\n",
       " (72, 'Michael Jones', '(199)091-2440x347'),\n",
       " (73, 'Jason Greene', '114-603-8010'),\n",
       " (74, 'Natalie Torres', '001-310-515-7691x671'),\n",
       " (75, 'Joshua Porter', '001-746-706-4390x19758'),\n",
       " (76, 'John Mueller', '+1-520-142-2328x37204'),\n",
       " (77, 'Timothy Paul', '(354)751-8553'),\n",
       " (78, 'Kimberly Newman', '001-345-783-2554x680'),\n",
       " (79, 'Christina Powell', '729-580-6761x3178'),\n",
       " (80, 'David Scott', '+1-962-586-1215x025'),\n",
       " (81, 'Connie House', '(754)185-2126'),\n",
       " (82, 'Anthony Moore', '352-599-7920'),\n",
       " (83, 'Kyle Oliver', '766-446-9881'),\n",
       " (84, 'Mr. Joshua Gay', '(424)558-5699x70079'),\n",
       " (85, 'Holly Steele', '116-482-2840'),\n",
       " (86, 'Jason Fuentes', '137.850.4359x244'),\n",
       " (87, 'Nicholas Fischer', '895-761-4065x76637'),\n",
       " (88, 'James Johnson', '+1-945-875-0614x1909'),\n",
       " (89, 'Lindsay Mullen', '860-836-4071x495'),\n",
       " (90, 'Renee Walker DVM', '001-336-745-5232x33082'),\n",
       " (91, 'Brandon Dunn', '001-301-107-1704x6456'),\n",
       " (92, 'Rachel Johnson', '482.333.3897'),\n",
       " (93, 'Mary Moore', '001-509-491-7299'),\n",
       " (94, 'David Frank', '(943)093-6703'),\n",
       " (95, 'Benjamin Ferguson', '+1-518-983-4999x761'),\n",
       " (96, 'Stephanie Orozco', '001-463-478-1354x580'),\n",
       " (97, 'Connor Graves', '001-025-282-6830x60102'),\n",
       " (98, 'Kayla Moore', '(130)519-7188x64248'),\n",
       " (99, 'Christopher Wilson', '155-119-0273x7444'),\n",
       " (100, 'Christina Mccormick', '3404647519'),\n",
       " (101, 'Jesse Martin', '702.848.9136'),\n",
       " (102, 'Kimberly Davis', '+1-341-043-7055'),\n",
       " (103, 'Adrienne Rodriguez', '+1-454-799-6297'),\n",
       " (104, 'Michelle Carrillo', '(049)009-7801'),\n",
       " (105, 'John Carson', '967-882-9917x5414'),\n",
       " (106, 'Gina Ramirez', '+1-845-233-9078'),\n",
       " (107, 'Kayla Copeland', '(591)921-5048x6402'),\n",
       " (108, 'Christopher Thompson', '339.088.0627x9126'),\n",
       " (109, 'Christopher Daniel', '+1-738-273-8173'),\n",
       " (110, 'Darrell Davis', '124-235-6963'),\n",
       " (111, 'Kathleen Smith', '+1-534-738-5073x96189'),\n",
       " (112, 'Juan Waller', '001-329-168-8711'),\n",
       " (113, 'Kimberly Smith', '001-111-055-2441x324'),\n",
       " (114, 'Madeline Gordon', '430.797.7347x2305'),\n",
       " (116, 'Amy Nielsen', '1389332704'),\n",
       " (117, 'Amanda Morris', '001-320-677-3154x756'),\n",
       " (118, 'Vanessa Lee', '836.292.3093'),\n",
       " (119, 'Kyle Montgomery', '(958)603-8523x0494'),\n",
       " (120, 'Jessica Holden', '(304)508-1892x14829'),\n",
       " (121, 'Tim Whitaker', '001-361-097-0439'),\n",
       " (122, 'Jorge Miller', '+1-536-142-7547x36959'),\n",
       " (123, 'Dawn Hart', '(957)241-1645x67672'),\n",
       " (124, 'Cynthia Powers', '(747)110-2999x116'),\n",
       " (125, 'Omar Turner', '001-139-246-7202x41484'),\n",
       " (126, 'Mrs. Jamie Hughes', '070-367-3296x2099'),\n",
       " (128, 'Stephen Schmidt', '506.065.2566'),\n",
       " (129, 'Kyle Wells', '883.793.2935x0350'),\n",
       " (130, 'Kathy Gibson', '(958)117-5944'),\n",
       " (131, 'Mr. Stanley Lopez', '869.221.9390x8777'),\n",
       " (132, 'John Henderson', '791.669.6915x03812'),\n",
       " (133, 'Joanna Miller', '+1-582-268-1060x80954'),\n",
       " (134, 'Michael Duncan', '994.316.9884x3761'),\n",
       " (135, 'Joseph Hoffman', '(478)615-2219'),\n",
       " (136, 'Katie Kim', '589-308-5932x9587'),\n",
       " (137, 'Wayne Wilson', '+1-738-949-5050x9622'),\n",
       " (138, 'James Sullivan', '572.744.6374'),\n",
       " (139, 'Lauren Scott', '052-035-9588x9097'),\n",
       " (140, 'William Lopez', '477-408-8338'),\n",
       " (141, 'Elizabeth Castillo', '+1-148-321-6025'),\n",
       " (142, 'Jeffrey Ramsey', '905.261.0340'),\n",
       " (143, 'Ann Patterson', '334-613-0606x6023'),\n",
       " (144, 'Tammy Patterson', '(229)123-8279x672'),\n",
       " (145, 'Jamie Harris', '(060)160-0587x4810'),\n",
       " (146, 'Duane Fields', '9903246136'),\n",
       " (147, 'Melissa Robles', '001-145-193-8101x3914'),\n",
       " (148, 'Brian Travis', '(727)013-5328x79851'),\n",
       " (149, 'Michael Williams', '001-130-211-1638x44338'),\n",
       " (150, 'Megan Perry', '+1-919-913-9826x6551'),\n",
       " (151, 'Katherine Estrada', '1462179943'),\n",
       " (152, 'Andrew Walker', '(618)360-9706'),\n",
       " (153, 'Craig Fitzgerald', '104-435-5510'),\n",
       " (154, 'James Brown DVM', '(775)978-8360x7539'),\n",
       " (155, 'Kelly Schmitt', '(548)739-0994x148'),\n",
       " (156, 'Ryan Jones', '001-868-740-1032x53012'),\n",
       " (157, 'Steven Myers', '(753)683-4842'),\n",
       " (158, 'Matthew Flynn', '1061115482'),\n",
       " (159, 'Julia Avery', '966.133.1844'),\n",
       " (160, 'Jordan Martin', '(628)967-1482x3493'),\n",
       " (161, 'Michelle Lee', '+1-258-840-7273x032'),\n",
       " (162, 'Cynthia Zamora', '681-705-1225'),\n",
       " (163, 'John Manning', '+1-404-911-6171'),\n",
       " (164, 'Debbie Cohen', '(981)494-3063x298'),\n",
       " (165, 'Christopher Salinas', '+1-647-062-5021x1095'),\n",
       " (166, 'Anne Brooks', '+1-939-756-7443x0531'),\n",
       " (167, 'Laura Coleman', '001-084-779-8073x505'),\n",
       " (168, 'Tina Green', '+1-780-055-5666x26554'),\n",
       " (169, 'Toni Rocha', '(226)524-0822x2128'),\n",
       " (170, 'Ian Cantrell', '788-894-6301'),\n",
       " (171, 'Stacy Reed', '481.297.8042'),\n",
       " (172, 'Nicole Brooks', '+1-625-625-0878x175'),\n",
       " (173, 'Keith Neal', '013-986-1683'),\n",
       " (174, 'Jose Daniel', '+1-854-060-6515x9431'),\n",
       " (175, 'Ruth Miller', '001-857-073-4643x53992'),\n",
       " (176, 'Cassandra Simpson', '001-250-787-2633x4855'),\n",
       " (177, 'Lisa Campbell', '+1-954-048-2324x367'),\n",
       " (178, 'Mrs. Megan Alvarez', '982-417-4790'),\n",
       " (179, 'Roger Wright', '756-187-1355'),\n",
       " (180, 'Jeffrey Noble', '580.250.4200x878'),\n",
       " (181, 'Mark Fernandez', '051.994.3339x2522'),\n",
       " (182, 'Allen Grant', '195-575-5240x1049'),\n",
       " (183, 'Courtney Molina', '+1-447-210-0352x360'),\n",
       " (184, 'John Kelly', '527.353.4578x1932'),\n",
       " (186, 'Robin Nelson', '934.951.4474'),\n",
       " (187, 'Johnny Stevens', '968.533.5114'),\n",
       " (188, 'Dylan Warren', '439-493-0919x63175'),\n",
       " (189, 'Beth Sampson', '812-757-7165'),\n",
       " (190, 'Jennifer Holland', '5379329039'),\n",
       " (191, 'Daniel Richardson', '(037)166-9554x09475'),\n",
       " (192, 'Kristy Heath', '+1-824-092-5716x673'),\n",
       " (193, 'Abigail Ramirez', '433.589.0922x80660'),\n",
       " (195, 'Jessica Summers', '972.679.8899x11182'),\n",
       " (196, 'Ryan Butler MD', '3489165984'),\n",
       " (197, 'Joseph Castro', '001-885-693-3001x0340'),\n",
       " (198, 'Kenneth Wood', '001-815-479-1244x096'),\n",
       " (199, 'Warren Smith', '+1-769-882-1227x34447'),\n",
       " (200, 'Angela Bailey', '(008)813-3675x587'),\n",
       " (201, 'Dennis Howard', '001-118-508-9866x652'),\n",
       " (202, 'Juan Booker', '213.734.0391'),\n",
       " (203, 'Kelly Martin', '790-748-3128x3759'),\n",
       " (204, 'Michael Sullivan', '590-136-6082x6639'),\n",
       " (205, 'Jacob Sexton', '001-222-995-3377x19666'),\n",
       " (206, 'Austin Carney', '(841)785-3813'),\n",
       " (207, 'James Taylor', '+1-473-589-8557x44299'),\n",
       " (208, 'Rodney Brown', '+1-319-157-8529'),\n",
       " (209, 'Linda Guerrero', '075-064-8456x1076'),\n",
       " (210, 'Christopher Lopez', '189.221.3407x24531'),\n",
       " (211, 'Emily Parks', '380-557-5341x81412'),\n",
       " (212, 'Stanley Miller', '001-716-593-0607'),\n",
       " (213, 'Garrett Dickson', '001-158-522-4488'),\n",
       " (214, 'Joseph King', '001-075-006-9333x1144'),\n",
       " (215, 'Todd Burgess', '350-214-0718x26775'),\n",
       " (216, 'Rebecca Doyle', '(380)831-2905'),\n",
       " (217, 'Jocelyn Romero', '001-972-450-2756x97157'),\n",
       " (218, 'Maureen Fletcher', '001-962-857-3519'),\n",
       " (219, 'Tyler Underwood', '(679)691-0009x8847'),\n",
       " (220, 'Kevin Watkins', '(164)135-1924x8929'),\n",
       " (222, 'Angela Johnson', '712.341.8709x84209'),\n",
       " (223, 'Jessica Simon', '+1-227-763-8569'),\n",
       " (224, 'Robin Moore', '395.017.7353x31587'),\n",
       " (225, 'Todd Barrett', '400.693.7716x69327'),\n",
       " (226, 'Charles Martinez', '273-095-8434'),\n",
       " (227, 'Elaine Baker', '715.463.2957x28884'),\n",
       " (228, 'Steven Murphy', '372-852-2172'),\n",
       " (229, 'Joe Brown', '266.780.2487'),\n",
       " (230, 'Sabrina Moore', '178.979.4168x7919'),\n",
       " (231, 'Angela Petty', '(428)497-1407'),\n",
       " (232, 'Lauren Wilson', '+1-879-997-9888x6117'),\n",
       " (233, 'Sydney Ellis', '001-356-351-4468x078'),\n",
       " (234, 'Angela Huber', '972.095.6103x90923'),\n",
       " (235, 'John Weaver', '001-039-455-1956x164'),\n",
       " (236, 'Brandon Holder', '(898)302-1610'),\n",
       " (237, 'Chad Lopez', '076-683-1110x8250'),\n",
       " (238, 'Heather Macias', '(036)495-0971x87384'),\n",
       " (239, 'Ricky Perez', '(297)884-5228x83931'),\n",
       " (240, 'Roger Ray', '143.418.0077'),\n",
       " (241, 'Mr. Kevin Hancock', '610.064.4766'),\n",
       " (242, 'Kimberly Green', '099.899.7781'),\n",
       " (243, 'Karen Haynes', '4679271683'),\n",
       " (244, 'Tanya Smith', '678-581-6982x76125'),\n",
       " (245, 'Chris Crane', '001-778-585-0714x49331'),\n",
       " (246, 'Suzanne Parker', '001-670-255-4029'),\n",
       " (247, 'Susan Lowe', '+1-452-331-0694'),\n",
       " (248, 'Autumn Fowler', '532.347.4270x46278'),\n",
       " (249, 'Brenda Bennett', '+1-519-747-8049x575'),\n",
       " (251, 'Matthew Bryant', '231-920-8019x01395'),\n",
       " (252, 'Richard Duffy', '001-594-112-8529x97158'),\n",
       " (253, 'Jimmy Barr', '001-024-478-6771'),\n",
       " (254, 'Michael Evans', '001-421-265-5000x955'),\n",
       " (255, 'Melanie Harris', '639.703.3623x31644'),\n",
       " (256, 'James Meza', '001-164-680-8693x7447'),\n",
       " (257, 'Adrian Farrell', '+1-482-789-5942x356'),\n",
       " (258, 'Steven Gross', '606.057.0221x332'),\n",
       " (259, 'Daniel Wilson', '+1-393-790-7310'),\n",
       " (260, 'David Anderson', '+1-165-658-2419x41136'),\n",
       " (261, 'Scott Jackson', '001-194-482-9204x132'),\n",
       " (262, 'Robert Schmidt', '(560)274-0674'),\n",
       " (263, 'Nathan Shepard', '001-318-290-6143x1321'),\n",
       " (264, 'Sandra Santos', '(467)977-3496x416'),\n",
       " (265, 'Robin Tyler', '(114)100-8126'),\n",
       " (266, 'John Lopez', '(102)113-0796'),\n",
       " (267, 'Courtney Terry', '(837)627-7352x794'),\n",
       " (268, 'Jennifer Silva', '+1-960-116-1689'),\n",
       " (269, 'Mark Melendez', '(576)719-9083x7213'),\n",
       " (270, 'Carl George', '056.106.2334'),\n",
       " (271, 'Jeffrey Singh DDS', '627-878-8403x885'),\n",
       " (272, 'Karen Rice', '813-317-4785x1885'),\n",
       " (273, 'Dominic Kramer', '317-523-0429'),\n",
       " (274, 'Julian Stone', '001-133-913-2300x2775'),\n",
       " (275, 'Lauren Anderson', '+1-001-874-4146x76989'),\n",
       " (276, 'Kelli Steele', '+1-818-994-4825x089'),\n",
       " (278, 'Matthew Harris', '(094)211-0061x529'),\n",
       " (279, 'James Rodriguez', '001-587-474-9563x9067'),\n",
       " (280, 'Megan Wagner', '319-702-7948'),\n",
       " (281, 'Rodney Lee', '(495)682-3521x088'),\n",
       " (282, 'Laura Ferguson', '(950)675-3239'),\n",
       " (283, 'Jason Dunn', '011-082-1329x0590'),\n",
       " (286, 'Bryan Collins', '822.899.6927'),\n",
       " (288, 'Karen Ruiz', '103.448.1749'),\n",
       " (289, 'Sydney Smith', '586.701.2966'),\n",
       " (290, 'Cody Aguilar', '+1-503-030-9590x944'),\n",
       " (291, 'Ann Lee', '+1-231-392-6790x8901'),\n",
       " (292, 'Emily Day', '126.029.1823x80852'),\n",
       " (293, 'Mr. Matthew Gonzales', '001-143-334-7078x1337'),\n",
       " (294, 'Sarah Gonzalez', '001-780-742-9062'),\n",
       " (295, 'Michael Le', '(546)267-0611x8877'),\n",
       " (296, 'Leslie Ortiz', '001-137-752-7993'),\n",
       " (297, 'Christina Rivera', '+1-381-992-1967x3880'),\n",
       " (298, 'Whitney Estrada', '001-085-364-6209'),\n",
       " (299, 'Glenda Robbins', '(270)667-1561'),\n",
       " (300, 'Ronald Martin', '(216)987-9894x66253'),\n",
       " (301, 'Michael Church', '880-447-7087x3932'),\n",
       " (302, 'Raymond Mckinney', '(667)867-9154'),\n",
       " (303, 'Matthew Perez', '001-989-179-3660'),\n",
       " (304, 'Jenna Gillespie', '426.234.0030x25586'),\n",
       " (305, 'Stacey Zuniga', '(139)186-3802'),\n",
       " (306, 'Shawn Robertson', '169.690.8536x498'),\n",
       " (307, 'Doris Barnes', '9967453031'),\n",
       " (308, 'Elijah Hill', '061.133.1747'),\n",
       " (309, 'Emily Vasquez', '001-781-466-9760x59679'),\n",
       " (310, 'Sandra White', '001-907-128-9213x6645'),\n",
       " (311, 'Andrew Little', '(412)746-7771x56371'),\n",
       " (312, 'Sandra Tanner', '+1-454-537-6247x616'),\n",
       " (313, 'Terry Johnson', '949.392.5563'),\n",
       " (314, 'Janice Hammond', '001-519-751-3156x60344'),\n",
       " (315, 'Courtney Smith', '+1-849-717-5624x79741'),\n",
       " (316, 'Jamie Hines', '605-724-2835x184'),\n",
       " (317, 'Marcus Cantu', '244.388.5124x38645'),\n",
       " (318, 'Brittany Roberts', '999.561.7280x917'),\n",
       " (319, 'Tanya Watson', '+1-004-111-8748x7757'),\n",
       " (320, 'Anita Weaver', '+1-983-737-3271x55097'),\n",
       " (321, 'Rita Powell', '(583)615-6728'),\n",
       " (322, 'William Pena', '(722)363-4350x06630'),\n",
       " (323, 'Melissa Cortez', '+1-521-051-8615x475'),\n",
       " (324, 'Robert Fowler', '(020)055-7969x007'),\n",
       " (325, 'April Freeman', '866-049-1655x94284'),\n",
       " (326, 'Nicholas Hayes', '306.881.5177'),\n",
       " (327, 'Michael Green', '001-398-699-7825x214'),\n",
       " (328, 'Lori Anderson', '734.038.6012x727'),\n",
       " (329, 'Cristian Morrison', '001-646-629-0608x679'),\n",
       " (330, 'Rachel Smith', '(152)427-5813x718'),\n",
       " (331, 'Marie Long', '6385215648'),\n",
       " (333, 'Michelle Nguyen', '429.271.4787'),\n",
       " (334, 'Brian Wu', '278.464.8418'),\n",
       " (335, 'Kristen Gross', '338.317.8809x52765'),\n",
       " (336, 'Kenneth Gilmore', '(763)175-3764'),\n",
       " (337, 'Charles Wilson', '(247)479-1897x365'),\n",
       " (338, 'Cory Johnson', '+1-284-139-5220x1298'),\n",
       " (339, 'Edwin Wilson', '+1-280-798-1500x0247'),\n",
       " (340, 'Richard Flores', '001-685-117-0482'),\n",
       " (341, 'Hunter Grant', '805.554.6800'),\n",
       " (342, 'Walter Castaneda', '437.674.7225'),\n",
       " (343, 'Crystal Johnson', '001-584-001-0195'),\n",
       " (344, 'Alexander Conrad', '388.529.9811x62103'),\n",
       " (345, 'Gina Castillo', '711-834-2809'),\n",
       " (346, 'Darlene Chavez', '(938)905-9609x48783'),\n",
       " (347, 'Timothy Brewer', '778.330.0674x88912'),\n",
       " (348, 'Carrie Green', '(875)905-5510x87843'),\n",
       " (349, 'Karen Holmes', '001-403-356-3178x74344'),\n",
       " (350, 'Michelle Lewis', '163-910-9390x05797'),\n",
       " (351, 'Tanya Smith', '+1-325-209-4667'),\n",
       " (352, 'Jennifer Cox DDS', '600-153-0571x750'),\n",
       " (353, 'Carlos Allen', '001-216-216-3115x2296'),\n",
       " (354, 'Jennifer Cain', '001-131-069-5919x30217'),\n",
       " (355, 'Erin Conley', '344.913.4031x4219'),\n",
       " (356, 'Melanie Ross MD', '(646)347-2943x6407'),\n",
       " (357, 'Matthew Anderson', '(596)056-9221x4299'),\n",
       " (358, 'Kevin Thompson', '001-066-009-5472x5454'),\n",
       " (359, 'Sara Lyons', '7523346764'),\n",
       " (360, 'Kyle Wilson', '(172)705-9614x46148'),\n",
       " (361, 'Anna Mason', '106.157.6245x7645'),\n",
       " (362, 'Robert Boyd', '+1-943-175-1161x1768'),\n",
       " (363, 'Kelly Arroyo', '001-536-121-9408'),\n",
       " (364, 'Lauren Castaneda', '001-012-755-6495'),\n",
       " (365, 'Robert Hall', '632.327.8364x405'),\n",
       " (367, 'Heather Blevins', '001-877-695-5139x80398'),\n",
       " (368, 'Monica Thornton', '001-403-620-2235x6928'),\n",
       " (369, 'Rickey Greene', '765.246.6132x196'),\n",
       " (370, 'Johnny Fisher DDS', '065-763-7983'),\n",
       " (371, 'Michael Park', '+1-832-701-0308x5017'),\n",
       " (372, 'Daniel Mccoy', '+1-124-069-9843'),\n",
       " (373, 'Chad Lane', '7093581627'),\n",
       " (374, 'Sharon Wilson', '+1-818-590-1170x195'),\n",
       " (375, 'Todd Bruce', '(810)522-2258'),\n",
       " (376, 'Jennifer Chandler', '(457)054-0277x049'),\n",
       " (377, 'Rhonda Collier', '079.009.3003'),\n",
       " (378, 'Benjamin Carr', '+1-305-876-1847x6999'),\n",
       " (379, 'Heather Brown', '641.024.9757x990'),\n",
       " (380, 'Lorraine Diaz', '067-028-2756'),\n",
       " (381, 'John Hogan', '740.442.9806x80082'),\n",
       " (382, 'Morgan Stark', '312.809.4078x21730'),\n",
       " (383, 'Martin Humphrey', '001-749-354-1219x83949'),\n",
       " (384, 'Kelsey Simmons', '+1-352-648-3490x315'),\n",
       " (385, 'Teresa Hernandez', '001-383-591-9785x2615'),\n",
       " (386, 'Daniel Martin', '+1-979-862-7478'),\n",
       " (387, 'Tony Diaz', '+1-882-083-3276x939'),\n",
       " (388, 'Randall Lyons', '001-865-157-6676'),\n",
       " (389, 'Jon Hill', '(031)018-9328'),\n",
       " (390, 'Natasha Flores', '122.460.5273x575'),\n",
       " (391, 'Jeremy Williams', '+1-146-243-9750x628'),\n",
       " (392, 'Randy Hicks', '492-182-7554'),\n",
       " (393, 'Rachael Leonard', '693.539.6454'),\n",
       " (394, 'Steven Smith', '471-861-7842x495'),\n",
       " (395, 'John Morris', '941.151.0286x9460'),\n",
       " (396, 'Dana Chambers', '6566875663'),\n",
       " (397, 'Sierra Rodriguez', '741.074.1130x64652')]"
      ]
     },
     "execution_count": 13,
     "metadata": {},
     "output_type": "execute_result"
    }
   ],
   "source": [
    "cursor.execute(\"\"\" select * from contatos \"\"\")\n",
    "\n",
    "cursor.fetchall()"
   ]
  },
  {
   "cell_type": "markdown",
   "metadata": {},
   "source": [
    "# INCLUIR VÁRIOS REGISTROS  NA TABELA"
   ]
  },
  {
   "cell_type": "code",
   "execution_count": 14,
   "metadata": {},
   "outputs": [],
   "source": [
    "cursor.executemany(\"\"\"\n",
    "INSERT INTO contatos (NOME, TELEFONE)\n",
    "VALUES\n",
    "(?, ?)\"\"\", lista[1:])\n",
    "\n",
    "conexao.commit()"
   ]
  },
  {
   "cell_type": "markdown",
   "metadata": {},
   "source": [
    "# PESQUISAR OS 10 PRIMEIROS REGISTROS INCLUIDOS"
   ]
  },
  {
   "cell_type": "code",
   "execution_count": 15,
   "metadata": {},
   "outputs": [
    {
     "name": "stdout",
     "output_type": "stream",
     "text": [
      "(1, 'Stephen Davis', '345-903-3038')\n",
      "(2, 'John Swanson', '857-260-7668')\n",
      "(3, 'Rebecca Garcia', '+1-253-130-0415x067')\n",
      "(4, 'Mason Salazar', '+1-934-009-0901x4729')\n",
      "(5, 'Jeremy Woodard', '376-712-5657')\n",
      "(6, 'Brian Key', '557.015.2410x008')\n",
      "(7, 'Julia Choi', '001-305-075-9996x39840')\n",
      "(8, 'James Crane', '(350)653-4538')\n",
      "(9, 'Steven Bartlett', '001-452-169-4535x211')\n",
      "(10, 'Michael Doyle', '982-126-9947x4431')\n"
     ]
    }
   ],
   "source": [
    "cursor.execute(\"\"\"SELECT * FROM contatos;\"\"\")\n",
    "for linha in cursor.fetchall()[0:10]:\n",
    "    print(linha)"
   ]
  },
  {
   "cell_type": "markdown",
   "metadata": {},
   "source": [
    "# PESQUISAR OS NOMES QUE COMENÇAM COM P"
   ]
  },
  {
   "cell_type": "code",
   "execution_count": 16,
   "metadata": {},
   "outputs": [],
   "source": [
    "cursor.execute(\"\"\"SELECT * FROM contatos WHERE nome like 'P%';\"\"\")\n",
    "for linha in cursor.fetchall()[0:10]:\n",
    "    print(linha)"
   ]
  },
  {
   "cell_type": "markdown",
   "metadata": {},
   "source": [
    "# UPDATE"
   ]
  },
  {
   "cell_type": "code",
   "execution_count": 17,
   "metadata": {},
   "outputs": [],
   "source": [
    "cursor.execute(\"SELECT codigo from contatos where nome like'P%'\")\n",
    "\n",
    "valores = cursor.fetchall()\n",
    "\n",
    "for vl in valores:\n",
    "    sql = \"\"\"update contatos set telefone = null where codigo = {0}\"\"\".format(vl[0])\n",
    "    \n",
    "    cursor.execute(sql)\n",
    "    print(sql)\n",
    "    \n",
    "conexao.commit()"
   ]
  },
  {
   "cell_type": "code",
   "execution_count": 18,
   "metadata": {},
   "outputs": [
    {
     "data": {
      "text/plain": [
       "[]"
      ]
     },
     "execution_count": 18,
     "metadata": {},
     "output_type": "execute_result"
    }
   ],
   "source": [
    "cursor.execute(\"SELECT * from contatos where telefone is null\")\n",
    "\n",
    "cursor.fetchall()"
   ]
  },
  {
   "cell_type": "markdown",
   "metadata": {},
   "source": [
    "# DELETE"
   ]
  },
  {
   "cell_type": "code",
   "execution_count": 19,
   "metadata": {},
   "outputs": [],
   "source": [
    "cursor.execute(\"SELECT codigo from contatos where telefone is null\")\n",
    "\n",
    "valores = cursor.fetchall()\n",
    "\n",
    "for vl in valores:\n",
    "    sql = '''delete from contatos where codigo = {0}'''.format(vl[0])\n",
    "    cursor.execute(sql)\n",
    "    \n",
    "conexao.commit()"
   ]
  },
  {
   "cell_type": "code",
   "execution_count": 20,
   "metadata": {},
   "outputs": [
    {
     "data": {
      "text/plain": [
       "[]"
      ]
     },
     "execution_count": 20,
     "metadata": {},
     "output_type": "execute_result"
    }
   ],
   "source": [
    "cursor.execute(\"SELECT * from contatos where telefone is null\")\n",
    "\n",
    "cursor.fetchall()"
   ]
  },
  {
   "cell_type": "markdown",
   "metadata": {},
   "source": [
    "# CRIANDO UM BACKUP"
   ]
  },
  {
   "cell_type": "code",
   "execution_count": 21,
   "metadata": {},
   "outputs": [],
   "source": [
    "with io.open('banco_backup.sql', 'w') as f:\n",
    "    for linha in conexao.iterdump():\n",
    "        f.write('%s\\n' % linha)"
   ]
  },
  {
   "cell_type": "markdown",
   "metadata": {},
   "source": [
    "# FINALIZANDO A CONEXÃO COM BANCO DE DADOS"
   ]
  },
  {
   "cell_type": "code",
   "execution_count": 22,
   "metadata": {},
   "outputs": [],
   "source": [
    "conexao.close()"
   ]
  },
  {
   "cell_type": "markdown",
   "metadata": {},
   "source": [
    "# EXCLUIR O BANCO DE DADOS"
   ]
  },
  {
   "cell_type": "code",
   "execution_count": 23,
   "metadata": {},
   "outputs": [],
   "source": [
    "os.remove('banco.db')"
   ]
  },
  {
   "cell_type": "markdown",
   "metadata": {},
   "source": [
    "# RESTAURANDO UM BACKUP"
   ]
  },
  {
   "cell_type": "code",
   "execution_count": 24,
   "metadata": {},
   "outputs": [
    {
     "data": {
      "text/plain": [
       "<sqlite3.Cursor at 0x2063509df80>"
      ]
     },
     "execution_count": 24,
     "metadata": {},
     "output_type": "execute_result"
    }
   ],
   "source": [
    "conexao = sqlite3.connect('banco.db')\n",
    "cursor = conexao.cursor()\n",
    "\n",
    "f = io.open('banco_backup.sql', 'r')\n",
    "sql = f.read()\n",
    "cursor.executescript(sql)"
   ]
  },
  {
   "cell_type": "code",
   "execution_count": 25,
   "metadata": {},
   "outputs": [
    {
     "data": {
      "text/plain": [
       "[(1, 'Stephen Davis', '345-903-3038'),\n",
       " (2, 'John Swanson', '857-260-7668'),\n",
       " (3, 'Rebecca Garcia', '+1-253-130-0415x067'),\n",
       " (4, 'Mason Salazar', '+1-934-009-0901x4729'),\n",
       " (5, 'Jeremy Woodard', '376-712-5657'),\n",
       " (6, 'Brian Key', '557.015.2410x008'),\n",
       " (7, 'Julia Choi', '001-305-075-9996x39840'),\n",
       " (8, 'James Crane', '(350)653-4538'),\n",
       " (9, 'Steven Bartlett', '001-452-169-4535x211'),\n",
       " (10, 'Michael Doyle', '982-126-9947x4431'),\n",
       " (11, 'Laura Booth', '(369)310-3790x087'),\n",
       " (12, 'Victoria Taylor', '675.064.5270'),\n",
       " (13, 'Randy Brown', '(207)466-3517x93593'),\n",
       " (14, 'John Young', '+1-482-373-5644'),\n",
       " (16, 'Laura Dawson', '703.023.7596x200'),\n",
       " (17, 'Anthony Riley', '(891)015-9522x9562'),\n",
       " (18, 'Gina Brown', '+1-629-526-6555x6988'),\n",
       " (19, 'Jeffrey Rodriguez', '+1-748-297-0011x4652'),\n",
       " (20, 'Sara Petersen', '365-397-7009x82117'),\n",
       " (21, 'Tiffany Gomez', '+1-771-129-6710'),\n",
       " (22, 'Jason Hill', '(293)120-8341x753'),\n",
       " (23, 'Kristi Bishop', '266-104-7874x05288'),\n",
       " (25, 'Danielle Rivera', '(744)660-1941x8711'),\n",
       " (27, 'Edward Lopez', '984.268.7831x84252'),\n",
       " (28, 'Benjamin Freeman', '+1-653-398-6245x2467'),\n",
       " (29, 'Manuel Schwartz DVM', '(652)824-3696x934'),\n",
       " (30, 'Michelle Vasquez', '871-976-8779x9164'),\n",
       " (31, 'Douglas Robinson', '001-140-388-1160x967'),\n",
       " (32, 'Carrie Sims', '075-245-5291x96183'),\n",
       " (33, 'Eric Brown', '(955)090-0347'),\n",
       " (34, 'Gregory Aguilar', '032-524-7400'),\n",
       " (35, 'Jason Garcia', '846-863-6103'),\n",
       " (36, 'Martha Carroll', '363-599-3306x7821'),\n",
       " (37, 'Martha Baker', '125.632.7264x024'),\n",
       " (38, 'Thomas Crawford', '(985)012-3240'),\n",
       " (39, 'Juan Willis', '(445)021-9341'),\n",
       " (40, 'Ryan Dalton', '3628581227'),\n",
       " (41, 'Caitlin James', '198.084.0642x9828'),\n",
       " (42, 'Jermaine Foster', '(173)688-0854'),\n",
       " (43, 'Brandi Jacobson', '830-544-2848x545'),\n",
       " (44, 'Christopher Gonzales', '+1-216-603-1233x1223'),\n",
       " (45, 'Thomas Valencia', '+1-049-589-9672x17156'),\n",
       " (46, 'Andrew Harper', '481-579-4009x3040'),\n",
       " (47, 'Tyler Cobb', '748.223.7239'),\n",
       " (48, 'Ryan Thornton', '848.746.4026x21503'),\n",
       " (49, 'James Smith', '(824)610-7722x9895'),\n",
       " (50, 'Jeanette Molina', '+1-664-878-6605x5994'),\n",
       " (51, 'Gina Oconnell', '001-896-456-0334x14658'),\n",
       " (52, 'Sarah Mcguire', '001-900-200-9010x71422'),\n",
       " (53, 'Christina Robbins', '001-330-119-5783x4715'),\n",
       " (54, 'Tara Ford', '+1-650-779-5400x442'),\n",
       " (55, 'Dillon Smith', '(504)799-9223x83416'),\n",
       " (56, 'Brian Moyer', '+1-781-196-0818x3448'),\n",
       " (57, 'Justin Sanders', '314-781-3951x40686'),\n",
       " (58, 'Douglas Gonzalez', '+1-816-486-1807'),\n",
       " (59, 'David Burns', '632.730.9818x16276'),\n",
       " (60, 'Carol Hunter', '562.604.1957'),\n",
       " (61, 'Jeremy Hill', '(094)358-4817'),\n",
       " (62, 'Carol Morales', '513-782-7541x91971'),\n",
       " (63, 'Mark Barnes', '577.027.7241x625'),\n",
       " (64, 'Tonya Walker', '215.733.0567x71620'),\n",
       " (65, 'Arthur Grant', '+1-564-076-5915x2023'),\n",
       " (66, 'Brenda Hansen', '041.291.7821x080'),\n",
       " (67, 'Adrian Day', '+1-638-307-8664x6402'),\n",
       " (68, 'Edward Hall', '016-467-2610'),\n",
       " (69, 'Mrs. Toni Ball', '+1-377-387-2540x14662'),\n",
       " (70, 'Tyler Gordon', '172.459.9900x703'),\n",
       " (71, 'Kari Fields', '(785)993-1276x844'),\n",
       " (72, 'Michael Jones', '(199)091-2440x347'),\n",
       " (73, 'Jason Greene', '114-603-8010'),\n",
       " (74, 'Natalie Torres', '001-310-515-7691x671'),\n",
       " (75, 'Joshua Porter', '001-746-706-4390x19758'),\n",
       " (76, 'John Mueller', '+1-520-142-2328x37204'),\n",
       " (77, 'Timothy Paul', '(354)751-8553'),\n",
       " (78, 'Kimberly Newman', '001-345-783-2554x680'),\n",
       " (79, 'Christina Powell', '729-580-6761x3178'),\n",
       " (80, 'David Scott', '+1-962-586-1215x025'),\n",
       " (81, 'Connie House', '(754)185-2126'),\n",
       " (82, 'Anthony Moore', '352-599-7920'),\n",
       " (83, 'Kyle Oliver', '766-446-9881'),\n",
       " (84, 'Mr. Joshua Gay', '(424)558-5699x70079'),\n",
       " (85, 'Holly Steele', '116-482-2840'),\n",
       " (86, 'Jason Fuentes', '137.850.4359x244'),\n",
       " (87, 'Nicholas Fischer', '895-761-4065x76637'),\n",
       " (88, 'James Johnson', '+1-945-875-0614x1909'),\n",
       " (89, 'Lindsay Mullen', '860-836-4071x495'),\n",
       " (90, 'Renee Walker DVM', '001-336-745-5232x33082'),\n",
       " (91, 'Brandon Dunn', '001-301-107-1704x6456'),\n",
       " (92, 'Rachel Johnson', '482.333.3897'),\n",
       " (93, 'Mary Moore', '001-509-491-7299'),\n",
       " (94, 'David Frank', '(943)093-6703'),\n",
       " (95, 'Benjamin Ferguson', '+1-518-983-4999x761'),\n",
       " (96, 'Stephanie Orozco', '001-463-478-1354x580'),\n",
       " (97, 'Connor Graves', '001-025-282-6830x60102'),\n",
       " (98, 'Kayla Moore', '(130)519-7188x64248'),\n",
       " (99, 'Christopher Wilson', '155-119-0273x7444'),\n",
       " (100, 'Christina Mccormick', '3404647519'),\n",
       " (101, 'Jesse Martin', '702.848.9136'),\n",
       " (102, 'Kimberly Davis', '+1-341-043-7055'),\n",
       " (103, 'Adrienne Rodriguez', '+1-454-799-6297'),\n",
       " (104, 'Michelle Carrillo', '(049)009-7801'),\n",
       " (105, 'John Carson', '967-882-9917x5414'),\n",
       " (106, 'Gina Ramirez', '+1-845-233-9078'),\n",
       " (107, 'Kayla Copeland', '(591)921-5048x6402'),\n",
       " (108, 'Christopher Thompson', '339.088.0627x9126'),\n",
       " (109, 'Christopher Daniel', '+1-738-273-8173'),\n",
       " (110, 'Darrell Davis', '124-235-6963'),\n",
       " (111, 'Kathleen Smith', '+1-534-738-5073x96189'),\n",
       " (112, 'Juan Waller', '001-329-168-8711'),\n",
       " (113, 'Kimberly Smith', '001-111-055-2441x324'),\n",
       " (114, 'Madeline Gordon', '430.797.7347x2305'),\n",
       " (116, 'Amy Nielsen', '1389332704'),\n",
       " (117, 'Amanda Morris', '001-320-677-3154x756'),\n",
       " (118, 'Vanessa Lee', '836.292.3093'),\n",
       " (119, 'Kyle Montgomery', '(958)603-8523x0494'),\n",
       " (120, 'Jessica Holden', '(304)508-1892x14829'),\n",
       " (121, 'Tim Whitaker', '001-361-097-0439'),\n",
       " (122, 'Jorge Miller', '+1-536-142-7547x36959'),\n",
       " (123, 'Dawn Hart', '(957)241-1645x67672'),\n",
       " (124, 'Cynthia Powers', '(747)110-2999x116'),\n",
       " (125, 'Omar Turner', '001-139-246-7202x41484'),\n",
       " (126, 'Mrs. Jamie Hughes', '070-367-3296x2099'),\n",
       " (128, 'Stephen Schmidt', '506.065.2566'),\n",
       " (129, 'Kyle Wells', '883.793.2935x0350'),\n",
       " (130, 'Kathy Gibson', '(958)117-5944'),\n",
       " (131, 'Mr. Stanley Lopez', '869.221.9390x8777'),\n",
       " (132, 'John Henderson', '791.669.6915x03812'),\n",
       " (133, 'Joanna Miller', '+1-582-268-1060x80954'),\n",
       " (134, 'Michael Duncan', '994.316.9884x3761'),\n",
       " (135, 'Joseph Hoffman', '(478)615-2219'),\n",
       " (136, 'Katie Kim', '589-308-5932x9587'),\n",
       " (137, 'Wayne Wilson', '+1-738-949-5050x9622'),\n",
       " (138, 'James Sullivan', '572.744.6374'),\n",
       " (139, 'Lauren Scott', '052-035-9588x9097'),\n",
       " (140, 'William Lopez', '477-408-8338'),\n",
       " (141, 'Elizabeth Castillo', '+1-148-321-6025'),\n",
       " (142, 'Jeffrey Ramsey', '905.261.0340'),\n",
       " (143, 'Ann Patterson', '334-613-0606x6023'),\n",
       " (144, 'Tammy Patterson', '(229)123-8279x672'),\n",
       " (145, 'Jamie Harris', '(060)160-0587x4810'),\n",
       " (146, 'Duane Fields', '9903246136'),\n",
       " (147, 'Melissa Robles', '001-145-193-8101x3914'),\n",
       " (148, 'Brian Travis', '(727)013-5328x79851'),\n",
       " (149, 'Michael Williams', '001-130-211-1638x44338'),\n",
       " (150, 'Megan Perry', '+1-919-913-9826x6551'),\n",
       " (151, 'Katherine Estrada', '1462179943'),\n",
       " (152, 'Andrew Walker', '(618)360-9706'),\n",
       " (153, 'Craig Fitzgerald', '104-435-5510'),\n",
       " (154, 'James Brown DVM', '(775)978-8360x7539'),\n",
       " (155, 'Kelly Schmitt', '(548)739-0994x148'),\n",
       " (156, 'Ryan Jones', '001-868-740-1032x53012'),\n",
       " (157, 'Steven Myers', '(753)683-4842'),\n",
       " (158, 'Matthew Flynn', '1061115482'),\n",
       " (159, 'Julia Avery', '966.133.1844'),\n",
       " (160, 'Jordan Martin', '(628)967-1482x3493'),\n",
       " (161, 'Michelle Lee', '+1-258-840-7273x032'),\n",
       " (162, 'Cynthia Zamora', '681-705-1225'),\n",
       " (163, 'John Manning', '+1-404-911-6171'),\n",
       " (164, 'Debbie Cohen', '(981)494-3063x298'),\n",
       " (165, 'Christopher Salinas', '+1-647-062-5021x1095'),\n",
       " (166, 'Anne Brooks', '+1-939-756-7443x0531'),\n",
       " (167, 'Laura Coleman', '001-084-779-8073x505'),\n",
       " (168, 'Tina Green', '+1-780-055-5666x26554'),\n",
       " (169, 'Toni Rocha', '(226)524-0822x2128'),\n",
       " (170, 'Ian Cantrell', '788-894-6301'),\n",
       " (171, 'Stacy Reed', '481.297.8042'),\n",
       " (172, 'Nicole Brooks', '+1-625-625-0878x175'),\n",
       " (173, 'Keith Neal', '013-986-1683'),\n",
       " (174, 'Jose Daniel', '+1-854-060-6515x9431'),\n",
       " (175, 'Ruth Miller', '001-857-073-4643x53992'),\n",
       " (176, 'Cassandra Simpson', '001-250-787-2633x4855'),\n",
       " (177, 'Lisa Campbell', '+1-954-048-2324x367'),\n",
       " (178, 'Mrs. Megan Alvarez', '982-417-4790'),\n",
       " (179, 'Roger Wright', '756-187-1355'),\n",
       " (180, 'Jeffrey Noble', '580.250.4200x878'),\n",
       " (181, 'Mark Fernandez', '051.994.3339x2522'),\n",
       " (182, 'Allen Grant', '195-575-5240x1049'),\n",
       " (183, 'Courtney Molina', '+1-447-210-0352x360'),\n",
       " (184, 'John Kelly', '527.353.4578x1932'),\n",
       " (186, 'Robin Nelson', '934.951.4474'),\n",
       " (187, 'Johnny Stevens', '968.533.5114'),\n",
       " (188, 'Dylan Warren', '439-493-0919x63175'),\n",
       " (189, 'Beth Sampson', '812-757-7165'),\n",
       " (190, 'Jennifer Holland', '5379329039'),\n",
       " (191, 'Daniel Richardson', '(037)166-9554x09475'),\n",
       " (192, 'Kristy Heath', '+1-824-092-5716x673'),\n",
       " (193, 'Abigail Ramirez', '433.589.0922x80660'),\n",
       " (195, 'Jessica Summers', '972.679.8899x11182'),\n",
       " (196, 'Ryan Butler MD', '3489165984'),\n",
       " (197, 'Joseph Castro', '001-885-693-3001x0340'),\n",
       " (198, 'Kenneth Wood', '001-815-479-1244x096'),\n",
       " (199, 'Warren Smith', '+1-769-882-1227x34447'),\n",
       " (200, 'Angela Bailey', '(008)813-3675x587'),\n",
       " (201, 'Dennis Howard', '001-118-508-9866x652'),\n",
       " (202, 'Juan Booker', '213.734.0391'),\n",
       " (203, 'Kelly Martin', '790-748-3128x3759'),\n",
       " (204, 'Michael Sullivan', '590-136-6082x6639'),\n",
       " (205, 'Jacob Sexton', '001-222-995-3377x19666'),\n",
       " (206, 'Austin Carney', '(841)785-3813'),\n",
       " (207, 'James Taylor', '+1-473-589-8557x44299'),\n",
       " (208, 'Rodney Brown', '+1-319-157-8529'),\n",
       " (209, 'Linda Guerrero', '075-064-8456x1076'),\n",
       " (210, 'Christopher Lopez', '189.221.3407x24531'),\n",
       " (211, 'Emily Parks', '380-557-5341x81412'),\n",
       " (212, 'Stanley Miller', '001-716-593-0607'),\n",
       " (213, 'Garrett Dickson', '001-158-522-4488'),\n",
       " (214, 'Joseph King', '001-075-006-9333x1144'),\n",
       " (215, 'Todd Burgess', '350-214-0718x26775'),\n",
       " (216, 'Rebecca Doyle', '(380)831-2905'),\n",
       " (217, 'Jocelyn Romero', '001-972-450-2756x97157'),\n",
       " (218, 'Maureen Fletcher', '001-962-857-3519'),\n",
       " (219, 'Tyler Underwood', '(679)691-0009x8847'),\n",
       " (220, 'Kevin Watkins', '(164)135-1924x8929'),\n",
       " (222, 'Angela Johnson', '712.341.8709x84209'),\n",
       " (223, 'Jessica Simon', '+1-227-763-8569'),\n",
       " (224, 'Robin Moore', '395.017.7353x31587'),\n",
       " (225, 'Todd Barrett', '400.693.7716x69327'),\n",
       " (226, 'Charles Martinez', '273-095-8434'),\n",
       " (227, 'Elaine Baker', '715.463.2957x28884'),\n",
       " (228, 'Steven Murphy', '372-852-2172'),\n",
       " (229, 'Joe Brown', '266.780.2487'),\n",
       " (230, 'Sabrina Moore', '178.979.4168x7919'),\n",
       " (231, 'Angela Petty', '(428)497-1407'),\n",
       " (232, 'Lauren Wilson', '+1-879-997-9888x6117'),\n",
       " (233, 'Sydney Ellis', '001-356-351-4468x078'),\n",
       " (234, 'Angela Huber', '972.095.6103x90923'),\n",
       " (235, 'John Weaver', '001-039-455-1956x164'),\n",
       " (236, 'Brandon Holder', '(898)302-1610'),\n",
       " (237, 'Chad Lopez', '076-683-1110x8250'),\n",
       " (238, 'Heather Macias', '(036)495-0971x87384'),\n",
       " (239, 'Ricky Perez', '(297)884-5228x83931'),\n",
       " (240, 'Roger Ray', '143.418.0077'),\n",
       " (241, 'Mr. Kevin Hancock', '610.064.4766'),\n",
       " (242, 'Kimberly Green', '099.899.7781'),\n",
       " (243, 'Karen Haynes', '4679271683'),\n",
       " (244, 'Tanya Smith', '678-581-6982x76125'),\n",
       " (245, 'Chris Crane', '001-778-585-0714x49331'),\n",
       " (246, 'Suzanne Parker', '001-670-255-4029'),\n",
       " (247, 'Susan Lowe', '+1-452-331-0694'),\n",
       " (248, 'Autumn Fowler', '532.347.4270x46278'),\n",
       " (249, 'Brenda Bennett', '+1-519-747-8049x575'),\n",
       " (251, 'Matthew Bryant', '231-920-8019x01395'),\n",
       " (252, 'Richard Duffy', '001-594-112-8529x97158'),\n",
       " (253, 'Jimmy Barr', '001-024-478-6771'),\n",
       " (254, 'Michael Evans', '001-421-265-5000x955'),\n",
       " (255, 'Melanie Harris', '639.703.3623x31644'),\n",
       " (256, 'James Meza', '001-164-680-8693x7447'),\n",
       " (257, 'Adrian Farrell', '+1-482-789-5942x356'),\n",
       " (258, 'Steven Gross', '606.057.0221x332'),\n",
       " (259, 'Daniel Wilson', '+1-393-790-7310'),\n",
       " (260, 'David Anderson', '+1-165-658-2419x41136'),\n",
       " (261, 'Scott Jackson', '001-194-482-9204x132'),\n",
       " (262, 'Robert Schmidt', '(560)274-0674'),\n",
       " (263, 'Nathan Shepard', '001-318-290-6143x1321'),\n",
       " (264, 'Sandra Santos', '(467)977-3496x416'),\n",
       " (265, 'Robin Tyler', '(114)100-8126'),\n",
       " (266, 'John Lopez', '(102)113-0796'),\n",
       " (267, 'Courtney Terry', '(837)627-7352x794'),\n",
       " (268, 'Jennifer Silva', '+1-960-116-1689'),\n",
       " (269, 'Mark Melendez', '(576)719-9083x7213'),\n",
       " (270, 'Carl George', '056.106.2334'),\n",
       " (271, 'Jeffrey Singh DDS', '627-878-8403x885'),\n",
       " (272, 'Karen Rice', '813-317-4785x1885'),\n",
       " (273, 'Dominic Kramer', '317-523-0429'),\n",
       " (274, 'Julian Stone', '001-133-913-2300x2775'),\n",
       " (275, 'Lauren Anderson', '+1-001-874-4146x76989'),\n",
       " (276, 'Kelli Steele', '+1-818-994-4825x089'),\n",
       " (278, 'Matthew Harris', '(094)211-0061x529'),\n",
       " (279, 'James Rodriguez', '001-587-474-9563x9067'),\n",
       " (280, 'Megan Wagner', '319-702-7948'),\n",
       " (281, 'Rodney Lee', '(495)682-3521x088'),\n",
       " (282, 'Laura Ferguson', '(950)675-3239'),\n",
       " (283, 'Jason Dunn', '011-082-1329x0590'),\n",
       " (286, 'Bryan Collins', '822.899.6927'),\n",
       " (288, 'Karen Ruiz', '103.448.1749'),\n",
       " (289, 'Sydney Smith', '586.701.2966'),\n",
       " (290, 'Cody Aguilar', '+1-503-030-9590x944'),\n",
       " (291, 'Ann Lee', '+1-231-392-6790x8901'),\n",
       " (292, 'Emily Day', '126.029.1823x80852'),\n",
       " (293, 'Mr. Matthew Gonzales', '001-143-334-7078x1337'),\n",
       " (294, 'Sarah Gonzalez', '001-780-742-9062'),\n",
       " (295, 'Michael Le', '(546)267-0611x8877'),\n",
       " (296, 'Leslie Ortiz', '001-137-752-7993'),\n",
       " (297, 'Christina Rivera', '+1-381-992-1967x3880'),\n",
       " (298, 'Whitney Estrada', '001-085-364-6209'),\n",
       " (299, 'Glenda Robbins', '(270)667-1561'),\n",
       " (300, 'Ronald Martin', '(216)987-9894x66253'),\n",
       " (301, 'Michael Church', '880-447-7087x3932'),\n",
       " (302, 'Raymond Mckinney', '(667)867-9154'),\n",
       " (303, 'Matthew Perez', '001-989-179-3660'),\n",
       " (304, 'Jenna Gillespie', '426.234.0030x25586'),\n",
       " (305, 'Stacey Zuniga', '(139)186-3802'),\n",
       " (306, 'Shawn Robertson', '169.690.8536x498'),\n",
       " (307, 'Doris Barnes', '9967453031'),\n",
       " (308, 'Elijah Hill', '061.133.1747'),\n",
       " (309, 'Emily Vasquez', '001-781-466-9760x59679'),\n",
       " (310, 'Sandra White', '001-907-128-9213x6645'),\n",
       " (311, 'Andrew Little', '(412)746-7771x56371'),\n",
       " (312, 'Sandra Tanner', '+1-454-537-6247x616'),\n",
       " (313, 'Terry Johnson', '949.392.5563'),\n",
       " (314, 'Janice Hammond', '001-519-751-3156x60344'),\n",
       " (315, 'Courtney Smith', '+1-849-717-5624x79741'),\n",
       " (316, 'Jamie Hines', '605-724-2835x184'),\n",
       " (317, 'Marcus Cantu', '244.388.5124x38645'),\n",
       " (318, 'Brittany Roberts', '999.561.7280x917'),\n",
       " (319, 'Tanya Watson', '+1-004-111-8748x7757'),\n",
       " (320, 'Anita Weaver', '+1-983-737-3271x55097'),\n",
       " (321, 'Rita Powell', '(583)615-6728'),\n",
       " (322, 'William Pena', '(722)363-4350x06630'),\n",
       " (323, 'Melissa Cortez', '+1-521-051-8615x475'),\n",
       " (324, 'Robert Fowler', '(020)055-7969x007'),\n",
       " (325, 'April Freeman', '866-049-1655x94284'),\n",
       " (326, 'Nicholas Hayes', '306.881.5177'),\n",
       " (327, 'Michael Green', '001-398-699-7825x214'),\n",
       " (328, 'Lori Anderson', '734.038.6012x727'),\n",
       " (329, 'Cristian Morrison', '001-646-629-0608x679'),\n",
       " (330, 'Rachel Smith', '(152)427-5813x718'),\n",
       " (331, 'Marie Long', '6385215648'),\n",
       " (333, 'Michelle Nguyen', '429.271.4787'),\n",
       " (334, 'Brian Wu', '278.464.8418'),\n",
       " (335, 'Kristen Gross', '338.317.8809x52765'),\n",
       " (336, 'Kenneth Gilmore', '(763)175-3764'),\n",
       " (337, 'Charles Wilson', '(247)479-1897x365'),\n",
       " (338, 'Cory Johnson', '+1-284-139-5220x1298'),\n",
       " (339, 'Edwin Wilson', '+1-280-798-1500x0247'),\n",
       " (340, 'Richard Flores', '001-685-117-0482'),\n",
       " (341, 'Hunter Grant', '805.554.6800'),\n",
       " (342, 'Walter Castaneda', '437.674.7225'),\n",
       " (343, 'Crystal Johnson', '001-584-001-0195'),\n",
       " (344, 'Alexander Conrad', '388.529.9811x62103'),\n",
       " (345, 'Gina Castillo', '711-834-2809'),\n",
       " (346, 'Darlene Chavez', '(938)905-9609x48783'),\n",
       " (347, 'Timothy Brewer', '778.330.0674x88912'),\n",
       " (348, 'Carrie Green', '(875)905-5510x87843'),\n",
       " (349, 'Karen Holmes', '001-403-356-3178x74344'),\n",
       " (350, 'Michelle Lewis', '163-910-9390x05797'),\n",
       " (351, 'Tanya Smith', '+1-325-209-4667'),\n",
       " (352, 'Jennifer Cox DDS', '600-153-0571x750'),\n",
       " (353, 'Carlos Allen', '001-216-216-3115x2296'),\n",
       " (354, 'Jennifer Cain', '001-131-069-5919x30217'),\n",
       " (355, 'Erin Conley', '344.913.4031x4219'),\n",
       " (356, 'Melanie Ross MD', '(646)347-2943x6407'),\n",
       " (357, 'Matthew Anderson', '(596)056-9221x4299'),\n",
       " (358, 'Kevin Thompson', '001-066-009-5472x5454'),\n",
       " (359, 'Sara Lyons', '7523346764'),\n",
       " (360, 'Kyle Wilson', '(172)705-9614x46148'),\n",
       " (361, 'Anna Mason', '106.157.6245x7645'),\n",
       " (362, 'Robert Boyd', '+1-943-175-1161x1768'),\n",
       " (363, 'Kelly Arroyo', '001-536-121-9408'),\n",
       " (364, 'Lauren Castaneda', '001-012-755-6495'),\n",
       " (365, 'Robert Hall', '632.327.8364x405'),\n",
       " (367, 'Heather Blevins', '001-877-695-5139x80398'),\n",
       " (368, 'Monica Thornton', '001-403-620-2235x6928'),\n",
       " (369, 'Rickey Greene', '765.246.6132x196'),\n",
       " (370, 'Johnny Fisher DDS', '065-763-7983'),\n",
       " (371, 'Michael Park', '+1-832-701-0308x5017'),\n",
       " (372, 'Daniel Mccoy', '+1-124-069-9843'),\n",
       " (373, 'Chad Lane', '7093581627'),\n",
       " (374, 'Sharon Wilson', '+1-818-590-1170x195'),\n",
       " (375, 'Todd Bruce', '(810)522-2258'),\n",
       " (376, 'Jennifer Chandler', '(457)054-0277x049'),\n",
       " (377, 'Rhonda Collier', '079.009.3003'),\n",
       " (378, 'Benjamin Carr', '+1-305-876-1847x6999'),\n",
       " (379, 'Heather Brown', '641.024.9757x990'),\n",
       " (380, 'Lorraine Diaz', '067-028-2756'),\n",
       " (381, 'John Hogan', '740.442.9806x80082'),\n",
       " (382, 'Morgan Stark', '312.809.4078x21730'),\n",
       " (383, 'Martin Humphrey', '001-749-354-1219x83949'),\n",
       " (384, 'Kelsey Simmons', '+1-352-648-3490x315'),\n",
       " (385, 'Teresa Hernandez', '001-383-591-9785x2615'),\n",
       " (386, 'Daniel Martin', '+1-979-862-7478'),\n",
       " (387, 'Tony Diaz', '+1-882-083-3276x939'),\n",
       " (388, 'Randall Lyons', '001-865-157-6676'),\n",
       " (389, 'Jon Hill', '(031)018-9328'),\n",
       " (390, 'Natasha Flores', '122.460.5273x575'),\n",
       " (391, 'Jeremy Williams', '+1-146-243-9750x628'),\n",
       " (392, 'Randy Hicks', '492-182-7554'),\n",
       " (393, 'Rachael Leonard', '693.539.6454'),\n",
       " (394, 'Steven Smith', '471-861-7842x495'),\n",
       " (395, 'John Morris', '941.151.0286x9460'),\n",
       " (396, 'Dana Chambers', '6566875663'),\n",
       " (397, 'Sierra Rodriguez', '741.074.1130x64652'),\n",
       " (398, 'Allison Snyder', '895.467.5355x2167'),\n",
       " (399, 'Kathryn Weaver', '001-581-483-6319x584'),\n",
       " (400, 'Melissa Gonzalez', '001-955-355-7655x4070'),\n",
       " (401, 'Jennifer Hunter', '856-445-9483'),\n",
       " (402, 'Katie Johnson', '239.182.4806'),\n",
       " (403, 'Craig Brock', '(910)221-7322'),\n",
       " (404, 'Lauren Norman', '539-701-3540x4346'),\n",
       " (405, 'Tonya Howard', '152.761.0298x52487'),\n",
       " (406, 'Mary Parsons', '217-129-3009x97168'),\n",
       " (407, 'Joshua Miller', '492-956-2001x3902'),\n",
       " (408, 'Jeremy Contreras', '857-159-3286'),\n",
       " (409, 'Caroline Bennett', '001-793-203-0116x8552'),\n",
       " (410, 'Thomas Brewer', '(045)003-2416'),\n",
       " (411, 'William Edwards', '425-161-1987x06215'),\n",
       " (412, 'Kim Hartman', '(635)800-3352x1476'),\n",
       " (413, 'John Thomas', '(748)562-0735x08365'),\n",
       " (414, 'Kimberly Phillips MD', '+1-537-456-6773x661'),\n",
       " (415, 'Anthony Simon', '985.460.3416x66678'),\n",
       " (416, 'Stephanie Green MD', '540.372.5097x013'),\n",
       " (417, 'Frank Bates', '(967)789-5397x6807'),\n",
       " (418, 'Susan Benson', '(512)641-4288x5599'),\n",
       " (419, 'Jonathan Mendoza', '060-685-8011'),\n",
       " (420, 'Robert Luna', '001-294-566-1643'),\n",
       " (421, 'Kenneth Russo', '831.449.0430x72939'),\n",
       " (422, 'Wendy Ramirez', '063.669.5238x9176'),\n",
       " (423, 'Brian Wright', '720-429-4094'),\n",
       " (424, 'Bethany Diaz', '(766)933-4454'),\n",
       " (425, 'Jorge Armstrong', '191.389.9484x9025'),\n",
       " (426, 'Hannah Wilson', '641-991-5043'),\n",
       " (427, 'Kristi Lowe', '(438)869-2695x4458'),\n",
       " (428, 'Lance Smith', '874-043-4899'),\n",
       " (429, 'Amanda Vargas', '+1-285-256-1247x20293'),\n",
       " (430, 'Valerie Guerrero', '628.057.5046x927'),\n",
       " (431, 'Larry Haynes', '+1-299-151-4031x0151'),\n",
       " (432, 'Meredith King', '+1-957-798-0440x072'),\n",
       " (433, 'David Abbott', '(313)563-0427'),\n",
       " (434, 'John King', '(331)018-1642x0962'),\n",
       " (435, 'Aaron Cole', '4941631367'),\n",
       " (436, 'Brian Reese', '5590627007'),\n",
       " (437, 'Lisa Spencer', '001-820-312-1296'),\n",
       " (438, 'Jason Anderson', '405-897-9368x3722'),\n",
       " (439, 'April Robinson', '001-691-652-8645x97332'),\n",
       " (440, 'Frank Stephens', '001-826-480-2920x405'),\n",
       " (441, 'Rachel Lopez', '+1-665-918-4037x862'),\n",
       " (442, 'Cynthia Moore', '+1-487-382-1210x788'),\n",
       " (443, 'Jake Flores', '299.420.0382x86820'),\n",
       " (444, 'Ryan Coleman', '471-308-2224x0977'),\n",
       " (445, 'Michael Rollins', '885.804.0640'),\n",
       " (446, 'Todd Wood', '633.266.2545x07776'),\n",
       " (447, 'Jeffery Bryant MD', '001-069-979-9921x0467'),\n",
       " (448, 'Brittany Holloway', '001-633-324-9492x630'),\n",
       " (449, 'Brandon Davis', '986.888.1228'),\n",
       " (450, 'Thomas Lane', '293.833.8140'),\n",
       " (451, 'Desiree Carpenter', '6461779193'),\n",
       " (452, 'Daniel Patel', '+1-372-264-9290x69105'),\n",
       " (453, 'Denise Hayes', '+1-059-210-5440x229'),\n",
       " (454, 'Rick Mcguire', '311.098.4172'),\n",
       " (455, 'Frank Anderson', '001-263-030-5326x592'),\n",
       " (456, 'Eric Pierce', '+1-614-609-8002x6099'),\n",
       " (457, 'Jared Hawkins', '(134)008-2949x38185'),\n",
       " (458, 'Jack Brown', '(216)142-0927x09105'),\n",
       " (459, 'Marcia Martinez', '(045)744-2791x458'),\n",
       " (460, 'Melvin Lee', '614.555.2180x7634'),\n",
       " (461, 'Heather Nguyen', '753.780.9306x31437'),\n",
       " (462, 'Dr. Elizabeth Novak', '001-836-143-8745x265'),\n",
       " (463, 'Scott Scott', '730.983.2295'),\n",
       " (464, 'Steven Shields', '001-255-134-4180x396'),\n",
       " (465, 'Michael Alexander', '511-252-0844'),\n",
       " (466, 'Casey Johnson', '001-538-479-1894x569'),\n",
       " (467, 'Sheila Sanchez', '206-846-6394x34712'),\n",
       " (468, 'Michelle Harvey', '(718)493-4962x06320'),\n",
       " (469, 'Henry Silva', '287-241-8590x83601'),\n",
       " (470, 'Katherine Foster', '001-865-559-6626'),\n",
       " (471, 'Joseph Edwards', '001-218-848-9436x5311'),\n",
       " (472, 'Jonathan Baker', '001-316-487-7724x8855'),\n",
       " (473, 'Stacey Chavez', '(342)277-0396x54443'),\n",
       " (474, 'Alyssa Phillips', '001-188-110-4018x579'),\n",
       " (475, 'Samantha Perry', '001-845-367-2813x6530'),\n",
       " (476, 'Rita Williamson MD', '245.580.3098x672'),\n",
       " (477, 'Taylor Black', '938.530.8096x976'),\n",
       " (478, 'Steven Wright', '(422)693-4843x4911'),\n",
       " (479, 'John Sanders', '728-657-3138x420'),\n",
       " (480, 'Robert Williams', '001-987-576-1913x4210'),\n",
       " (481, 'Michael Ruiz', '+1-975-760-5303x51854'),\n",
       " (482, 'Mrs. Hannah Anderson', '+1-816-113-0470x02484'),\n",
       " (483, 'Brandon Duncan', '(206)497-1383x404'),\n",
       " (484, 'Lindsey Peters', '113.371.7216x595'),\n",
       " (485, 'Trevor Shaffer', '001-412-420-3401'),\n",
       " (486, 'Robert Jacobson', '+1-054-815-9261x429'),\n",
       " (487, 'Ashley Brown', '089-475-0119'),\n",
       " (488, 'Ashley Robles', '+1-448-094-0624x389'),\n",
       " (489, 'Rachel Miller', '(692)801-1814x560'),\n",
       " (490, 'Charles Oliver', '684.230.9091x6434'),\n",
       " (491, 'Elizabeth Montes', '+1-998-566-5504x66437'),\n",
       " (492, 'Michelle Ortiz', '242.322.2270'),\n",
       " (493, 'Angela Brown', '885-970-1159'),\n",
       " (494, 'Barbara Frederick', '9651834672'),\n",
       " (495, 'Shawn Fowler', '(872)539-9803x14730')]"
      ]
     },
     "execution_count": 25,
     "metadata": {},
     "output_type": "execute_result"
    }
   ],
   "source": [
    "cursor.execute('''select * from contatos''')\n",
    "\n",
    "cursor.fetchall()"
   ]
  },
  {
   "cell_type": "markdown",
   "metadata": {},
   "source": [
    "# FINALIZANDO A CONEXÃO COM BANCO DE DADOS"
   ]
  },
  {
   "cell_type": "code",
   "execution_count": 26,
   "metadata": {},
   "outputs": [],
   "source": [
    "conexao.close()"
   ]
  },
  {
   "cell_type": "code",
   "execution_count": null,
   "metadata": {},
   "outputs": [],
   "source": []
  },
  {
   "cell_type": "code",
   "execution_count": null,
   "metadata": {},
   "outputs": [],
   "source": []
  },
  {
   "cell_type": "code",
   "execution_count": null,
   "metadata": {},
   "outputs": [],
   "source": []
  },
  {
   "cell_type": "code",
   "execution_count": null,
   "metadata": {},
   "outputs": [],
   "source": []
  },
  {
   "cell_type": "code",
   "execution_count": null,
   "metadata": {},
   "outputs": [],
   "source": []
  }
 ],
 "metadata": {
  "kernelspec": {
   "display_name": "Python 3",
   "language": "python",
   "name": "python3"
  },
  "language_info": {
   "codemirror_mode": {
    "name": "ipython",
    "version": 3
   },
   "file_extension": ".py",
   "mimetype": "text/x-python",
   "name": "python",
   "nbconvert_exporter": "python",
   "pygments_lexer": "ipython3",
   "version": "3.7.7"
  }
 },
 "nbformat": 4,
 "nbformat_minor": 4
}
