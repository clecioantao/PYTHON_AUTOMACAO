{
 "cells": [
  {
   "cell_type": "code",
   "execution_count": null,
   "metadata": {},
   "outputs": [],
   "source": []
  },
  {
   "cell_type": "code",
   "execution_count": null,
   "metadata": {},
   "outputs": [],
   "source": []
  },
  {
   "cell_type": "code",
   "execution_count": 1,
   "metadata": {},
   "outputs": [],
   "source": [
    "import smtplib\n",
    "import mimetypes\n",
    "import os\n",
    "from email import encoders\n",
    "from email.mime.text import MIMEText\n",
    "from email.mime.audio import MIMEAudio\n",
    "from email.mime.base import MIMEBase\n",
    "from email.mime.image import MIMEImage\n",
    "from email.mime.multipart import MIMEMultipart"
   ]
  },
  {
   "cell_type": "code",
   "execution_count": null,
   "metadata": {},
   "outputs": [],
   "source": []
  },
  {
   "cell_type": "markdown",
   "metadata": {},
   "source": [
    "# CONFIGURAÇÃO DO SERVIDOR DE E-MAIL"
   ]
  },
  {
   "cell_type": "markdown",
   "metadata": {},
   "source": [
    "https://www.google.com/settings/security/lesssecureapps"
   ]
  },
  {
   "cell_type": "code",
   "execution_count": null,
   "metadata": {},
   "outputs": [],
   "source": []
  },
  {
   "cell_type": "code",
   "execution_count": 2,
   "metadata": {},
   "outputs": [],
   "source": [
    "def emailgoogle(destinatario, titulo, mensagemTXT):\n",
    "    '''FUNÇÃO PARA ENVIAR E-MAIL TEXTO'''\n",
    "\n",
    "    try:\n",
    "        # CONFIGURAÇÕES DO SERVIDOR DE E-MAIL\n",
    "        smtp_ssl_host = 'smtp.gmail.com'\n",
    "        smtp_ssl_port = '465'\n",
    "        \n",
    "        # CONFIGURAÇÕES DA CONTA LOGIN E SENHA\n",
    "        username = 'assessoria.prorh@uftm.edu.br'\n",
    "        password = 'agrh2019'\n",
    "\n",
    "        # E-MAIL DO REMETENTE\n",
    "        from_addr = 'assessoria.prorh@uftm.edu.br'\n",
    "        \n",
    "        # E-MAIL DO DESTINATÁRIO\n",
    "        to_addrs = destinatario\n",
    "\n",
    "        # USA A MÓDULO MINETEXT MONTRA O TEMPLATES DA MENSAGEM \n",
    "        mensagem = MIMEText(mensagemTXT)\n",
    "        mensagem['subject'] = titulo\n",
    "        mensagem['from'] = from_addr\n",
    "        mensagem['to'] = ', '.join(to_addrs)\n",
    "\n",
    "        # CRIA A CONEXÃO COM O SERVIDOR DE E-MAIL\n",
    "        server = smtplib.SMTP_SSL(smtp_ssl_host, smtp_ssl_port)\n",
    "        \n",
    "        # FAZ O LOGIN NO SERVIDOR DE E-MAIL\n",
    "        server.login(username, password)\n",
    "        \n",
    "        # ENVIA A MENSAGEM\n",
    "        server.sendmail(from_addr, to_addrs, mensagem.as_string())\n",
    "        \n",
    "        # SAIR DO SERVIDOR\n",
    "        server.quit()\n",
    "        \n",
    "        print('E-mail enviado.')\n",
    "    except:\n",
    "        print('Erro ao enviar e-mail!')"
   ]
  },
  {
   "cell_type": "code",
   "execution_count": null,
   "metadata": {},
   "outputs": [],
   "source": []
  },
  {
   "cell_type": "code",
   "execution_count": null,
   "metadata": {},
   "outputs": [],
   "source": []
  },
  {
   "cell_type": "code",
   "execution_count": 3,
   "metadata": {},
   "outputs": [],
   "source": [
    "def emailgoogleanexo(destinatario, titulo, mensagemTXT, anexo):\n",
    "    '''FUNÇÃO PARA ENVIAR E-MAIL COM ANEXO'''\n",
    "\n",
    "    def adiciona_anexo(msg, filename):\n",
    "        '''VERIFICA SE O ARQUIVO EXISTE PARA ANEXAR'''\n",
    "        if not os.path.isfile(filename):\n",
    "            print(filename, 'Arquivo não encontrado.')\n",
    "            return 0\n",
    "\n",
    "        # VERIFICAR O TIPO DO ARQUIVO\n",
    "        ctype, encoding = mimetypes.guess_type(filename)\n",
    "\n",
    "        if ctype is None or encoding is not None:\n",
    "            ctype = 'application/octet-stream'\n",
    "\n",
    "        maintype, subtype = ctype.split('/', 1)\n",
    "\n",
    "        # ANEXA CONFORME O TIPO DO ARQUIVO\n",
    "        if maintype == 'text':\n",
    "            with open(filename) as f:\n",
    "                mime = MIMEText(f.read(), _subtype=subtype)\n",
    "        elif maintype == 'image':\n",
    "            with open(filename, 'rb') as f:\n",
    "                mime = MIMEImage(f.read(), _subtype=subtype)\n",
    "        elif maintype == 'audio':\n",
    "            with open(filename, 'rb') as f:\n",
    "                mime = MIMEAudio(f.read(), _subtype=subtype)\n",
    "        elif maintype == 'csv':\n",
    "            with open(filename, 'rb') as f:\n",
    "                mime = MIMEText(f.read(), _subtype='csv')\n",
    "        else:\n",
    "            with open(filename, 'rb') as f:\n",
    "                mime = MIMEBase(maintype, subtype)\n",
    "                mime.set_payload(f.read())\n",
    "\n",
    "            encoders.encode_base64(mime)\n",
    "\n",
    "        mime.add_header('Content-Disposition', 'attachment', filename=filename)\n",
    "        \n",
    "        msg.attach(mime)\n",
    "\n",
    "    try:\n",
    "        # CONFIGURAÇÕES DO SERVIDOR DE E-MAIL\n",
    "        smtp_ssl_host = 'smtp.gmail.com'\n",
    "        smtp_ssl_port = '465'\n",
    "        \n",
    "        # CONFIGURAÇÕES DA CONTA LOGIN E SENHA\n",
    "        username = 'assessoria.prorh@uftm.edu.br'\n",
    "        password = 'agrh2019'\n",
    "\n",
    "        # E-MAIL DO REMETENTE\n",
    "        from_addr = 'assessoria.prorh@uftm.edu.br'\n",
    "        \n",
    "        # E-MAIL DO DESTINATÁRIO\n",
    "        to_addrs = destinatario\n",
    "\n",
    "        # USA A MÓDULO MINETEXT MONTRA O TEMPLATES DA MENSAGEM \n",
    "        mensagem = MIMEMultipart()\n",
    "        mensagem['subject'] = titulo\n",
    "        mensagem['from'] = from_addr\n",
    "        mensagem['to'] = ', '.join(to_addrs)\n",
    "        \n",
    "        # ADICIONAR MENSAGEM\n",
    "        mensagem.attach(MIMEText(mensagemTXT))\n",
    "        \n",
    "        # ADICIONAR O ANEXO\n",
    "        vl = adiciona_anexo(mensagem, anexo)\n",
    "        \n",
    "        if vl != 0:\n",
    "            # CRIA A CONEXÃO COM O SERVIDOR DE E-MAIL\n",
    "            server = smtplib.SMTP_SSL(smtp_ssl_host, smtp_ssl_port)\n",
    "\n",
    "            # FAZ O LOGIN NO SERVIDOR DE E-MAIL\n",
    "            server.login(username, password)\n",
    "\n",
    "            # ENVIA A MENSAGEM\n",
    "            server.sendmail(from_addr, to_addrs, mensagem.as_string())\n",
    "\n",
    "            # SAIR DO SERVIDOR\n",
    "            server.quit()\n",
    "\n",
    "            print('E-mail enviado.')\n",
    "    except:\n",
    "        print('Erro ao enviar e-mail!')\n"
   ]
  },
  {
   "cell_type": "code",
   "execution_count": null,
   "metadata": {},
   "outputs": [],
   "source": []
  },
  {
   "cell_type": "code",
   "execution_count": null,
   "metadata": {},
   "outputs": [],
   "source": []
  },
  {
   "cell_type": "code",
   "execution_count": null,
   "metadata": {},
   "outputs": [],
   "source": []
  },
  {
   "cell_type": "code",
   "execution_count": null,
   "metadata": {},
   "outputs": [],
   "source": []
  },
  {
   "cell_type": "code",
   "execution_count": null,
   "metadata": {},
   "outputs": [],
   "source": []
  },
  {
   "cell_type": "code",
   "execution_count": null,
   "metadata": {},
   "outputs": [],
   "source": []
  },
  {
   "cell_type": "code",
   "execution_count": null,
   "metadata": {},
   "outputs": [],
   "source": []
  },
  {
   "cell_type": "code",
   "execution_count": null,
   "metadata": {},
   "outputs": [],
   "source": []
  },
  {
   "cell_type": "code",
   "execution_count": null,
   "metadata": {},
   "outputs": [],
   "source": []
  },
  {
   "cell_type": "code",
   "execution_count": null,
   "metadata": {},
   "outputs": [],
   "source": []
  }
 ],
 "metadata": {
  "kernelspec": {
   "display_name": "Python 3",
   "language": "python",
   "name": "python3"
  },
  "language_info": {
   "codemirror_mode": {
    "name": "ipython",
    "version": 3
   },
   "file_extension": ".py",
   "mimetype": "text/x-python",
   "name": "python",
   "nbconvert_exporter": "python",
   "pygments_lexer": "ipython3",
   "version": "3.7.7"
  }
 },
 "nbformat": 4,
 "nbformat_minor": 4
}
