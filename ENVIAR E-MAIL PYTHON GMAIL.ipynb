{
 "cells": [
  {
   "cell_type": "markdown",
   "metadata": {},
   "source": [
    "# ENVIAR E-MAIL PYTHON GMAIL"
   ]
  },
  {
   "cell_type": "markdown",
   "metadata": {},
   "source": [
    "# CONFIGURAÇÃO DO SERVIÇO DO GOOGLE"
   ]
  },
  {
   "cell_type": "markdown",
   "metadata": {},
   "source": [
    "https://myaccount.google.com/lesssecureapps?pli=1"
   ]
  },
  {
   "cell_type": "markdown",
   "metadata": {},
   "source": [
    "# IMPORTAR MÓDULOS"
   ]
  },
  {
   "cell_type": "code",
   "execution_count": 1,
   "metadata": {},
   "outputs": [],
   "source": [
    "import smtplib\n",
    "import mimetypes\n",
    "import os\n",
    "\n",
    "from email import encoders\n",
    "from email.mime.text import MIMEText\n",
    "from email.mime.audio import MIMEAudio\n",
    "from email.mime.base import MIMEBase\n",
    "from email.mime.image import MIMEImage\n",
    "from email.mime.multipart import MIMEMultipart"
   ]
  },
  {
   "cell_type": "markdown",
   "metadata": {},
   "source": [
    "# E-MAIL TEXTO"
   ]
  },
  {
   "cell_type": "code",
   "execution_count": 2,
   "metadata": {},
   "outputs": [],
   "source": [
    "def emailgoogle(destinatario, titulo, mensagemTXT):\n",
    "    '''FUNÇÃO PARA ENVIAR E-MAIL TEXTO'''\n",
    "    \n",
    "    try:\n",
    "        # CONFIGURAÇÕES DO SERVIDOR DE E-MAIL\n",
    "        smtp_ssl_host = 'smtp.gmail.com'\n",
    "        smtp_ssl_port = '465'\n",
    "        \n",
    "        # CONFIGURAÇÕES DA CONTA LOGIN E SENHA\n",
    "        username = 'pythontouso@gmail.com'\n",
    "        password = '2020Abacaxi2020'\n",
    "        \n",
    "        # E-MAIL DO REMETENTE\n",
    "        from_addr = 'pythontouso@gmail.com'\n",
    "        \n",
    "        # E-MAIL DO DESTINATÁRIO\n",
    "        to_addrs = destinatario\n",
    "        \n",
    "        # USAR O MÓDULO MENETEXT PARA MONTAR O TEMPLATES DA MENSAGEM\n",
    "        mensagem = MIMEText(mensagemTXT)\n",
    "        mensagem['subject'] = titulo\n",
    "        mensagem['from'] = from_addr\n",
    "        mensagem['to'] = ', '.join(to_addrs)\n",
    "        \n",
    "        # CRIAR A CONEXÃO COM O SERVIDOR DE E-MAIL\n",
    "        server = smtplib.SMTP_SSL(smtp_ssl_host, smtp_ssl_port)\n",
    "        \n",
    "        # FAZER O LOGIN NO SERVIDOR DE E-MAIL\n",
    "        server.login(username, password)\n",
    "        \n",
    "        # ENVIAR A MENSAGEM\n",
    "        server.sendmail(from_addr, to_addrs, mensagem.as_string())\n",
    "        \n",
    "        # SAIR DO SERVIDOR\n",
    "        server.quit()        \n",
    "        \n",
    "        \n",
    "        print('E-mail enviado.')\n",
    "    except:\n",
    "        print('Erro ao enviar e-mail')"
   ]
  },
  {
   "cell_type": "markdown",
   "metadata": {},
   "source": [
    "# TESTE ENVIO DE E-MAIL"
   ]
  },
  {
   "cell_type": "code",
   "execution_count": 8,
   "metadata": {},
   "outputs": [],
   "source": [
    "lista = '''pythontouso@gmail.com\n",
    "pythontouso@gmail.com\n",
    "pythontouso@gmail.com'''\n",
    "\n",
    "lista = lista.split('\\n')"
   ]
  },
  {
   "cell_type": "code",
   "execution_count": 9,
   "metadata": {},
   "outputs": [
    {
     "data": {
      "text/plain": [
       "['pythontouso@gmail.com', 'pythontouso@gmail.com', 'pythontouso@gmail.com']"
      ]
     },
     "execution_count": 9,
     "metadata": {},
     "output_type": "execute_result"
    }
   ],
   "source": [
    "lista"
   ]
  },
  {
   "cell_type": "code",
   "execution_count": 10,
   "metadata": {},
   "outputs": [
    {
     "name": "stdout",
     "output_type": "stream",
     "text": [
      "E-mail enviado.\n"
     ]
    }
   ],
   "source": [
    "emailgoogle(lista, 'Teste', 'Boa tarde!\\nTeste de e-mail com python\\n: )')"
   ]
  },
  {
   "cell_type": "code",
   "execution_count": 11,
   "metadata": {},
   "outputs": [
    {
     "name": "stdout",
     "output_type": "stream",
     "text": [
      "E-mail enviado.\n"
     ]
    }
   ],
   "source": [
    "emailgoogle(lista[0], 'Teste', 'Boa tarde!\\nMais um teste de e-mail com python\\n: )')"
   ]
  },
  {
   "cell_type": "code",
   "execution_count": 12,
   "metadata": {},
   "outputs": [
    {
     "name": "stdout",
     "output_type": "stream",
     "text": [
      "E-mail enviado.\n",
      "E-mail enviado.\n",
      "E-mail enviado.\n"
     ]
    }
   ],
   "source": [
    "contador = 0\n",
    "for email in lista:\n",
    "    emailgoogle([email], 'Teste {0}'.format(contador), 'Boa tarde!\\nMais um loop de teste de e-mail com python\\n: P')\n",
    "    contador += 1"
   ]
  },
  {
   "cell_type": "markdown",
   "metadata": {},
   "source": [
    "# E-MAIL TEXTO COM ANEXO"
   ]
  },
  {
   "cell_type": "code",
   "execution_count": 34,
   "metadata": {},
   "outputs": [],
   "source": [
    "def emailgoogleAnexo(destinatario, titulo, mensagemTXT, anexo):\n",
    "    '''FUNÇÃO PARA ENVIAR E-MAIL TEXTO'''\n",
    "    \n",
    "    try:\n",
    "        def adiciona_anexo(msg, filename):\n",
    "            '''VERIFICA SE O ARQUIVO EXISTE E ANEXA O ARQUIVO NO E-MAIL'''\n",
    "            \n",
    "            if not os.path.isfile(filename):\n",
    "                print(filename, 'Arquivo não encontrado')\n",
    "                return 0\n",
    "            \n",
    "            # VERIFICA O TIPO DO ARQUIVO\n",
    "            ctype, encoding = mimetypes.guess_type(filename)\n",
    "            \n",
    "            if ctype is None or encoding is not None:\n",
    "                ctype = 'application/octet-stream'\n",
    "                \n",
    "            maintype, subtyp = ctype.split('/', 1)\n",
    "            \n",
    "            # ANEXA O ARQUIVO CONFORME O TIPO DO ARQUIVO\n",
    "            if maintype == 'text':\n",
    "                with open(filename) as f:\n",
    "                    mime = MIMEText(f.read(), _subtype=subtyp)\n",
    "            elif maintype == 'image':\n",
    "                with open(filename, 'rb') as f:\n",
    "                    mime = MIMEImage(f.read(), _subtype=subtyp)\n",
    "            elif maintype == 'audio':\n",
    "                with open(filename, 'rb') as f:\n",
    "                    mime = MIMEAudio(f.read(), _subtype=subtyp)\n",
    "            elif maintype == 'csv':\n",
    "                with open(filename, 'rb') as f:\n",
    "                    mime = MIMEText(f.read(), _subtype=subtyp)\n",
    "            else:\n",
    "                with open(filename, 'rb') as f:\n",
    "                    mime = MIMEBase(maintype, subtyp)\n",
    "                    mime.set_payload(f.read())\n",
    "                    \n",
    "                encoders.encode_base64(mime)\n",
    "                \n",
    "            mime.add_header('Content-Disposition', 'attachment', filename=filename)\n",
    "            \n",
    "            msg.attach(mime)\n",
    "            \n",
    "        \n",
    "        \n",
    "        # CONFIGURAÇÕES DO SERVIDOR DE E-MAIL\n",
    "        smtp_ssl_host = 'smtp.gmail.com'\n",
    "        smtp_ssl_port = '465'\n",
    "        \n",
    "        # CONFIGURAÇÕES DA CONTA LOGIN E SENHA\n",
    "        username = 'pythontouso@gmail.com'\n",
    "        password = '2020Abacaxi2020'\n",
    "        \n",
    "        # E-MAIL DO REMETENTE\n",
    "        from_addr = 'pythontouso@gmail.com'\n",
    "        \n",
    "        # E-MAIL DO DESTINATÁRIO\n",
    "        to_addrs = destinatario\n",
    "        \n",
    "        # USAR O MÓDULO MENETEXT PARA MONTAR O TEMPLATES DA MENSAGEM\n",
    "        mensagem = MIMEMultipart()\n",
    "        mensagem['subject'] = titulo\n",
    "        mensagem['from'] = from_addr\n",
    "        mensagem['to'] = ', '.join(to_addrs)\n",
    "        \n",
    "        # ADICIONAR MENSAGEM\n",
    "        mensagem.attach(MIMEText(mensagemTXT))\n",
    "        \n",
    "        # ADICIONAR O ANEXO\n",
    "        vl = adiciona_anexo(mensagem, anexo)\n",
    "        \n",
    "        if vl != 0:\n",
    "            # CRIAR A CONEXÃO COM O SERVIDOR DE E-MAIL\n",
    "            server = smtplib.SMTP_SSL(smtp_ssl_host, smtp_ssl_port)\n",
    "\n",
    "            # FAZER O LOGIN NO SERVIDOR DE E-MAIL\n",
    "            server.login(username, password)\n",
    "\n",
    "            # ENVIAR A MENSAGEM\n",
    "            server.sendmail(from_addr, to_addrs, mensagem.as_string())\n",
    "\n",
    "            # SAIR DO SERVIDOR\n",
    "            server.quit()        \n",
    "        \n",
    "        \n",
    "        print('E-mail enviado.')\n",
    "    except:\n",
    "        print('Erro ao enviar e-mail')"
   ]
  },
  {
   "cell_type": "markdown",
   "metadata": {},
   "source": [
    "# TESTE E-MAIL COM ANEXO"
   ]
  },
  {
   "cell_type": "code",
   "execution_count": 30,
   "metadata": {},
   "outputs": [
    {
     "data": {
      "text/plain": [
       "['pythontouso@gmail.com', 'pythontouso@gmail.com', 'pythontouso@gmail.com']"
      ]
     },
     "execution_count": 30,
     "metadata": {},
     "output_type": "execute_result"
    }
   ],
   "source": [
    "lista"
   ]
  },
  {
   "cell_type": "code",
   "execution_count": 31,
   "metadata": {},
   "outputs": [
    {
     "data": {
      "text/plain": [
       "['.ipynb_checkpoints',\n",
       " '2020 alunos.csv',\n",
       " '2020 Nomes.txt',\n",
       " 'backup',\n",
       " 'BANCO DE DADOS.ipynb',\n",
       " 'banco.db',\n",
       " 'banco_backup.sql',\n",
       " 'enve',\n",
       " 'ENVIAR E-MAIL PYTHON GMAIL.ipynb',\n",
       " 'ESTATÍSTICA INICIAL.ipynb',\n",
       " 'MANIPULAÇÃO DE ARQUIVOS.ipynb',\n",
       " 'requerimentos.txt']"
      ]
     },
     "execution_count": 31,
     "metadata": {},
     "output_type": "execute_result"
    }
   ],
   "source": [
    "os.listdir()"
   ]
  },
  {
   "cell_type": "code",
   "execution_count": 35,
   "metadata": {},
   "outputs": [
    {
     "name": "stdout",
     "output_type": "stream",
     "text": [
      "E-mail enviado.\n"
     ]
    }
   ],
   "source": [
    "emailgoogleAnexo([lista[0]], 'Teste anexo', 'Teste de anexo', '2020 alunos.csv')"
   ]
  },
  {
   "cell_type": "code",
   "execution_count": 33,
   "metadata": {},
   "outputs": [
    {
     "name": "stdout",
     "output_type": "stream",
     "text": [
      "E-mail enviado.\n",
      "E-mail enviado.\n",
      "E-mail enviado.\n"
     ]
    }
   ],
   "source": [
    "for email in lista:\n",
    "    emailgoogleAnexo([email], 'Teste anexo for', 'Teste de anexo', '2020 alunos.csv')"
   ]
  },
  {
   "cell_type": "code",
   "execution_count": null,
   "metadata": {},
   "outputs": [],
   "source": []
  },
  {
   "cell_type": "code",
   "execution_count": null,
   "metadata": {},
   "outputs": [],
   "source": []
  },
  {
   "cell_type": "code",
   "execution_count": null,
   "metadata": {},
   "outputs": [],
   "source": []
  },
  {
   "cell_type": "code",
   "execution_count": null,
   "metadata": {},
   "outputs": [],
   "source": []
  },
  {
   "cell_type": "code",
   "execution_count": null,
   "metadata": {},
   "outputs": [],
   "source": []
  },
  {
   "cell_type": "code",
   "execution_count": null,
   "metadata": {},
   "outputs": [],
   "source": []
  },
  {
   "cell_type": "code",
   "execution_count": null,
   "metadata": {},
   "outputs": [],
   "source": []
  },
  {
   "cell_type": "code",
   "execution_count": null,
   "metadata": {},
   "outputs": [],
   "source": []
  }
 ],
 "metadata": {
  "kernelspec": {
   "display_name": "Python 3",
   "language": "python",
   "name": "python3"
  },
  "language_info": {
   "codemirror_mode": {
    "name": "ipython",
    "version": 3
   },
   "file_extension": ".py",
   "mimetype": "text/x-python",
   "name": "python",
   "nbconvert_exporter": "python",
   "pygments_lexer": "ipython3",
   "version": "3.7.7"
  }
 },
 "nbformat": 4,
 "nbformat_minor": 4
}
